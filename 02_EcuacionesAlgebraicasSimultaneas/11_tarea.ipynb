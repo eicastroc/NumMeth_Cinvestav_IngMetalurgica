{
 "cells": [
  {
   "cell_type": "code",
   "execution_count": 2,
   "metadata": {},
   "outputs": [],
   "source": [
    "import numpy as np\n",
    "import matplotlib.pyplot as plt\n",
    "from scipy.linalg import solve"
   ]
  },
  {
   "cell_type": "markdown",
   "metadata": {},
   "source": [
    "# Métodos numéricos"
   ]
  },
  {
   "cell_type": "markdown",
   "metadata": {},
   "source": [
    "<img src=\"figures/LogoCinvestav.png\" style=\"height:100px\" title=\"Cinvestav\">"
   ]
  },
  {
   "cell_type": "markdown",
   "metadata": {},
   "source": [
    "**CINVESTAV Unidad Saltillo**\n",
    "\n",
    "**Curso Propedeutico del Programa de Maestría en Ciencias en Ingeniería Metalúrgica**\n",
    "\n",
    "Dr. Edgar Ivan Castro Cedeño\n",
    "\n",
    "\n",
    "Enero - Junio 2025\n",
    "\n",
    "Contacto:\n",
    "[edgar.castro@cinvestav.mx](mailto:edgar.castro@cinvestav.mx)"
   ]
  },
  {
   "cell_type": "markdown",
   "metadata": {},
   "source": [
    "# 1"
   ]
  },
  {
   "cell_type": "markdown",
   "metadata": {},
   "source": [
    "Dado el sistema de ecuaciones:"
   ]
  },
  {
   "cell_type": "markdown",
   "metadata": {},
   "source": [
    "$$10 x_1 + 2 x_2 - x_3  =  27$$\n",
    "$$-3 x_1 - 6 x_2 + 2 x_3  =  -61.5$$\n",
    "$$x_1 + x_2 + 5 x_3  =  -21.5$$"
   ]
  },
  {
   "cell_type": "markdown",
   "metadata": {},
   "source": [
    "**(a)** Resuelva el sistema mediante Eliminación Gaussiana. Muestre todos los pasos para la resolución.\n",
    "\n",
    "**(b)** Verifique sus respuestas sustituyendo los valores encontrados en las ecuaciones originales."
   ]
  },
  {
   "cell_type": "markdown",
   "metadata": {},
   "source": [
    "## solución `scipy`"
   ]
  },
  {
   "cell_type": "markdown",
   "metadata": {},
   "source": [
    "- Sistema de ecuaciones en forma matricial:\n",
    "\n",
    "$$\\begin{bmatrix} 10 & 2 & -1 \\\\ -3 & -6 & 2 \\\\ 1 & 1 & 5 \\end{bmatrix}\n",
    "\\begin{bmatrix} x_1 \\\\ x_2 \\\\ x_3\\end{bmatrix}\n",
    "= \\begin{bmatrix}27 \\\\ -61.5 \\\\ -21.5\\end{bmatrix}$$"
   ]
  },
  {
   "cell_type": "code",
   "execution_count": null,
   "metadata": {},
   "outputs": [],
   "source": []
  },
  {
   "cell_type": "markdown",
   "metadata": {},
   "source": [
    "# 2)"
   ]
  },
  {
   "cell_type": "markdown",
   "metadata": {},
   "source": [
    "Un ingeniero eléctrico supervisa la producción de tres tipos de componentes eléctricos. Se requieren tres tipos de materiales para producir el componente: metal, plástico y caucho. Las cantidades requeridas para cada componente son:"
   ]
  },
  {
   "cell_type": "markdown",
   "metadata": {},
   "source": [
    "<center>\n",
    "\n",
    "\n",
    "| Componente | Metal [g] | Plástico [g] | Caucho [g] |\n",
    "|------------|-----------|--------------|------------|\n",
    "| 1 | 15 | 0.25 | 1.0 |\n",
    "| 2 | 17 | 0.33 | 1.2 |\n",
    "| 3 | 19 | 0.42 | 1.6 |\n",
    "\n",
    "</center>"
   ]
  },
  {
   "cell_type": "markdown",
   "metadata": {},
   "source": [
    "Si se tienen disponibles cada dia $2.12$, $0.0434$ y $0.164$ kg de metal, plástico y caucho. ¿Cuántos componentes se pueden producir diariamente?"
   ]
  },
  {
   "cell_type": "markdown",
   "metadata": {},
   "source": [
    "## Plantear el sistema de ecuaciones"
   ]
  },
  {
   "cell_type": "code",
   "execution_count": null,
   "metadata": {},
   "outputs": [],
   "source": []
  },
  {
   "cell_type": "markdown",
   "metadata": {},
   "source": [
    "## Escribir el sistema en forma matricial y resolverlo"
   ]
  },
  {
   "cell_type": "code",
   "execution_count": null,
   "metadata": {},
   "outputs": [],
   "source": []
  }
 ],
 "metadata": {
  "kernelspec": {
   "display_name": "Python 3",
   "language": "python",
   "name": "python3"
  },
  "language_info": {
   "codemirror_mode": {
    "name": "ipython",
    "version": 3
   },
   "file_extension": ".py",
   "mimetype": "text/x-python",
   "name": "python",
   "nbconvert_exporter": "python",
   "pygments_lexer": "ipython3",
   "version": "3.10.12"
  }
 },
 "nbformat": 4,
 "nbformat_minor": 2
}
