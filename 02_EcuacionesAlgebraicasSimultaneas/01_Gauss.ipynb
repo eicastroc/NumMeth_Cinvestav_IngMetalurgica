{
 "cells": [
  {
   "cell_type": "code",
   "execution_count": 2,
   "metadata": {},
   "outputs": [],
   "source": [
    "import numpy as np\n",
    "import matplotlib.pyplot as plt\n",
    "from scipy.linalg import solve\n",
    "from scipy.optimize import fsolve"
   ]
  },
  {
   "cell_type": "markdown",
   "metadata": {},
   "source": [
    "# Métodos numéricos"
   ]
  },
  {
   "cell_type": "markdown",
   "metadata": {},
   "source": [
    "<img src=\"figures/LogoCinvestav.png\" style=\"height:100px\" title=\"Cinvestav\">"
   ]
  },
  {
   "cell_type": "markdown",
   "metadata": {},
   "source": [
    "**CINVESTAV Unidad Saltillo**\n",
    "\n",
    "**Curso Propedeutico del Programa de Maestría en Ciencias en Ingeniería Metalúrgica**\n",
    "\n",
    "Dr. Edgar Ivan Castro Cedeño\n",
    "\n",
    "Contacto:\n",
    "[edgar.castro@cinvestav.mx](mailto:edgar.castro@cinvestav.mx)"
   ]
  },
  {
   "cell_type": "markdown",
   "metadata": {},
   "source": [
    "## 2.1 Método de Gauss"
   ]
  },
  {
   "cell_type": "markdown",
   "metadata": {},
   "source": [
    "### 2.1.1 Explicación del método"
   ]
  },
  {
   "cell_type": "markdown",
   "metadata": {},
   "source": [
    "Considere un sistema de $n$-ecuaciones algebráicas lineales simultáneas con $n$-variables escritos como:"
   ]
  },
  {
   "cell_type": "markdown",
   "metadata": {},
   "source": [
    "$$\n",
    "\\begin{matrix}\n",
    "a_{11} x_1 + a_{12} x_2 + a_{13} x_3 + \\cdots + a_{1n} x_n & = b_1 \\\\\n",
    "a_{21} x_1 + a_{22} x_2 + a_{23} x_3 + \\cdots + a_{2n} x_n & = b_2 \\\\\n",
    "a_{31} x_1 + a_{32} x_2 + a_{33} x_3 + \\cdots + a_{3n} x_n & = b_3 \\\\\n",
    "\\vdots & \\vdots \\\\\n",
    "a_{n1} x_1 + a_{n2} x_2 + a_{n3} x_3 + \\cdots + a_{nn} x_n & = b_n \\\\\n",
    "\\end{matrix}\n",
    "$$"
   ]
  },
  {
   "cell_type": "markdown",
   "metadata": {},
   "source": [
    "El fundamento del método de Gauss para obtener la solución de un sistema de ecuaciones lineales se basa en dos propiedades del mismo:\n",
    "\n",
    "1) Al multiplicar cualquier ecuación por una constante, $c\\ne0$, el nuevo sistema de ecuaciones tiene la misma solución que el sistema original.\n",
    "\n",
    "2) Al sumar dos ecuaciones cualesquiera del sistema entre si, y remplazar cualquiere de estas dos por el resultado de la suma, el nuevo sistema de ecuaciones tiene la misma solución que el sistema original."
   ]
  },
  {
   "cell_type": "markdown",
   "metadata": {},
   "source": [
    "**Utilización de notación matricial:**\n",
    "\n",
    "La resolución del sistema se puede efectuar de forma eficiente si se reescribe en forma matricial. Para una resolución \"a mano\" se recomienda usar la forma de matriz aumentada."
   ]
  },
  {
   "cell_type": "markdown",
   "metadata": {},
   "source": [
    "- Sistema de ecuaciones lineales en forma matricial:\n",
    "$$\\begin{bmatrix}\n",
    "a_{11} & a_{12} & a_{13} & \\cdots & a_{1n} \\\\\n",
    "a_{21} & a_{22} & a_{23} & \\cdots & a_{2n} \\\\\n",
    "a_{31} & a_{32} & a_{33} & \\cdots & a_{2n} \\\\\n",
    "\\vdots & \\vdots & \\vdots & \\ddots & \\vdots \\\\\n",
    "a_{n1} & a_{n2} & a_{n3} & \\cdots & a_{nn}\n",
    "\\end{bmatrix}\n",
    "\\begin{bmatrix}\n",
    "x_1 \\\\ x_2 \\\\ x_3 \\\\ \\vdots \\\\ x_n\n",
    "\\end{bmatrix}\n",
    "=\n",
    "\\begin{bmatrix}\n",
    "b_1 \\\\ b_2 \\\\ b_3 \\\\ \\vdots \\\\ b_n\n",
    "\\end{bmatrix}$$"
   ]
  },
  {
   "cell_type": "markdown",
   "metadata": {},
   "source": [
    "- Sistema de ecuaciones lineales en forma de matriz aumentada:\n",
    "\n",
    "$$\n",
    "\\left[\n",
    "\\begin{array}{ccccc|c}\n",
    "a_{11} & a_{12} & a_{13} & \\cdots & a_{1n} & b_1\\\\\n",
    "a_{21} & a_{22} & a_{23} & \\cdots & a_{2n} & b_2\\\\\n",
    "a_{31} & a_{32} & a_{33} & \\cdots & a_{3n} & b_3\\\\\n",
    "\\vdots & \\vdots & \\vdots & \\ddots & \\vdots & \\vdots \\\\\n",
    "a_{n1} & a_{n2} & a_{n3} & \\cdots & a_{nn} & b_n\n",
    "\\end{array}\n",
    "\\right]\n",
    "$$"
   ]
  },
  {
   "cell_type": "markdown",
   "metadata": {},
   "source": [
    "#### 2.1.1.1 Eliminación Gaussiana"
   ]
  },
  {
   "cell_type": "markdown",
   "metadata": {},
   "source": [
    "**Manipulación del sistema de ecuaciones:**\n",
    "\n",
    "Se manipula el sistema de ecuaciones utilizando las dos propiedades listadas arriba, de tal forma que se obtenga una matriz triangular superior.\n",
    "\n",
    "$$\n",
    "\\left[\n",
    "\\begin{array}{ccccc|c}\n",
    "a_{11}' & a_{12}' & a_{13}' & \\cdots & a_{1n}' & b_1'\\\\\n",
    "0 & a_{22}' & a_{23}' & \\cdots & a_{2n}' & b_2'\\\\\n",
    "0 & 0 & a_{33}' & \\cdots & a_{3n}' & b_3'\\\\\n",
    "\\vdots & \\vdots & \\vdots & \\ddots & \\vdots & \\vdots \\\\\n",
    "0 & 0 & 0 & \\cdots & a_{nn}' & b_n'\n",
    "\\end{array}\n",
    "\\right]\n",
    "$$"
   ]
  },
  {
   "cell_type": "markdown",
   "metadata": {},
   "source": [
    "<div class=\"alert alert-warning\">\n",
    "\n",
    "En la matriz aumentada que se muestra arriba, los coeficientes son diferentes a los de la matriz aumentada original.\n",
    "\n",
    "</div>"
   ]
  },
  {
   "cell_type": "markdown",
   "metadata": {},
   "source": [
    "**Resolución del sistema:**\n",
    "\n",
    "Nótese que cada renglon de la matriz contiene una incognita menos que el renglón que se encuentra arriba del mismo.\n",
    "\n",
    "- Tomando esto en cuenta, la solución del sistema se obtiene efectuando una sustitución hacia atras  del sistema (i.e., de abajo hacia arriba).\n",
    "\n",
    "$$\n",
    "\\begin{matrix*}[r]\n",
    "a_{11}' x_1 + a_{12}' x_2 + a_{13}' x_3+ \\cdots + a_{1n}' x_n & = b_1' \\\\\n",
    "a_{22}' x_2 + a_{23}' x_3 + \\cdots + a_{2n}' x_n & = b_2' \\\\\n",
    "a_{33}' x_3 + \\cdots + a_{3n}' x_n & = b_3' \\\\\n",
    "\\vdots & \\vdots \\\\\n",
    "a_{nn}' x_n & = b_n' \\\\\n",
    "\\end{matrix*}\n",
    "$$"
   ]
  },
  {
   "cell_type": "markdown",
   "metadata": {},
   "source": [
    "#### 2.1.1.2 Eliminación de Gauss-Jordan"
   ]
  },
  {
   "cell_type": "markdown",
   "metadata": {},
   "source": [
    "**Manipulación del sistema de ecuaciones:**\n",
    "\n",
    "**1.** Se manipula el sistema de ecuaciones utilizando las dos propiedades listadas arriba, de tal forma que se obtenga una matriz triangular superior.\n",
    "\n",
    "- En la matriz aumentada que se muestra debajo, los coeficientes son diferentes a los de la matriz aumentada original.\n",
    "\n",
    "$$\n",
    "\\left[\n",
    "\\begin{array}{ccccc|c}\n",
    "a_{11}' & a_{12}' & a_{13}' & \\cdots & a_{1n}' & b_1'\\\\\n",
    "0 & a_{22}' & a_{23}' & \\cdots & a_{2n}' & b_2'\\\\\n",
    "0 & 0 & a_{33}' & \\cdots & a_{3n}' & b_3'\\\\\n",
    "\\vdots & \\vdots & \\vdots & \\ddots & \\vdots & \\vdots \\\\\n",
    "0 & 0 & 0 & \\cdots & a_{nn}' & b_n'\n",
    "\\end{array}\n",
    "\\right]\n",
    "$$"
   ]
  },
  {
   "cell_type": "markdown",
   "metadata": {},
   "source": [
    "<div class=\"alert alert-warning\">\n",
    "\n",
    "En la matriz aumentada que se muestra arriba, los coeficientes son diferentes a los de la matriz aumentada original.\n",
    "\n",
    "</div>"
   ]
  },
  {
   "cell_type": "markdown",
   "metadata": {},
   "source": [
    "**2.** Se continúa manipulando el sistema de ecuaciones manipula el sistema de ecuaciones utilizando las dos propiedades listadas arriba, de tal forma que se obtenga una matriz en forma escalonada reducida.\n",
    "\n",
    "$$\n",
    "\\left[\n",
    "\\begin{array}{ccccc|c}\n",
    "1 & 0 & 0 & \\cdots & 0 & b_1''\\\\\n",
    "0 & 1 & 0 & \\cdots & 0 & b_2''\\\\\n",
    "0 & 0 & 1 & \\cdots & 0 & b_3''\\\\\n",
    "\\vdots & \\vdots & \\vdots & \\ddots & \\vdots & \\vdots \\\\\n",
    "0 & 0 & 0 & \\cdots & 1 & b_n''\n",
    "\\end{array}\n",
    "\\right]\n",
    "$$"
   ]
  },
  {
   "cell_type": "markdown",
   "metadata": {},
   "source": [
    "<div class=\"alert alert-warning\">\n",
    "\n",
    "En la matriz aumentada que se muestra debajo, los coeficientes son diferentes a los de la matriz aumentada original y a los de la matriz triangular superior que se obtuvo en el paso intermedio.\n",
    "\n",
    "</div>"
   ]
  },
  {
   "cell_type": "markdown",
   "metadata": {},
   "source": [
    "**Resolución del sistema:**"
   ]
  },
  {
   "cell_type": "markdown",
   "metadata": {},
   "source": [
    "Nótese que los términos en la diagonal principal son igual a uno, por lo tanto la solución del sistema está dada de forma explícita en la matriz.\n",
    "\n",
    "$$\n",
    "\\begin{matrix*}[r]\n",
    "x_1 & = b_1'' \\\\\n",
    "x_2 & = b_2'' \\\\\n",
    "x_3 & = b_3'' \\\\\n",
    "\\vdots & \\vdots \\\\\n",
    "x_n & = b_n'' \\\\\n",
    "\\end{matrix*}\n",
    "$$"
   ]
  },
  {
   "cell_type": "markdown",
   "metadata": {},
   "source": [
    "### 2.1.2 Ejemplos"
   ]
  },
  {
   "cell_type": "markdown",
   "metadata": {},
   "source": [
    "#### 2.1.2.1 Sistema de dos ecuaciones con dos incognitas"
   ]
  },
  {
   "cell_type": "markdown",
   "metadata": {},
   "source": [
    "$$2 x + 3 y = 4$$\n",
    "$$3 x + 5 y = 12$$"
   ]
  },
  {
   "cell_type": "markdown",
   "metadata": {},
   "source": [
    "**Escritura del sistema en forma matricial**\n",
    "\n",
    "- Sistema lineal en forma matricial:\n",
    "\n",
    "$$\\begin{bmatrix}2 & 3 \\\\ 3 & 5 \\end{bmatrix} \\begin{bmatrix}x \\\\ y \\end{bmatrix} = \\begin{bmatrix} 4 \\\\ 12 \\end{bmatrix}$$\n",
    "\n",
    "- En forma de matriz aumentada:\n",
    "$$\n",
    "\\left[\n",
    "\\begin{array}{cc|c}\n",
    "2 & 3 & 4\\\\\n",
    "3 & 5 & 12\n",
    "\\end{array}\n",
    "\\right]\n",
    "$$"
   ]
  },
  {
   "cell_type": "markdown",
   "metadata": {},
   "source": [
    "**Resolución (Método de Gauss):**"
   ]
  },
  {
   "cell_type": "markdown",
   "metadata": {},
   "source": [
    "Manipulación del sistema"
   ]
  },
  {
   "cell_type": "markdown",
   "metadata": {},
   "source": [
    "- $\\frac{1}{2} R_1\\rightarrow R_1$:\n",
    "$$\n",
    "\\left[\n",
    "\\begin{array}{cc|c}\n",
    "1 & \\frac{3}{2} & 2\\\\\n",
    "3 & 5 & 12\n",
    "\\end{array}\n",
    "\\right]\n",
    "$$\n",
    "\n",
    "- $R_2 - 3R_1 \\rightarrow R_2$:\n",
    "$$\n",
    "\\left[\n",
    "\\begin{array}{cc|c}\n",
    "1 & \\frac{3}{2} & 2\\\\\n",
    "0 & \\frac{1}{2} & 6\n",
    "\\end{array}\n",
    "\\right]\n",
    "$$\n"
   ]
  },
  {
   "cell_type": "markdown",
   "metadata": {},
   "source": [
    "Resolución del sistema\n",
    "\n",
    "$$\n",
    "\\begin{matrix*}[r]\n",
    "x + \\frac{3}{2} y = 2 \\\\\n",
    "\\frac{1}{2} y = 6\n",
    "\\end{matrix*}\n",
    "$$"
   ]
  },
  {
   "cell_type": "markdown",
   "metadata": {},
   "source": [
    "<div class=\"alert alert-success\">\n",
    "\n",
    "$$y=6(2)=12$$\n",
    "\n",
    "$$x = 2-\\frac{3}{2}(12) = -16$$\n"
   ]
  },
  {
   "cell_type": "markdown",
   "metadata": {},
   "source": [
    "**Resolución (Método de Gauss-Jordan):**"
   ]
  },
  {
   "cell_type": "markdown",
   "metadata": {},
   "source": [
    "Manipulación del sistema"
   ]
  },
  {
   "cell_type": "markdown",
   "metadata": {},
   "source": [
    "- $\\frac{1}{2} R_1\\rightarrow R_1$:\n",
    "$$\n",
    "\\left[\n",
    "\\begin{array}{cc|c}\n",
    "1 & \\frac{3}{2} & 2\\\\\n",
    "3 & 5 & 12\n",
    "\\end{array}\n",
    "\\right]\n",
    "$$\n",
    "\n",
    "- $R_2 - 3R_1 \\rightarrow R_2$:\n",
    "$$\n",
    "\\left[\n",
    "\\begin{array}{cc|c}\n",
    "1 & \\frac{3}{2} & 2\\\\\n",
    "0 & \\frac{1}{2} & 6\n",
    "\\end{array}\n",
    "\\right]\n",
    "$$\n",
    "\n",
    "- $2R_2 \\rightarrow R_2$\n",
    "$$\n",
    "\\left[\n",
    "\\begin{array}{cc|c}\n",
    "1 & \\frac{3}{2} & 2\\\\\n",
    "0 & 1 & 12\n",
    "\\end{array}\n",
    "\\right]\n",
    "$$\n",
    "\n",
    "- $R_1 - \\frac{3}{2}R_2 \\rightarrow R_1$:\n",
    "$$\n",
    "\\left[\n",
    "\\begin{array}{cc|c}\n",
    "1 & 0 & -16\\\\\n",
    "0 & 1 & 12\n",
    "\\end{array}\n",
    "\\right]\n",
    "$$\n",
    "\n"
   ]
  },
  {
   "cell_type": "markdown",
   "metadata": {},
   "source": [
    "Resolución del sistema"
   ]
  },
  {
   "cell_type": "markdown",
   "metadata": {},
   "source": [
    "<div class=\"alert alert-success\">\n",
    "\n",
    "$$x=-16$$\n",
    "\n",
    "$$y = 12$$\n"
   ]
  },
  {
   "cell_type": "markdown",
   "metadata": {},
   "source": []
  },
  {
   "cell_type": "markdown",
   "metadata": {},
   "source": [
    "### 2.1.3 Resolución de un sistema lineal con  la librería de algebra lineal de `scipy`"
   ]
  },
  {
   "cell_type": "code",
   "execution_count": 3,
   "metadata": {},
   "outputs": [
    {
     "name": "stdout",
     "output_type": "stream",
     "text": [
      "Help on function solve in module scipy.linalg._basic:\n",
      "\n",
      "solve(a, b, lower=False, overwrite_a=False, overwrite_b=False, check_finite=True, assume_a=None, transposed=False)\n",
      "    Solves the linear equation set ``a @ x == b`` for the unknown ``x``\n",
      "    for square `a` matrix.\n",
      "    \n",
      "    If the data matrix is known to be a particular type then supplying the\n",
      "    corresponding string to ``assume_a`` key chooses the dedicated solver.\n",
      "    The available options are\n",
      "    \n",
      "    ===================  ================================\n",
      "     diagonal             'diagonal'\n",
      "     tridiagonal          'tridiagonal'\n",
      "     banded               'banded'\n",
      "     upper triangular     'upper triangular'\n",
      "     lower triangular     'lower triangular'\n",
      "     symmetric            'symmetric' (or 'sym')\n",
      "     hermitian            'hermitian' (or 'her')\n",
      "     positive definite    'positive definite' (or 'pos')\n",
      "     general              'general' (or 'gen')\n",
      "    ===================  ================================\n",
      "    \n",
      "    Parameters\n",
      "    ----------\n",
      "    a : (N, N) array_like\n",
      "        Square input data\n",
      "    b : (N, NRHS) array_like\n",
      "        Input data for the right hand side.\n",
      "    lower : bool, default: False\n",
      "        Ignored unless ``assume_a`` is one of ``'sym'``, ``'her'``, or ``'pos'``.\n",
      "        If True, the calculation uses only the data in the lower triangle of `a`;\n",
      "        entries above the diagonal are ignored. If False (default), the\n",
      "        calculation uses only the data in the upper triangle of `a`; entries\n",
      "        below the diagonal are ignored.\n",
      "    overwrite_a : bool, default: False\n",
      "        Allow overwriting data in `a` (may enhance performance).\n",
      "    overwrite_b : bool, default: False\n",
      "        Allow overwriting data in `b` (may enhance performance).\n",
      "    check_finite : bool, default: True\n",
      "        Whether to check that the input matrices contain only finite numbers.\n",
      "        Disabling may give a performance gain, but may result in problems\n",
      "        (crashes, non-termination) if the inputs do contain infinities or NaNs.\n",
      "    assume_a : str, optional\n",
      "        Valid entries are described above.\n",
      "        If omitted or ``None``, checks are performed to identify structure so the\n",
      "        appropriate solver can be called.\n",
      "    transposed : bool, default: False\n",
      "        If True, solve ``a.T @ x == b``. Raises `NotImplementedError`\n",
      "        for complex `a`.\n",
      "    \n",
      "    Returns\n",
      "    -------\n",
      "    x : (N, NRHS) ndarray\n",
      "        The solution array.\n",
      "    \n",
      "    Raises\n",
      "    ------\n",
      "    ValueError\n",
      "        If size mismatches detected or input a is not square.\n",
      "    LinAlgError\n",
      "        If the matrix is singular.\n",
      "    LinAlgWarning\n",
      "        If an ill-conditioned input a is detected.\n",
      "    NotImplementedError\n",
      "        If transposed is True and input a is a complex matrix.\n",
      "    \n",
      "    Notes\n",
      "    -----\n",
      "    If the input b matrix is a 1-D array with N elements, when supplied\n",
      "    together with an NxN input a, it is assumed as a valid column vector\n",
      "    despite the apparent size mismatch. This is compatible with the\n",
      "    numpy.dot() behavior and the returned result is still 1-D array.\n",
      "    \n",
      "    The general, symmetric, Hermitian and positive definite solutions are\n",
      "    obtained via calling ?GESV, ?SYSV, ?HESV, and ?POSV routines of\n",
      "    LAPACK respectively.\n",
      "    \n",
      "    The datatype of the arrays define which solver is called regardless\n",
      "    of the values. In other words, even when the complex array entries have\n",
      "    precisely zero imaginary parts, the complex solver will be called based\n",
      "    on the data type of the array.\n",
      "    \n",
      "    Examples\n",
      "    --------\n",
      "    Given `a` and `b`, solve for `x`:\n",
      "    \n",
      "    >>> import numpy as np\n",
      "    >>> a = np.array([[3, 2, 0], [1, -1, 0], [0, 5, 1]])\n",
      "    >>> b = np.array([2, 4, -1])\n",
      "    >>> from scipy import linalg\n",
      "    >>> x = linalg.solve(a, b)\n",
      "    >>> x\n",
      "    array([ 2., -2.,  9.])\n",
      "    >>> np.dot(a, x) == b\n",
      "    array([ True,  True,  True], dtype=bool)\n",
      "\n"
     ]
    }
   ],
   "source": [
    "help(solve)"
   ]
  },
  {
   "cell_type": "markdown",
   "metadata": {},
   "source": [
    "$$2 x + 3 y = 4$$\n",
    "$$3 x + 5 y = 12$$"
   ]
  },
  {
   "cell_type": "code",
   "execution_count": 4,
   "metadata": {},
   "outputs": [
    {
     "name": "stdout",
     "output_type": "stream",
     "text": [
      "[-16.  12.]\n"
     ]
    }
   ],
   "source": [
    "A = np.array(\n",
    "    [[2, 3], \n",
    "     [3, 5]]\n",
    ")\n",
    "b = np.array([4, 12])\n",
    "\n",
    "x = solve(A, b)\n",
    "print(x)"
   ]
  },
  {
   "cell_type": "markdown",
   "metadata": {},
   "source": [
    "### 2.1.4 Resolución de un sistema lineal con la librería de optimización de `scipy`."
   ]
  },
  {
   "cell_type": "code",
   "execution_count": 5,
   "metadata": {},
   "outputs": [
    {
     "name": "stdout",
     "output_type": "stream",
     "text": [
      "Help on function fsolve in module scipy.optimize._minpack_py:\n",
      "\n",
      "fsolve(func, x0, args=(), fprime=None, full_output=0, col_deriv=0, xtol=1.49012e-08, maxfev=0, band=None, epsfcn=None, factor=100, diag=None)\n",
      "    Find the roots of a function.\n",
      "    \n",
      "    Return the roots of the (non-linear) equations defined by\n",
      "    ``func(x) = 0`` given a starting estimate.\n",
      "    \n",
      "    Parameters\n",
      "    ----------\n",
      "    func : callable ``f(x, *args)``\n",
      "        A function that takes at least one (possibly vector) argument,\n",
      "        and returns a value of the same length.\n",
      "    x0 : ndarray\n",
      "        The starting estimate for the roots of ``func(x) = 0``.\n",
      "    args : tuple, optional\n",
      "        Any extra arguments to `func`.\n",
      "    fprime : callable ``f(x, *args)``, optional\n",
      "        A function to compute the Jacobian of `func` with derivatives\n",
      "        across the rows. By default, the Jacobian will be estimated.\n",
      "    full_output : bool, optional\n",
      "        If True, return optional outputs.\n",
      "    col_deriv : bool, optional\n",
      "        Specify whether the Jacobian function computes derivatives down\n",
      "        the columns (faster, because there is no transpose operation).\n",
      "    xtol : float, optional\n",
      "        The calculation will terminate if the relative error between two\n",
      "        consecutive iterates is at most `xtol`.\n",
      "    maxfev : int, optional\n",
      "        The maximum number of calls to the function. If zero, then\n",
      "        ``100*(N+1)`` is the maximum where N is the number of elements\n",
      "        in `x0`.\n",
      "    band : tuple, optional\n",
      "        If set to a two-sequence containing the number of sub- and\n",
      "        super-diagonals within the band of the Jacobi matrix, the\n",
      "        Jacobi matrix is considered banded (only for ``fprime=None``).\n",
      "    epsfcn : float, optional\n",
      "        A suitable step length for the forward-difference\n",
      "        approximation of the Jacobian (for ``fprime=None``). If\n",
      "        `epsfcn` is less than the machine precision, it is assumed\n",
      "        that the relative errors in the functions are of the order of\n",
      "        the machine precision.\n",
      "    factor : float, optional\n",
      "        A parameter determining the initial step bound\n",
      "        (``factor * || diag * x||``). Should be in the interval\n",
      "        ``(0.1, 100)``.\n",
      "    diag : sequence, optional\n",
      "        N positive entries that serve as a scale factors for the\n",
      "        variables.\n",
      "    \n",
      "    Returns\n",
      "    -------\n",
      "    x : ndarray\n",
      "        The solution (or the result of the last iteration for\n",
      "        an unsuccessful call).\n",
      "    infodict : dict\n",
      "        A dictionary of optional outputs with the keys:\n",
      "    \n",
      "        ``nfev``\n",
      "            number of function calls\n",
      "        ``njev``\n",
      "            number of Jacobian calls\n",
      "        ``fvec``\n",
      "            function evaluated at the output\n",
      "        ``fjac``\n",
      "            the orthogonal matrix, q, produced by the QR\n",
      "            factorization of the final approximate Jacobian\n",
      "            matrix, stored column wise\n",
      "        ``r``\n",
      "            upper triangular matrix produced by QR factorization\n",
      "            of the same matrix\n",
      "        ``qtf``\n",
      "            the vector ``(transpose(q) * fvec)``\n",
      "    \n",
      "    ier : int\n",
      "        An integer flag.  Set to 1 if a solution was found, otherwise refer\n",
      "        to `mesg` for more information.\n",
      "    mesg : str\n",
      "        If no solution is found, `mesg` details the cause of failure.\n",
      "    \n",
      "    See Also\n",
      "    --------\n",
      "    root : Interface to root finding algorithms for multivariate\n",
      "           functions. See the ``method='hybr'`` in particular.\n",
      "    \n",
      "    Notes\n",
      "    -----\n",
      "    ``fsolve`` is a wrapper around MINPACK's hybrd and hybrj algorithms.\n",
      "    \n",
      "    Examples\n",
      "    --------\n",
      "    Find a solution to the system of equations:\n",
      "    ``x0*cos(x1) = 4,  x1*x0 - x1 = 5``.\n",
      "    \n",
      "    >>> import numpy as np\n",
      "    >>> from scipy.optimize import fsolve\n",
      "    >>> def func(x):\n",
      "    ...     return [x[0] * np.cos(x[1]) - 4,\n",
      "    ...             x[1] * x[0] - x[1] - 5]\n",
      "    >>> root = fsolve(func, [1, 1])\n",
      "    >>> root\n",
      "    array([6.50409711, 0.90841421])\n",
      "    >>> np.isclose(func(root), [0.0, 0.0])  # func(root) should be almost 0.0.\n",
      "    array([ True,  True])\n",
      "\n"
     ]
    }
   ],
   "source": [
    "help(fsolve)"
   ]
  },
  {
   "cell_type": "markdown",
   "metadata": {},
   "source": [
    "$$2 x + 3 y = 4$$\n",
    "$$3 x + 5 y = 12$$"
   ]
  },
  {
   "cell_type": "code",
   "execution_count": 6,
   "metadata": {},
   "outputs": [
    {
     "name": "stdout",
     "output_type": "stream",
     "text": [
      "[-16.  12.]\n"
     ]
    }
   ],
   "source": [
    "def func(x):\n",
    "    return [2*x[0] + 3*x[1] - 4,\n",
    "            3*x[0] + 5*x[1] -12]\n",
    "\n",
    "root = fsolve(func, x0=[5, 5])\n",
    "print(root)"
   ]
  }
 ],
 "metadata": {
  "kernelspec": {
   "display_name": "Python 3",
   "language": "python",
   "name": "python3"
  },
  "language_info": {
   "codemirror_mode": {
    "name": "ipython",
    "version": 3
   },
   "file_extension": ".py",
   "mimetype": "text/x-python",
   "name": "python",
   "nbconvert_exporter": "python",
   "pygments_lexer": "ipython3",
   "version": "3.10.12"
  }
 },
 "nbformat": 4,
 "nbformat_minor": 2
}
