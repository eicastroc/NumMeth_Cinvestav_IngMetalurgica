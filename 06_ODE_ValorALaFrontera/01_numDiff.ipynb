{
 "cells": [
  {
   "cell_type": "code",
   "execution_count": 1,
   "metadata": {},
   "outputs": [],
   "source": [
    "import numpy as np\n",
    "import matplotlib.pyplot as plt\n"
   ]
  },
  {
   "cell_type": "markdown",
   "metadata": {},
   "source": [
    "# Métodos numéricos"
   ]
  },
  {
   "cell_type": "markdown",
   "metadata": {},
   "source": [
    "<img src=\"figures/LogoCinvestav.png\" style=\"height:100px\" title=\"Cinvestav\">"
   ]
  },
  {
   "cell_type": "markdown",
   "metadata": {},
   "source": [
    "**CINVESTAV Unidad Saltillo**\n",
    "\n",
    "**Curso Propedeutico del Programa de Maestría en Ciencias en Ingeniería Metalúrgica**\n",
    "\n",
    "Dr. Edgar Ivan Castro Cedeño\n",
    "\n",
    "\n",
    "\n",
    "\n",
    "Contacto:\n",
    "[edgar.castro@cinvestav.mx](mailto:edgar.castro@cinvestav.mx)"
   ]
  },
  {
   "cell_type": "markdown",
   "metadata": {},
   "source": [
    "## 6.1 Diferenciación numérica"
   ]
  },
  {
   "cell_type": "markdown",
   "metadata": {},
   "source": [
    "### 6.1.1 Explicación"
   ]
  },
  {
   "cell_type": "markdown",
   "metadata": {},
   "source": [
    "El principio de la diferenciación numérica está basado en la aproximación de funciones mediante Series de Taylor:\n",
    "\n",
    "$$f(x) = f(a) + f^{\\prime}(a)(x-a) + \\frac{f^{\\prime\\prime}(a)}{2!}(x-a)^2$$\n"
   ]
  },
  {
   "cell_type": "markdown",
   "metadata": {},
   "source": [
    "Para una función dada, $f(x)$, el valor de la función en los puntos $x_{i-1}, x_{i+1}$ se puede aproximar mediante series de Taylor truncadas:\n",
    "\n",
    "\n",
    "$$f(x_{i+1}) = f(x_i) + f^{\\prime}(x_i) h + \\frac{f^{\\prime\\prime}(x_i)}{2}h^2$$\n",
    "\n",
    "$$f(x_{i-1}) = f(x_i) - f^{\\prime}(x_i) h + \\frac{f^{\\prime\\prime}(x_i)}{2}h^2$$"
   ]
  },
  {
   "cell_type": "markdown",
   "metadata": {},
   "source": [
    "<center>\n",
    "\n",
    "<img src=\"figures/images/finiteDifferenceStencil.png\" style=\"height:300px\" title=\"Finite difference stencil\">\n",
    "\n",
    "***Figura 01. Esquema auxiliar para representación del mallado para diferencias finitas.***\n",
    "\n",
    "</center>"
   ]
  },
  {
   "cell_type": "markdown",
   "metadata": {},
   "source": [
    "Efectuando operaciones algebráicas, las ecuaciones mostradas arriba se pueden utilizar para obtener aproximaciones para las derivadas de la función $f(x)$:"
   ]
  },
  {
   "cell_type": "markdown",
   "metadata": {},
   "source": [
    "**Aproximaciones para la primera derivada:**\n",
    "\n",
    "- Diferencia progresiva:\n",
    "\n",
    "$$f^{\\prime}(x_i) = \\frac{f(x_{i+1}) - f(x_i)}{h}$$\n",
    "\n",
    "- Diferencia regresiva:\n",
    "\n",
    "$$f^{\\prime}(x_i) = \\frac{f(x_i) - f(x_{i-1})}{h}$$\n",
    "\n",
    "- Diferencia central:\n",
    "\n",
    "$$f^{\\prime}(x_i) = \\frac{f(x_{i+1}) - f(x_{i-1})}{2h}$$"
   ]
  },
  {
   "cell_type": "markdown",
   "metadata": {},
   "source": [
    "**Aproximaciones para la segunda derivada:**"
   ]
  },
  {
   "cell_type": "markdown",
   "metadata": {},
   "source": [
    "- Diferencia central:\n",
    "\n",
    "$$f^{\\prime\\prime}(x_i) = \\frac{f(x_{i-1}) + f(x_{i+1}) - 2 f(x_i)}{h^2}$$"
   ]
  },
  {
   "cell_type": "markdown",
   "metadata": {},
   "source": [
    "Existen aproximaciones de orden superior, que no se muestran en este documento."
   ]
  },
  {
   "cell_type": "markdown",
   "metadata": {},
   "source": [
    "### 6.1.2 Ejemplos"
   ]
  },
  {
   "cell_type": "markdown",
   "metadata": {},
   "source": [
    "#### 6.1.2.1 Aplicación de las aproximaciones"
   ]
  },
  {
   "cell_type": "markdown",
   "metadata": {},
   "source": [
    "Estimar el valor numérico de la derivada de la función\n",
    "\n",
    "$$F(x) = -0.1 x^4 - 0.15 x^3 - 0.5 x^2 - 0.25 x + 1.2$$\n",
    "\n",
    "en $x=0.5$, utilizando diferencias finitas, con un tamaño de paso $h=0.25$."
   ]
  },
  {
   "cell_type": "markdown",
   "metadata": {},
   "source": [
    "**Solución:**\n",
    "\n",
    "$$\\begin{matrix} x_{i-1} & = & 0.25 & \\quad & f(x_{i-1}) & = & 1.103516 \\\\ x_{i} & = & 0.5 & \\quad & f(x_{i}) & = & 0.925 \\\\ x_{i+1} & = & 0.75 & \\quad & f(x_{i+1}) &= & 0.6363281\\end{matrix}$$"
   ]
  },
  {
   "cell_type": "code",
   "execution_count": 2,
   "metadata": {},
   "outputs": [],
   "source": [
    "def f(x):\n",
    "    return -0.1*x**4 -0.15*x**3 - 0.5*x**2 - 0.25*x + 1.2\n",
    "\n",
    "def df(x):\n",
    "    return -0.4*x**3 - 0.45*x**2 -1.0*x -0.25"
   ]
  },
  {
   "cell_type": "code",
   "execution_count": 11,
   "metadata": {},
   "outputs": [
    {
     "name": "stdout",
     "output_type": "stream",
     "text": [
      "analytic: f'(0.5) = -0.9125\n",
      "forward: f'(0.5) = -1.1546875\n",
      "backward: f'(0.5) = -0.7140625000000003\n",
      "central: f'(0.5) = -0.9343750000000002\n"
     ]
    }
   ],
   "source": [
    "p = 0.5\n",
    "h = 0.25\n",
    "x = np.array([p-h, p, p+h])\n",
    "fx = f(x)\n",
    "\n",
    "# solución analítica\n",
    "print(f\"analytic: f'({p}) = {df(p)}\")\n",
    "# diferencia hacia adelante\n",
    "print(f\"forward: f'({p}) = {(fx[2] - fx[1])/h}\")\n",
    "\n",
    "# diferencia hacia atras\n",
    "print(f\"backward: f'({p}) = {(fx[1] - fx[0])/h}\")\n",
    "\n",
    "# diferencia centrada\n",
    "print(f\"central: f'({p}) = {(fx[2] - fx[0])/(2*h)}\")"
   ]
  },
  {
   "cell_type": "markdown",
   "metadata": {},
   "source": [
    "#### 6.1.2.2 Cálculo con funciones de la librería `scipy`"
   ]
  },
  {
   "cell_type": "code",
   "execution_count": 4,
   "metadata": {},
   "outputs": [],
   "source": [
    "from scipy.differentiate import derivative"
   ]
  },
  {
   "cell_type": "code",
   "execution_count": 5,
   "metadata": {},
   "outputs": [
    {
     "name": "stdout",
     "output_type": "stream",
     "text": [
      "Help on function derivative in module scipy.differentiate._differentiate:\n",
      "\n",
      "derivative(f, x, *, args=(), tolerances=None, maxiter=10, order=8, initial_step=0.5, step_factor=2.0, step_direction=0, preserve_shape=False, callback=None)\n",
      "    Evaluate the derivative of a elementwise, real scalar function numerically.\n",
      "    \n",
      "    For each element of the output of `f`, `derivative` approximates the first\n",
      "    derivative of `f` at the corresponding element of `x` using finite difference\n",
      "    differentiation.\n",
      "    \n",
      "    This function works elementwise when `x`, `step_direction`, and `args` contain\n",
      "    (broadcastable) arrays.\n",
      "    \n",
      "    Parameters\n",
      "    ----------\n",
      "    f : callable\n",
      "        The function whose derivative is desired. The signature must be::\n",
      "    \n",
      "            f(xi: ndarray, *argsi) -> ndarray\n",
      "    \n",
      "        where each element of ``xi`` is a finite real number and ``argsi`` is a tuple,\n",
      "        which may contain an arbitrary number of arrays that are broadcastable with\n",
      "        ``xi``. `f` must be an elementwise function: each scalar element ``f(xi)[j]``\n",
      "        must equal ``f(xi[j])`` for valid indices ``j``. It must not mutate the array\n",
      "        ``xi`` or the arrays in ``argsi``.\n",
      "    x : float array_like\n",
      "        Abscissae at which to evaluate the derivative. Must be broadcastable with\n",
      "        `args` and `step_direction`.\n",
      "    args : tuple of array_like, optional\n",
      "        Additional positional array arguments to be passed to `f`. Arrays\n",
      "        must be broadcastable with one another and the arrays of `init`.\n",
      "        If the callable for which the root is desired requires arguments that are\n",
      "        not broadcastable with `x`, wrap that callable with `f` such that `f`\n",
      "        accepts only `x` and broadcastable ``*args``.\n",
      "    tolerances : dictionary of floats, optional\n",
      "        Absolute and relative tolerances. Valid keys of the dictionary are:\n",
      "    \n",
      "        - ``atol`` - absolute tolerance on the derivative\n",
      "        - ``rtol`` - relative tolerance on the derivative\n",
      "    \n",
      "        Iteration will stop when ``res.error < atol + rtol * abs(res.df)``. The default\n",
      "        `atol` is the smallest normal number of the appropriate dtype, and\n",
      "        the default `rtol` is the square root of the precision of the\n",
      "        appropriate dtype.\n",
      "    order : int, default: 8\n",
      "        The (positive integer) order of the finite difference formula to be\n",
      "        used. Odd integers will be rounded up to the next even integer.\n",
      "    initial_step : float array_like, default: 0.5\n",
      "        The (absolute) initial step size for the finite difference derivative\n",
      "        approximation.\n",
      "    step_factor : float, default: 2.0\n",
      "        The factor by which the step size is *reduced* in each iteration; i.e.\n",
      "        the step size in iteration 1 is ``initial_step/step_factor``. If\n",
      "        ``step_factor < 1``, subsequent steps will be greater than the initial\n",
      "        step; this may be useful if steps smaller than some threshold are\n",
      "        undesirable (e.g. due to subtractive cancellation error).\n",
      "    maxiter : int, default: 10\n",
      "        The maximum number of iterations of the algorithm to perform. See\n",
      "        Notes.\n",
      "    step_direction : integer array_like\n",
      "        An array representing the direction of the finite difference steps (for\n",
      "        use when `x` lies near to the boundary of the domain of the function.)\n",
      "        Must be broadcastable with `x` and all `args`.\n",
      "        Where 0 (default), central differences are used; where negative (e.g.\n",
      "        -1), steps are non-positive; and where positive (e.g. 1), all steps are\n",
      "        non-negative.\n",
      "    preserve_shape : bool, default: False\n",
      "        In the following, \"arguments of `f`\" refers to the array ``xi`` and\n",
      "        any arrays within ``argsi``. Let ``shape`` be the broadcasted shape\n",
      "        of `x` and all elements of `args` (which is conceptually\n",
      "        distinct from ``xi` and ``argsi`` passed into `f`).\n",
      "    \n",
      "        - When ``preserve_shape=False`` (default), `f` must accept arguments\n",
      "          of *any* broadcastable shapes.\n",
      "    \n",
      "        - When ``preserve_shape=True``, `f` must accept arguments of shape\n",
      "          ``shape`` *or* ``shape + (n,)``, where ``(n,)`` is the number of\n",
      "          abscissae at which the function is being evaluated.\n",
      "    \n",
      "        In either case, for each scalar element ``xi[j]`` within ``xi``, the array\n",
      "        returned by `f` must include the scalar ``f(xi[j])`` at the same index.\n",
      "        Consequently, the shape of the output is always the shape of the input\n",
      "        ``xi``.\n",
      "    \n",
      "        See Examples.\n",
      "    callback : callable, optional\n",
      "        An optional user-supplied function to be called before the first\n",
      "        iteration and after each iteration.\n",
      "        Called as ``callback(res)``, where ``res`` is a ``_RichResult``\n",
      "        similar to that returned by `derivative` (but containing the current\n",
      "        iterate's values of all variables). If `callback` raises a\n",
      "        ``StopIteration``, the algorithm will terminate immediately and\n",
      "        `derivative` will return a result. `callback` must not mutate\n",
      "        `res` or its attributes.\n",
      "    \n",
      "    Returns\n",
      "    -------\n",
      "    res : _RichResult\n",
      "        An object similar to an instance of `scipy.optimize.OptimizeResult` with the\n",
      "        following attributes. The descriptions are written as though the values will\n",
      "        be scalars; however, if `f` returns an array, the outputs will be\n",
      "        arrays of the same shape.\n",
      "    \n",
      "        success : bool array\n",
      "            ``True`` where the algorithm terminated successfully (status ``0``);\n",
      "            ``False`` otherwise.\n",
      "        status : int array\n",
      "            An integer representing the exit status of the algorithm.\n",
      "    \n",
      "            - ``0`` : The algorithm converged to the specified tolerances.\n",
      "            - ``-1`` : The error estimate increased, so iteration was terminated.\n",
      "            - ``-2`` : The maximum number of iterations was reached.\n",
      "            - ``-3`` : A non-finite value was encountered.\n",
      "            - ``-4`` : Iteration was terminated by `callback`.\n",
      "            - ``1`` : The algorithm is proceeding normally (in `callback` only).\n",
      "    \n",
      "        df : float array\n",
      "            The derivative of `f` at `x`, if the algorithm terminated\n",
      "            successfully.\n",
      "        error : float array\n",
      "            An estimate of the error: the magnitude of the difference between\n",
      "            the current estimate of the derivative and the estimate in the\n",
      "            previous iteration.\n",
      "        nit : int array\n",
      "            The number of iterations of the algorithm that were performed.\n",
      "        nfev : int array\n",
      "            The number of points at which `f` was evaluated.\n",
      "        x : float array\n",
      "            The value at which the derivative of `f` was evaluated\n",
      "            (after broadcasting with `args` and `step_direction`).\n",
      "    \n",
      "    See Also\n",
      "    --------\n",
      "    jacobian, hessian\n",
      "    \n",
      "    Notes\n",
      "    -----\n",
      "    The implementation was inspired by jacobi [1]_, numdifftools [2]_, and\n",
      "    DERIVEST [3]_, but the implementation follows the theory of Taylor series\n",
      "    more straightforwardly (and arguably naively so).\n",
      "    In the first iteration, the derivative is estimated using a finite\n",
      "    difference formula of order `order` with maximum step size `initial_step`.\n",
      "    Each subsequent iteration, the maximum step size is reduced by\n",
      "    `step_factor`, and the derivative is estimated again until a termination\n",
      "    condition is reached. The error estimate is the magnitude of the difference\n",
      "    between the current derivative approximation and that of the previous\n",
      "    iteration.\n",
      "    \n",
      "    The stencils of the finite difference formulae are designed such that\n",
      "    abscissae are \"nested\": after `f` is evaluated at ``order + 1``\n",
      "    points in the first iteration, `f` is evaluated at only two new points\n",
      "    in each subsequent iteration; ``order - 1`` previously evaluated function\n",
      "    values required by the finite difference formula are reused, and two\n",
      "    function values (evaluations at the points furthest from `x`) are unused.\n",
      "    \n",
      "    Step sizes are absolute. When the step size is small relative to the\n",
      "    magnitude of `x`, precision is lost; for example, if `x` is ``1e20``, the\n",
      "    default initial step size of ``0.5`` cannot be resolved. Accordingly,\n",
      "    consider using larger initial step sizes for large magnitudes of `x`.\n",
      "    \n",
      "    The default tolerances are challenging to satisfy at points where the\n",
      "    true derivative is exactly zero. If the derivative may be exactly zero,\n",
      "    consider specifying an absolute tolerance (e.g. ``atol=1e-12``) to\n",
      "    improve convergence.\n",
      "    \n",
      "    References\n",
      "    ----------\n",
      "    .. [1] Hans Dembinski (@HDembinski). jacobi.\n",
      "           https://github.com/HDembinski/jacobi\n",
      "    .. [2] Per A. Brodtkorb and John D'Errico. numdifftools.\n",
      "           https://numdifftools.readthedocs.io/en/latest/\n",
      "    .. [3] John D'Errico. DERIVEST: Adaptive Robust Numerical Differentiation.\n",
      "           https://www.mathworks.com/matlabcentral/fileexchange/13490-adaptive-robust-numerical-differentiation\n",
      "    .. [4] Numerical Differentition. Wikipedia.\n",
      "           https://en.wikipedia.org/wiki/Numerical_differentiation\n",
      "    \n",
      "    Examples\n",
      "    --------\n",
      "    Evaluate the derivative of ``np.exp`` at several points ``x``.\n",
      "    \n",
      "    >>> import numpy as np\n",
      "    >>> from scipy.differentiate import derivative\n",
      "    >>> f = np.exp\n",
      "    >>> df = np.exp  # true derivative\n",
      "    >>> x = np.linspace(1, 2, 5)\n",
      "    >>> res = derivative(f, x)\n",
      "    >>> res.df  # approximation of the derivative\n",
      "    array([2.71828183, 3.49034296, 4.48168907, 5.75460268, 7.3890561 ])\n",
      "    >>> res.error  # estimate of the error\n",
      "    array([7.13740178e-12, 9.16600129e-12, 1.17594823e-11, 1.51061386e-11,\n",
      "           1.94262384e-11])\n",
      "    >>> abs(res.df - df(x))  # true error\n",
      "    array([2.53130850e-14, 3.55271368e-14, 5.77315973e-14, 5.59552404e-14,\n",
      "           6.92779167e-14])\n",
      "    \n",
      "    Show the convergence of the approximation as the step size is reduced.\n",
      "    Each iteration, the step size is reduced by `step_factor`, so for\n",
      "    sufficiently small initial step, each iteration reduces the error by a\n",
      "    factor of ``1/step_factor**order`` until finite precision arithmetic\n",
      "    inhibits further improvement.\n",
      "    \n",
      "    >>> import matplotlib.pyplot as plt\n",
      "    >>> iter = list(range(1, 12))  # maximum iterations\n",
      "    >>> hfac = 2  # step size reduction per iteration\n",
      "    >>> hdir = [-1, 0, 1]  # compare left-, central-, and right- steps\n",
      "    >>> order = 4  # order of differentiation formula\n",
      "    >>> x = 1\n",
      "    >>> ref = df(x)\n",
      "    >>> errors = []  # true error\n",
      "    >>> for i in iter:\n",
      "    ...     res = derivative(f, x, maxiter=i, step_factor=hfac,\n",
      "    ...                      step_direction=hdir, order=order,\n",
      "    ...                      # prevent early termination\n",
      "    ...                      tolerances=dict(atol=0, rtol=0))\n",
      "    ...     errors.append(abs(res.df - ref))\n",
      "    >>> errors = np.array(errors)\n",
      "    >>> plt.semilogy(iter, errors[:, 0], label='left differences')\n",
      "    >>> plt.semilogy(iter, errors[:, 1], label='central differences')\n",
      "    >>> plt.semilogy(iter, errors[:, 2], label='right differences')\n",
      "    >>> plt.xlabel('iteration')\n",
      "    >>> plt.ylabel('error')\n",
      "    >>> plt.legend()\n",
      "    >>> plt.show()\n",
      "    >>> (errors[1, 1] / errors[0, 1], 1 / hfac**order)\n",
      "    (0.06215223140159822, 0.0625)\n",
      "    \n",
      "    The implementation is vectorized over `x`, `step_direction`, and `args`.\n",
      "    The function is evaluated once before the first iteration to perform input\n",
      "    validation and standardization, and once per iteration thereafter.\n",
      "    \n",
      "    >>> def f(x, p):\n",
      "    ...     f.nit += 1\n",
      "    ...     return x**p\n",
      "    >>> f.nit = 0\n",
      "    >>> def df(x, p):\n",
      "    ...     return p*x**(p-1)\n",
      "    >>> x = np.arange(1, 5)\n",
      "    >>> p = np.arange(1, 6).reshape((-1, 1))\n",
      "    >>> hdir = np.arange(-1, 2).reshape((-1, 1, 1))\n",
      "    >>> res = derivative(f, x, args=(p,), step_direction=hdir, maxiter=1)\n",
      "    >>> np.allclose(res.df, df(x, p))\n",
      "    True\n",
      "    >>> res.df.shape\n",
      "    (3, 5, 4)\n",
      "    >>> f.nit\n",
      "    2\n",
      "    \n",
      "    By default, `preserve_shape` is False, and therefore the callable\n",
      "    `f` may be called with arrays of any broadcastable shapes.\n",
      "    For example:\n",
      "    \n",
      "    >>> shapes = []\n",
      "    >>> def f(x, c):\n",
      "    ...    shape = np.broadcast_shapes(x.shape, c.shape)\n",
      "    ...    shapes.append(shape)\n",
      "    ...    return np.sin(c*x)\n",
      "    >>>\n",
      "    >>> c = [1, 5, 10, 20]\n",
      "    >>> res = derivative(f, 0, args=(c,))\n",
      "    >>> shapes\n",
      "    [(4,), (4, 8), (4, 2), (3, 2), (2, 2), (1, 2)]\n",
      "    \n",
      "    To understand where these shapes are coming from - and to better\n",
      "    understand how `derivative` computes accurate results - note that\n",
      "    higher values of ``c`` correspond with higher frequency sinusoids.\n",
      "    The higher frequency sinusoids make the function's derivative change\n",
      "    faster, so more function evaluations are required to achieve the target\n",
      "    accuracy:\n",
      "    \n",
      "    >>> res.nfev\n",
      "    array([11, 13, 15, 17], dtype=int32)\n",
      "    \n",
      "    The initial ``shape``, ``(4,)``, corresponds with evaluating the\n",
      "    function at a single abscissa and all four frequencies; this is used\n",
      "    for input validation and to determine the size and dtype of the arrays\n",
      "    that store results. The next shape corresponds with evaluating the\n",
      "    function at an initial grid of abscissae and all four frequencies.\n",
      "    Successive calls to the function evaluate the function at two more\n",
      "    abscissae, increasing the effective order of the approximation by two.\n",
      "    However, in later function evaluations, the function is evaluated at\n",
      "    fewer frequencies because the corresponding derivative has already\n",
      "    converged to the required tolerance. This saves function evaluations to\n",
      "    improve performance, but it requires the function to accept arguments of\n",
      "    any shape.\n",
      "    \n",
      "    \"Vector-valued\" functions are unlikely to satisfy this requirement.\n",
      "    For example, consider\n",
      "    \n",
      "    >>> def f(x):\n",
      "    ...    return [x, np.sin(3*x), x+np.sin(10*x), np.sin(20*x)*(x-1)**2]\n",
      "    \n",
      "    This integrand is not compatible with `derivative` as written; for instance,\n",
      "    the shape of the output will not be the same as the shape of ``x``. Such a\n",
      "    function *could* be converted to a compatible form with the introduction of\n",
      "    additional parameters, but this would be inconvenient. In such cases,\n",
      "    a simpler solution would be to use `preserve_shape`.\n",
      "    \n",
      "    >>> shapes = []\n",
      "    >>> def f(x):\n",
      "    ...     shapes.append(x.shape)\n",
      "    ...     x0, x1, x2, x3 = x\n",
      "    ...     return [x0, np.sin(3*x1), x2+np.sin(10*x2), np.sin(20*x3)*(x3-1)**2]\n",
      "    >>>\n",
      "    >>> x = np.zeros(4)\n",
      "    >>> res = derivative(f, x, preserve_shape=True)\n",
      "    >>> shapes\n",
      "    [(4,), (4, 8), (4, 2), (4, 2), (4, 2), (4, 2)]\n",
      "    \n",
      "    Here, the shape of ``x`` is ``(4,)``. With ``preserve_shape=True``, the\n",
      "    function may be called with argument ``x`` of shape ``(4,)`` or ``(4, n)``,\n",
      "    and this is what we observe.\n",
      "\n"
     ]
    }
   ],
   "source": [
    "help(derivative)"
   ]
  },
  {
   "cell_type": "code",
   "execution_count": 6,
   "metadata": {},
   "outputs": [
    {
     "data": {
      "text/plain": [
       "     success: True\n",
       "      status: 0\n",
       "          df: -0.9125000000000014\n",
       "       error: 3.552713678800501e-15\n",
       "         nit: 2\n",
       "        nfev: 11\n",
       "           x: 0.5"
      ]
     },
     "execution_count": 6,
     "metadata": {},
     "output_type": "execute_result"
    }
   ],
   "source": [
    "# diferencia hacia adelante\n",
    "derivative(f, 0.5)"
   ]
  },
  {
   "cell_type": "markdown",
   "metadata": {},
   "source": [
    "#### 6.1.2.3 Cálculo de la derivada sobre un rango con funciones de la librería `scipy` y `numpy`"
   ]
  },
  {
   "cell_type": "code",
   "execution_count": 7,
   "metadata": {},
   "outputs": [],
   "source": [
    "def g(x):\n",
    "    return np.sin((np.exp(-x**(-2))))"
   ]
  },
  {
   "cell_type": "code",
   "execution_count": 8,
   "metadata": {},
   "outputs": [
    {
     "data": {
      "image/png": "[encoded data removed]",
      "text/plain": [
       "<Figure size 640x480 with 1 Axes>"
      ]
     },
     "metadata": {},
     "output_type": "display_data"
    }
   ],
   "source": [
    "fig, ax = plt.subplots()\n",
    "x = np.linspace(-np.pi, np.pi, 100)\n",
    "\n",
    "gx = g(x)\n",
    "gpx = derivative(g, x) # scipy\n",
    "ggx = np.gradient(gx, x) # numpy\n",
    "\n",
    "ax.plot(x, gx, label=r'$g(x)$')\n",
    "ax.plot(x, gpx.df, label='$g^{\\prime}(x)$ (scipy)')\n",
    "ax.plot(x, ggx, ls='--', label='$g^{\\prime}(x)$ (numpy)')\n",
    "ax.legend()\n",
    "plt.show()"
   ]
  },
  {
   "cell_type": "code",
   "execution_count": null,
   "metadata": {},
   "outputs": [],
   "source": []
  }
 ],
 "metadata": {
  "kernelspec": {
   "display_name": "Python 3",
   "language": "python",
   "name": "python3"
  },
  "language_info": {
   "codemirror_mode": {
    "name": "ipython",
    "version": 3
   },
   "file_extension": ".py",
   "mimetype": "text/x-python",
   "name": "python",
   "nbconvert_exporter": "python",
   "pygments_lexer": "ipython3",
   "version": "3.10.12"
  }
 },
 "nbformat": 4,
 "nbformat_minor": 2
}
