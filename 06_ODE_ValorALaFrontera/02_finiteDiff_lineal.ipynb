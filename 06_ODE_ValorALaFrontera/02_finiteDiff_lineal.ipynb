{
 "cells": [
  {
   "cell_type": "code",
   "execution_count": 1,
   "metadata": {},
   "outputs": [],
   "source": [
    "import numpy as np\n",
    "import matplotlib.pyplot as plt"
   ]
  },
  {
   "cell_type": "markdown",
   "metadata": {},
   "source": [
    "# Métodos numéricos"
   ]
  },
  {
   "cell_type": "markdown",
   "metadata": {},
   "source": [
    "<img src=\"figures/LogoCinvestav.png\" style=\"height:100px\" title=\"Cinvestav\">"
   ]
  },
  {
   "cell_type": "markdown",
   "metadata": {},
   "source": [
    "**CINVESTAV Unidad Saltillo**\n",
    "\n",
    "**Curso Propedeutico del Programa de Maestría en Ciencias en Ingeniería Metalúrgica**\n",
    "\n",
    "Dr. Edgar Ivan Castro Cedeño\n",
    "\n",
    "\n",
    "\n",
    "Contacto:\n",
    "[edgar.castro@cinvestav.mx](mailto:edgar.castro@cinvestav.mx)"
   ]
  },
  {
   "cell_type": "markdown",
   "metadata": {},
   "source": [
    "### 6.1.2 Ejemplos"
   ]
  },
  {
   "cell_type": "markdown",
   "metadata": {},
   "source": [
    "#### 6.1.2.1 Ecuación de conducción de calor (régimen estacionario)"
   ]
  },
  {
   "cell_type": "markdown",
   "metadata": {},
   "source": [
    "$$\\frac{d^2T}{dx^2} + h^{\\prime}\\left(T_{a} - T\\right) = 0$$\n",
    "\n",
    "$$T(0) = T_1$$\n",
    "\n",
    "$$T(L) = T_2$$\n",
    "\n"
   ]
  },
  {
   "cell_type": "markdown",
   "metadata": {},
   "source": [
    "<center>\n",
    "\n",
    "<img src=\"figures/images/barConvective1D.png\" style=\"height:200px\" title=\"Finite difference stencil\">\n",
    "\n",
    "***Figura 02. Esquema auxiliar para representación del problema de conducción de calor.***\n",
    "\n",
    "</center>"
   ]
  },
  {
   "cell_type": "markdown",
   "metadata": {},
   "source": [
    "**Discretización de la ecuación por el método de diferencias finitas:**\n",
    "\n",
    "$$\\frac{T_{i-1} + T_{i+1} - 2T_{i}}{(\\Delta x)^2} + h^{\\prime} \\left(T_{\\infty}-T_{i}\\right) = 0$$\n",
    "\n",
    "\n",
    "Reordenando se obtiene la ecuación lineal:\n",
    "\n",
    "$$-T_{i-1} + \\left(2+h^{\\prime}(\\Delta x)^2\\right) T_{i} - T_{i+1} = h^{\\prime}(\\Delta x)^2 T_{a}$$"
   ]
  },
  {
   "cell_type": "markdown",
   "metadata": {},
   "source": [
    "#### 6.1.2.2 Problema de aplicación"
   ]
  },
  {
   "cell_type": "markdown",
   "metadata": {},
   "source": [
    "Resuelva el problema de conducción de calor en régimen estacionario, considerando una barra de $10\\,m$ con un coeficiente de transferencia de calor $h^{\\prime}=0.01\\,m^{-2}$, $T_{a}=20$, y condiciones a la frontera:\n",
    "\n",
    "$$T(0) = 40$$\n",
    "$$T(10) = 200$$\n",
    "\n",
    "Usando cuatro nodos interiores con un segmento de longitud $\\Delta x = 2 \\, m$."
   ]
  },
  {
   "cell_type": "markdown",
   "metadata": {},
   "source": [
    "<center>\n",
    "\n",
    "<img src=\"figures/images/finiteDifference1DProblem.png\" style=\"height:300px\" title=\"Finite difference stencil\">\n",
    "\n",
    "***Figura 03. Esquema auxiliar para representación del mallado para el problema de conducción de calor.***\n",
    "\n",
    "</center>"
   ]
  },
  {
   "cell_type": "markdown",
   "metadata": {},
   "source": [
    "**Solución:**\n",
    "\n"
   ]
  },
  {
   "cell_type": "markdown",
   "metadata": {},
   "source": [
    "Cálculo de coeficientes para construir el sistema de ecuaciones:\n",
    "\n",
    "$$h^{\\prime}(\\Delta x)^2 = 0.04$$\n",
    "\n",
    "$$\\left(2+h^{\\prime}(\\Delta x)^2\\right) = 2.04$$\n",
    "\n",
    "$$h^{\\prime}(\\Delta x)^2 T_{a} = 0.8$$"
   ]
  },
  {
   "cell_type": "markdown",
   "metadata": {},
   "source": [
    "Escritura de ecuaciones para cada nodo:\n",
    "\n",
    "$$2.04 T_1 - T_2 = 0.8 + 40$$\n",
    "\n",
    "$$-T_1 + 2.04 T_2 - T_3 = 0.8$$\n",
    "\n",
    "$$-T_2 + 2.04 T_3 - T_4 = 0.8$$\n",
    "\n",
    "$$-T_3 + 2.04 T_4 = 0.8 + 200$$"
   ]
  },
  {
   "cell_type": "markdown",
   "metadata": {},
   "source": [
    "Escritura en forma matricial:\n",
    "\n",
    "$$\\begin{pmatrix} 2.04 & -1 & 0 & 0 \\\\ -1 & 2.04 & -1 & 0 \\\\ 0 & -1 & 2.04 & -1 \\\\ 0 & 0 & -1 & 2.04 \\end{pmatrix} \\begin{pmatrix} T_1 \\\\ T_2 \\\\ T_3 \\\\ T_4 \\end{pmatrix} = \\begin{pmatrix} 40.8 \\\\ 0.8 \\\\ 0.8 \\\\ 200.8 \\end{pmatrix}$$"
   ]
  },
  {
   "cell_type": "markdown",
   "metadata": {},
   "source": [
    "#### Solución con `scipy`, escribiendo la matriz completa"
   ]
  },
  {
   "cell_type": "code",
   "execution_count": 2,
   "metadata": {},
   "outputs": [],
   "source": [
    "from scipy.linalg import solve"
   ]
  },
  {
   "cell_type": "code",
   "execution_count": 3,
   "metadata": {},
   "outputs": [
    {
     "name": "stdout",
     "output_type": "stream",
     "text": [
      "[ 65.96983437  93.77846211 124.53822833 159.47952369]\n"
     ]
    }
   ],
   "source": [
    "A = np.array([[2.04, -1, 0, 0], \n",
    "              [-1, 2.04, -1, 0],\n",
    "              [0, -1, 2.04, -1],\n",
    "              [0, 0, -1, 2.04]])\n",
    "b = np.array([40.8, 0.8, 0.8, 200.8])\n",
    "\n",
    "T = solve(A, b)\n",
    "print(T)"
   ]
  },
  {
   "cell_type": "markdown",
   "metadata": {},
   "source": [
    "#### Solución con `scipy`, escribiendo como matriz dispersa"
   ]
  },
  {
   "cell_type": "code",
   "execution_count": 4,
   "metadata": {},
   "outputs": [],
   "source": [
    "from scipy.sparse import diags_array\n",
    "from scipy.sparse.linalg import spsolve"
   ]
  },
  {
   "cell_type": "code",
   "execution_count": 5,
   "metadata": {},
   "outputs": [
    {
     "name": "stdout",
     "output_type": "stream",
     "text": [
      "[ 65.96983437  93.77846211 124.53822833 159.47952369]\n"
     ]
    }
   ],
   "source": [
    "dp = np.array([2.04, 2.04, 2.04, 2.04])\n",
    "dl = np.array([-1, -1, -1])\n",
    "du = np.array([-1, -1, -1])\n",
    "A = diags_array([dp, dl, du], offsets=[0, -1, 1], format='csc')\n",
    "b = np.array([40.8, 0.8, 0.8, 200.8])\n",
    "\n",
    "T4 = spsolve(A, b)\n",
    "print(T4)"
   ]
  },
  {
   "cell_type": "markdown",
   "metadata": {},
   "source": [
    "#### 6.1.2.3 Parametrización del problema"
   ]
  },
  {
   "cell_type": "markdown",
   "metadata": {},
   "source": [
    "El problema se puede parametrizar de tal forma que se pueda obtener de forma algorítmica una solución para un número arbitrario de nodos."
   ]
  },
  {
   "cell_type": "code",
   "execution_count": 6,
   "metadata": {},
   "outputs": [],
   "source": [
    "# parámetros de entrada\n",
    "L = 10 # tamaño del dominio [m]\n",
    "n = 20  # número de nodos en el sistema\n",
    "h = 0.01 # coeficiente de transferencia de calor, [m-2]\n",
    "Ta = 20 # Temperatura ambiente \"lejos de la barra\"\n",
    "T0 = 40 # Temperatura en x=0\n",
    "TL = 200 # Temperatura en x=L\n"
   ]
  },
  {
   "cell_type": "code",
   "execution_count": 7,
   "metadata": {},
   "outputs": [],
   "source": [
    "# cálculo de coeficientes para construir el sistema de ecuaciones\n",
    "dx = L/(n+1)\n",
    "hdx2 = h*(dx)**2\n",
    "hdx2Ta = hdx2*Ta"
   ]
  },
  {
   "cell_type": "code",
   "execution_count": 8,
   "metadata": {},
   "outputs": [],
   "source": [
    "# construcción de la matriz A (LHS)\n",
    "dp = (2+hdx2) * np.ones(shape=(n))\n",
    "dl = -1 * np.ones(shape=(n-1))\n",
    "du = -1 * np.ones(shape=(n-1))\n",
    "A = diags_array([dp, dl, du], offsets=[0, -1, 1], format='csc')\n",
    "\n",
    "# construcción del vector b (RHS)\n",
    "b = hdx2Ta * np.ones_like(dp)\n",
    "b[0] += T0\n",
    "b[-1] += TL\n",
    "\n",
    "# solución del sistema\n",
    "T = spsolve(A, b)"
   ]
  },
  {
   "cell_type": "code",
   "execution_count": 10,
   "metadata": {},
   "outputs": [],
   "source": [
    "def Tlin(x, T0, TL, L):\n",
    "    return T0 + (TL-T0)/(L) * x"
   ]
  },
  {
   "cell_type": "code",
   "execution_count": 11,
   "metadata": {},
   "outputs": [
    {
     "data": {
      "image/png": "[encoded data removed]",
      "text/plain": [
       "<Figure size 640x480 with 1 Axes>"
      ]
     },
     "metadata": {},
     "output_type": "display_data"
    }
   ],
   "source": [
    "fig, ax = plt.subplots()\n",
    "\n",
    "x = np.linspace(dx, L, n)\n",
    "y = T\n",
    "\n",
    "ax.plot(x, Tlin(x,T0, TL, L), color='k', ls='--')\n",
    "ax.plot(0, T0, ls='', marker='s')\n",
    "ax.plot(L, TL, ls='', marker='s')\n",
    "ax.plot([2, 4, 6, 8], T4, ls='', marker='o', label='4 nodos')\n",
    "ax.plot(x, y, ls='', marker='.', label=f'{n} nodos')\n",
    "ax.set(xlim=(0, L), ylim=(T0, TL),\n",
    "       xlabel='x [m]', ylabel='T')\n",
    "ax.legend()\n",
    "ax.grid(ls='--')\n",
    "fig.tight_layout()\n",
    "plt.show()"
   ]
  },
  {
   "cell_type": "markdown",
   "metadata": {},
   "source": []
  }
 ],
 "metadata": {
  "kernelspec": {
   "display_name": "Python 3",
   "language": "python",
   "name": "python3"
  },
  "language_info": {
   "codemirror_mode": {
    "name": "ipython",
    "version": 3
   },
   "file_extension": ".py",
   "mimetype": "text/x-python",
   "name": "python",
   "nbconvert_exporter": "python",
   "pygments_lexer": "ipython3",
   "version": "3.10.12"
  }
 },
 "nbformat": 4,
 "nbformat_minor": 2
}
