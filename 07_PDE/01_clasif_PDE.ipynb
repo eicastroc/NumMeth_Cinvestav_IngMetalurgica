{
 "cells": [
  {
   "cell_type": "code",
   "execution_count": 1,
   "metadata": {},
   "outputs": [],
   "source": [
    "import numpy as np\n",
    "import matplotlib.pyplot as plt"
   ]
  },
  {
   "cell_type": "markdown",
   "metadata": {},
   "source": [
    "# Métodos numéricos"
   ]
  },
  {
   "cell_type": "markdown",
   "metadata": {},
   "source": [
    "<img src=\"figures/LogoCinvestav.png\" style=\"height:100px\" title=\"Cinvestav\">"
   ]
  },
  {
   "cell_type": "markdown",
   "metadata": {},
   "source": [
    "**CINVESTAV Unidad Saltillo**\n",
    "\n",
    "**Curso Propedeutico del Programa de Maestría en Ciencias en Ingeniería Metalúrgica**\n",
    "\n",
    "Dr. Edgar Ivan Castro Cedeño\n",
    "\n",
    "\n",
    "\n",
    "Contacto:\n",
    "[edgar.castro@cinvestav.mx](mailto:edgar.castro@cinvestav.mx)"
   ]
  },
  {
   "cell_type": "markdown",
   "metadata": {},
   "source": [
    "## 7.1 Clasificación de las ecuaciones diferenciales parciales"
   ]
  },
  {
   "cell_type": "markdown",
   "metadata": {},
   "source": [
    "**Ecuación diferencial parcial general de segundo orden:**\n",
    "\n",
    "Para fines didácticos se considera la ecuación diferencial parcial de segundo orden, dada por:\n",
    "\n",
    "$$\n",
    "A \\frac{\\partial^2 \\phi}{\\partial x^2} + B \\frac{\\partial^2 \\phi}{\\partial x \\partial y} + C \\frac{\\partial^2 \\phi}{\\partial y^2} + D \\frac{\\partial \\phi}{\\partial x} + E \\frac{\\partial \\phi}{\\partial y} + F \\phi + G = 0\n",
    "$$\n",
    "\n",
    "Los coeficientes $A, B, C, D, E, F, G$ son funciones de la posición $(x, y)$, pero no de la variable transportada $\\phi$."
   ]
  },
  {
   "cell_type": "markdown",
   "metadata": {},
   "source": [
    "**A continuación se analiza el comportamiento de esta ecuación, ignorando las no-linealidades:**\n",
    "\n",
    "Como se muestra en la ***Tabla 1***, el comportamiento de la ecuación se puede clasificar de acuerdo con el signo del discriminante:\n",
    "\n",
    "$$\n",
    "\\mathcal{D} = B^2 - 4AC\n",
    "$$"
   ]
  },
  {
   "cell_type": "markdown",
   "metadata": {},
   "source": [
    "<center>\n",
    "\n",
    "***Tabla 1: Clasificación matemática de ecuaciones diferenciales parciales.***\n",
    "\n",
    "| $B^2 - 4AC$      | Tipo        | Ejemplo      | Comentario |\n",
    "| :---:       |    :----:   | :---         | :---  |\n",
    "| $< 0$       | Elíptica    | $\\frac{\\partial^2 \\phi}{\\partial x^2} + \\frac{\\partial^2 \\phi}{\\partial y^2} = 0$ | **Ecuación de Laplace** (régimen estacionario)  |\n",
    "| $= 0$       | Parabólica   | $\\frac{\\partial \\phi}{\\partial t} = \\alpha \\frac{\\partial^2 \\phi}{\\partial x^2}$ | **Ecuación de difusión** (régimen transitorio) |\n",
    "| $> 0$       | Hiperbólica  | $\\frac{\\partial^2 u}{\\partial x^2} = \\frac{1}{c^2} \\frac{\\partial^2 u}{\\partial t^2}$   | **Ecuación de onda**  (régimen transitorio) |\n",
    "\n",
    "</center>"
   ]
  },
  {
   "cell_type": "markdown",
   "metadata": {},
   "source": []
  }
 ],
 "metadata": {
  "kernelspec": {
   "display_name": "Python 3",
   "language": "python",
   "name": "python3"
  },
  "language_info": {
   "codemirror_mode": {
    "name": "ipython",
    "version": 3
   },
   "file_extension": ".py",
   "mimetype": "text/x-python",
   "name": "python",
   "nbconvert_exporter": "python",
   "pygments_lexer": "ipython3",
   "version": "3.10.12"
  }
 },
 "nbformat": 4,
 "nbformat_minor": 2
}
