{
 "cells": [
  {
   "cell_type": "code",
   "execution_count": 1,
   "metadata": {},
   "outputs": [],
   "source": [
    "import numpy as np\n",
    "import matplotlib.pyplot as plt\n",
    "from copy import copy"
   ]
  },
  {
   "cell_type": "markdown",
   "metadata": {},
   "source": [
    "# Métodos numéricos"
   ]
  },
  {
   "cell_type": "markdown",
   "metadata": {},
   "source": [
    "<img src=\"figures/LogoCinvestav.png\" style=\"height:100px\" title=\"Cinvestav\">"
   ]
  },
  {
   "cell_type": "markdown",
   "metadata": {},
   "source": [
    "**CINVESTAV Unidad Saltillo**\n",
    "\n",
    "**Curso Propedeutico del Programa de Maestría en Ciencias en Ingeniería Metalúrgica**\n",
    "\n",
    "Dr. Edgar Ivan Castro Cedeño\n",
    "\n",
    "\n",
    "\n",
    "Contacto:\n",
    "[edgar.castro@cinvestav.mx](mailto:edgar.castro@cinvestav.mx)"
   ]
  },
  {
   "cell_type": "markdown",
   "metadata": {},
   "source": [
    "## 7.2 Método de diferencias finitas para ecuaciones diferenciales parciales"
   ]
  },
  {
   "cell_type": "markdown",
   "metadata": {},
   "source": [
    "### 7.2.1 Ejemplo: Ecuación de conducción de calor"
   ]
  },
  {
   "cell_type": "markdown",
   "metadata": {},
   "source": [
    "La ecuación de conducción de calor en régimen transitorio es un ejemplo de una ecuación diferencial parcial de tipo parabólica."
   ]
  },
  {
   "cell_type": "markdown",
   "metadata": {},
   "source": [
    "$$\\frac{\\partial T}{\\partial t} = \\alpha \\frac{\\partial^2 T}{\\partial x^2}$$"
   ]
  },
  {
   "cell_type": "markdown",
   "metadata": {},
   "source": [
    "Se consideran las siguientes aproximaciones por diferencias finitas:\n",
    "\n",
    "$$\\frac{\\partial T}{\\partial t} = \\frac{T_i^{\\theta+1} - T_i^{\\theta}}{\\Delta t}$$\n",
    "\n",
    "$$\\frac{\\partial^2 T}{\\partial x^2} = \\frac{T_{i-1}^{\\theta} -2 T_{i}^{\\theta} + T_{i+1}^{\\theta}}{(\\Delta x)^2}$$"
   ]
  },
  {
   "cell_type": "markdown",
   "metadata": {},
   "source": [
    "Reescribiendo la ecuación con las aproximaciones por diferencias finitas:\n",
    "\n",
    "$$\\frac{T_i^{\\theta+1} - T_i^{\\theta}}{\\Delta t} = \\alpha \\frac{T_{i-1}^{\\theta} -2 T_{i}^{\\theta} + T_{i+1}^{\\theta}}{(\\Delta x)^2}$$"
   ]
  },
  {
   "cell_type": "markdown",
   "metadata": {},
   "source": [
    "Reacomodando términos, se obtiene una ecuación explícita que permite calcular $T_i^{\\theta+1}$ en función de los valores de temperatura en el tiempo previo, $\\theta$:\n",
    "\n",
    "\n",
    "$$ T_{i}^{\\theta+1} = T_{i}^{\\theta} + \\lambda \\left( T_{i-1}^{\\theta} - 2 T_{i}^{\\theta} + T_{i+1}^{\\theta} \\right)$$\n",
    "\n",
    "$$\\lambda =  \\frac{\\alpha \\Delta t}{(\\Delta x)^2}$$"
   ]
  },
  {
   "cell_type": "markdown",
   "metadata": {},
   "source": [
    "### 7.2.2 Resolución de un problema de conducción de calor"
   ]
  },
  {
   "cell_type": "markdown",
   "metadata": {},
   "source": [
    "**Problema:**\n",
    "\n",
    "Utilice el método explícito para obtener la distribución de temperatura en una varilla larga y delgada de aluminio de longitud $10$ $\\mathrm{cm}$.\n",
    "\n",
    "Las propiedades termofísicas de la barra son las siguientes:\n",
    "\n",
    "- $k$: $0.49$ [$\\mathrm{cal.s^{-1}.cm^{-1}.^{\\circ}C^{-1}}$]\n",
    "- $C$: $0.2174$ [$\\mathrm{cal.g^{-1}.^{\\circ}C^{-1}}$]\n",
    "- $\\rho$: $2.7$ [$\\mathrm{g.cm^{-3}}$]\n",
    "\n",
    "En $t=0$, la temperatura de la varilla es cero, y las condiciones a la frontera en todo momento son $T(0)=100$ $\\mathrm{^{\\circ}C}$, y $T(10)=50$ $\\mathrm{^{\\circ}C}$.\n",
    "\n",
    "Considere para la resolución del problema $\\Delta x = 2$ $\\mathrm{cm}$, y $\\Delta t = 0.1$ $\\mathrm{s}$."
   ]
  },
  {
   "cell_type": "markdown",
   "metadata": {},
   "source": [
    "**Solución**"
   ]
  },
  {
   "cell_type": "markdown",
   "metadata": {},
   "source": [
    "<center>\n",
    "\n",
    "<img src=\"figures/images/finiteDifference1DProblem.png\" style=\"height:300px\" title=\"Finite difference stencil\">\n",
    "\n",
    "***Figura 01. Esquema auxiliar para representación del mallado para el problema de conducción de calor.***\n",
    "\n",
    "</center>"
   ]
  },
  {
   "cell_type": "markdown",
   "metadata": {},
   "source": [
    "La difusividad térmica se calcula como:\n",
    "\n",
    "$$\\alpha = \\frac{k}{\\rho C} = \\frac{0.49}{(2.7)(0.2174)} = 0.835 \\, [\\mathrm{cm^2.s^{-1}}]$$\n",
    "\n",
    "La constante $\\lambda$ se calcula como:\n",
    "\n",
    "$$\\lambda = \\frac{\\alpha \\Delta t}{(\\Delta x)^2} = \\frac{(0.835)(0.1)}{(2)^2} = 0.20875$$"
   ]
  },
  {
   "cell_type": "markdown",
   "metadata": {},
   "source": [
    "Escritura de las ecuaciones para cada nodo:\n",
    "\n",
    "$$ T_{1}^{\\theta+1} = T_{1}^{\\theta} + \\lambda \\left( 100 - 2 T_{1}^{\\theta} + T_{2}^{\\theta} \\right)$$\n",
    "$$ T_{2}^{\\theta+1} = T_{2}^{\\theta} + \\lambda \\left( T_{1}^{\\theta} - 2 T_{2}^{\\theta} + T_{3}^{\\theta} \\right)$$\n",
    "$$ T_{3}^{\\theta+1} = T_{3}^{\\theta} + \\lambda \\left( T_{2}^{\\theta} - 2 T_{3}^{\\theta} + T_{4}^{\\theta} \\right)$$\n",
    "$$ T_{4}^{\\theta+1} = T_{4}^{\\theta} + \\lambda \\left( T_{3}^{\\theta} - 2 T_{4}^{\\theta} + 50 \\right)$$"
   ]
  },
  {
   "cell_type": "markdown",
   "metadata": {},
   "source": [
    "Escritura en forma matricial (con propósito ilustrativo):\n",
    "\n",
    "$$\\begin{pmatrix} 1 & 0 & 0 & 0 \\\\ 0 & 1 & 0 & 0 \\\\ 0 & 0 & 1 & 0 \\\\ 0 & 0 & 0 & 1 \\end{pmatrix} \\begin{pmatrix} T_1^{\\theta+1} \\\\ T_2^{\\theta+1} \\\\ T_3^{\\theta+1} \\\\ T_4^{\\theta+1} \\end{pmatrix} = \\begin{pmatrix} T_{1}^{\\theta} + \\lambda \\left( 100 - 2 T_{1}^{\\theta} + T_{2}^{\\theta} \\right) \\\\ T_{2}^{\\theta} + \\lambda \\left( T_{1}^{\\theta} - 2 T_{2}^{\\theta} + T_{3}^{\\theta} \\right) \\\\ T_{3}^{\\theta} + \\lambda \\left( T_{2}^{\\theta} - 2 T_{3}^{\\theta} + T_{4}^{\\theta} \\right) \\\\ T_{4}^{\\theta} + \\lambda \\left( T_{3}^{\\theta} - 2 T_{4}^{\\theta} + 50 \\right) \\end{pmatrix}$$"
   ]
  },
  {
   "cell_type": "code",
   "execution_count": 13,
   "metadata": {},
   "outputs": [],
   "source": [
    "# parámetros de entrada\n",
    "L = 10 # tamaño del dominio [cm]\n",
    "n = 4  # número de nodos en el sistema\n",
    "\n",
    "k = 0.49 # conductividad térmica [cal.s-1.cm-1.C-1]\n",
    "C = 0.2174 # capacidad calorífica [cal.g-1.C-1]\n",
    "rho = 2.7 # densidad, [g.cm-3]\n",
    "\n",
    "Tini = 0 # Temperatura inicial, en todo el dominio\n",
    "T0 = 100 # Temperatura en x=0\n",
    "TL = 50 # Temperatura en x=L\n",
    "\n",
    "dt = 0.1 # paso de tiempo, [s]\n",
    "ndt = 500\n",
    "plotEvery = 50"
   ]
  },
  {
   "cell_type": "code",
   "execution_count": 14,
   "metadata": {},
   "outputs": [],
   "source": [
    "# calculo de coeficientes para construir sistema de ecuaciones\n",
    "dx = L/(n+1)\n",
    "alp = k/(rho*C)\n",
    "lamb = alp*dt/((dx)**2)"
   ]
  },
  {
   "cell_type": "code",
   "execution_count": 15,
   "metadata": {},
   "outputs": [
    {
     "data": {
      "image/png": "[encoded data removed]",
      "text/plain": [
       "<Figure size 640x480 with 1 Axes>"
      ]
     },
     "metadata": {},
     "output_type": "display_data"
    }
   ],
   "source": [
    "fig, ax = plt.subplots()\n",
    "\n",
    "x = np.linspace(dx, L-dx, n)\n",
    "ax.plot(0, T0, ls='', marker='s', color='k')\n",
    "ax.plot(L, TL, ls='', marker='s', color='k')\n",
    "\n",
    "# inicialización de variables de temperatura\n",
    "Told = Tini * np.ones(shape=n)\n",
    "Tnew = copy(Told)\n",
    "t = 0\n",
    "\n",
    "# \n",
    "for theta in range(ndt+1):\n",
    "    Tnew[0] = Told[0] + lamb *(T0 - 2*Told[0] + Told[1])\n",
    "    for i in range(1,n-1):\n",
    "        Tnew[i] = Told[i] + lamb * (Told[i-1] - 2*Told[i] + Told[i+1])\n",
    "    Tnew[-1] = Told[-1] + lamb * (Told[-2] - 2*Told[-1] + TL)\n",
    "    t += dt\n",
    "    Told = copy(Tnew)\n",
    "\n",
    "    if theta % plotEvery == 0 and theta != 0:\n",
    "        ax.plot(x, Tnew, ls='', marker='o', label=f\"t={str(np.round(t,0))}\")\n",
    "\n",
    "ax.set(xlim=(0, L), ylim=(0, max(T0, TL)),\n",
    "       xlabel='x [cm]', ylabel='Temperatura')\n",
    "ax.grid(ls='--')\n",
    "ax.legend(loc='center left', bbox_to_anchor=[1, 0.5])\n",
    "fig.tight_layout()\n",
    "plt.show()"
   ]
  },
  {
   "cell_type": "code",
   "execution_count": null,
   "metadata": {},
   "outputs": [],
   "source": []
  }
 ],
 "metadata": {
  "kernelspec": {
   "display_name": "Python 3",
   "language": "python",
   "name": "python3"
  },
  "language_info": {
   "codemirror_mode": {
    "name": "ipython",
    "version": 3
   },
   "file_extension": ".py",
   "mimetype": "text/x-python",
   "name": "python",
   "nbconvert_exporter": "python",
   "pygments_lexer": "ipython3",
   "version": "3.10.12"
  }
 },
 "nbformat": 4,
 "nbformat_minor": 2
}
