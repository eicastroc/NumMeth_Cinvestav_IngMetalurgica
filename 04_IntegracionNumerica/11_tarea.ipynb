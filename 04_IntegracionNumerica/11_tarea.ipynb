{
 "cells": [
  {
   "cell_type": "code",
   "execution_count": 2,
   "metadata": {},
   "outputs": [],
   "source": [
    "import numpy as np\n",
    "import matplotlib.pyplot as plt\n",
    "from scipy.integrate import trapezoid, simpson"
   ]
  },
  {
   "cell_type": "markdown",
   "metadata": {},
   "source": [
    "# Métodos numéricos"
   ]
  },
  {
   "cell_type": "markdown",
   "metadata": {},
   "source": [
    "<img src=\"figures/LogoCinvestav.png\" style=\"height:100px\" title=\"Cinvestav\">"
   ]
  },
  {
   "cell_type": "markdown",
   "metadata": {},
   "source": [
    "**CINVESTAV Unidad Saltillo**\n",
    "\n",
    "**Curso Propedeutico del Programa de Maestría en Ciencias en Ingeniería Metalúrgica**\n",
    "\n",
    "Dr. Edgar Ivan Castro Cedeño\n",
    "\n",
    "\n",
    "Enero - Junio 2025\n",
    "\n",
    "Contacto:\n",
    "[edgar.castro@cinvestav.mx](mailto:edgar.castro@cinvestav.mx)"
   ]
  },
  {
   "cell_type": "markdown",
   "metadata": {},
   "source": [
    "# 1"
   ]
  },
  {
   "cell_type": "markdown",
   "metadata": {},
   "source": [
    "Se ha medido la concentración a la salida de un reactor sobre un periodo de 24 horas:\n",
    " \n",
    "<center>\n",
    "\n",
    "| t[h] | c [mg/l] |\n",
    "|------|----------|\n",
    "| 0 | 1 |\n",
    "| 1 | 1.5 |\n",
    "| 5.5 | 2.3 |\n",
    "| 10 | 2.1 |\n",
    "| 12 | 4 |\n",
    "| 14 | 5 |\n",
    "| 16 | 5.5 |\n",
    "| 18 | 5 |\n",
    "| 20 | 3 |\n",
    "| 24 | 1.2 |\n",
    "\n",
    "</center>"
   ]
  },
  {
   "cell_type": "code",
   "execution_count": 8,
   "metadata": {},
   "outputs": [],
   "source": [
    "t = np.array([0, 1, 5.5, 10, 12, 14, 16, 18, 20, 24])\n",
    "c = np.array([1, 1.5, 2.3, 2.1, 4, 5, 5.5, 5, 3, 1.2])"
   ]
  },
  {
   "cell_type": "markdown",
   "metadata": {},
   "source": [
    "El flujo a la salida del reactor $[\\mathrm{m^3.s^{-1}}]$ se puede calcular con la siguiente ecuación:\n",
    "\n",
    "$$Q(t) = 20 + 10 \\sin\\left(\\frac{2 \\pi}{24} (t-10) \\right)$$"
   ]
  },
  {
   "cell_type": "markdown",
   "metadata": {},
   "source": [
    "Utilice un método de integración numérica para determinar el la concentración promedio que sale del reactor en el periodo de 24 horas.\n",
    "\n",
    "$$\\bar{c} = \\frac{\\int_0^t Q(t) c(t) dt}{\\int_0^t Q(t) dt}$$"
   ]
  },
  {
   "cell_type": "code",
   "execution_count": null,
   "metadata": {},
   "outputs": [],
   "source": []
  }
 ],
 "metadata": {
  "kernelspec": {
   "display_name": "Python 3",
   "language": "python",
   "name": "python3"
  },
  "language_info": {
   "codemirror_mode": {
    "name": "ipython",
    "version": 3
   },
   "file_extension": ".py",
   "mimetype": "text/x-python",
   "name": "python",
   "nbconvert_exporter": "python",
   "pygments_lexer": "ipython3",
   "version": "3.10.12"
  }
 },
 "nbformat": 4,
 "nbformat_minor": 2
}
