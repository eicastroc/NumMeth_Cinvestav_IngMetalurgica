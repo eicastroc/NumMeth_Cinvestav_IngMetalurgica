{
 "cells": [
  {
   "cell_type": "code",
   "execution_count": 2,
   "metadata": {},
   "outputs": [],
   "source": [
    "import os\n",
    "import numpy as np\n",
    "import matplotlib.pyplot as plt"
   ]
  },
  {
   "cell_type": "code",
   "execution_count": 6,
   "metadata": {},
   "outputs": [
    {
     "data": {
      "image/png": "[encoded data removed]",
      "text/plain": [
       "<Figure size 600x300 with 1 Axes>"
      ]
     },
     "metadata": {},
     "output_type": "display_data"
    }
   ],
   "source": [
    "fig, ax = plt.subplots(figsize=(6, 3))\n",
    "\n",
    "x = np.linspace(0, 1, 5)\n",
    "y = np.zeros_like(x)\n",
    "\n",
    "xi = np.array([0.2, 0.4, 0.6, 0.8])\n",
    "yi = np.zeros_like(xi)\n",
    "\n",
    "ax.plot(x, y)\n",
    "ax.plot(xi, yi, marker='o', ls='')\n",
    "\n",
    "ax.set(xlim=(0, 1), ylim=(-1, 1),\n",
    "       xlabel='x [m]',\n",
    "       yticks=[0], yticklabels=[\"\"])\n",
    "ax.grid(ls='--')\n",
    "\n",
    "ax.annotate(r\"$T(0)=1000$\", xy=(0, 0.125), ha='left', va='center')\n",
    "ax.annotate(r\"$x_{1}, T_{1}$\", xy=(0.2, -0.125), ha='center', va='center')\n",
    "ax.annotate(r\"$x_{2}, T_{2}$\", xy=(0.4, -0.125), ha='center', va='center')\n",
    "ax.annotate(r\"$x_{3}, T_{3}$\", xy=(0.6, -0.125), ha='center', va='center')\n",
    "ax.annotate(r\"$x_{4}, T_{4}$\", xy=(0.8, -0.125), ha='center', va='center')\n",
    "ax.annotate(r\"$T(1)=1000$\", xy=(1, 0.125), ha='right', va='center')\n",
    "\n",
    "fig.tight_layout()\n",
    "\n",
    "path = os.path.join(\"../\", \"images\", \"finiteDifference1DProblem.png\")\n",
    "fig.savefig(path, dpi=300)\n",
    "\n",
    "plt.show()"
   ]
  },
  {
   "cell_type": "code",
   "execution_count": null,
   "metadata": {},
   "outputs": [],
   "source": []
  }
 ],
 "metadata": {
  "kernelspec": {
   "display_name": "Python 3",
   "language": "python",
   "name": "python3"
  },
  "language_info": {
   "codemirror_mode": {
    "name": "ipython",
    "version": 3
   },
   "file_extension": ".py",
   "mimetype": "text/x-python",
   "name": "python",
   "nbconvert_exporter": "python",
   "pygments_lexer": "ipython3",
   "version": "3.10.12"
  }
 },
 "nbformat": 4,
 "nbformat_minor": 2
}
