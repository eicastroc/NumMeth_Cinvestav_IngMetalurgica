{
 "cells": [
  {
   "cell_type": "code",
   "execution_count": 1,
   "metadata": {},
   "outputs": [],
   "source": [
    "import numpy as np\n",
    "import matplotlib.pyplot as plt\n",
    "from oneVar import bisection\n",
    "from scipy.optimize import bisect"
   ]
  },
  {
   "cell_type": "markdown",
   "metadata": {},
   "source": [
    "# Métodos numéricos"
   ]
  },
  {
   "cell_type": "markdown",
   "metadata": {},
   "source": [
    "<img src=\"figures/LogoCinvestav.png\" style=\"height:100px\" title=\"Cinvestav\">"
   ]
  },
  {
   "cell_type": "markdown",
   "metadata": {},
   "source": [
    "**CINVESTAV Unidad Saltillo**\n",
    "\n",
    "**Curso Propedeutico del Programa de Maestría en Ciencias en Ingeniería Metalúrgica**\n",
    "\n",
    "Dr. Edgar Ivan Castro Cedeño\n",
    "\n",
    "\n",
    "Enero - Junio 2025\n",
    "\n",
    "Contacto:\n",
    "[edgar.castro@cinvestav.mx](mailto:edgar.castro@cinvestav.mx)"
   ]
  },
  {
   "cell_type": "markdown",
   "metadata": {},
   "source": [
    "# 1."
   ]
  },
  {
   "cell_type": "markdown",
   "metadata": {},
   "source": [
    "Determine el valor de las raíces reales de la ecuación:\n",
    "\n",
    "$$f(x) = -0.6x^2 + 2.4x + 5.5$$\n",
    "\n",
    "- Gráficamente.\n",
    "\n",
    "- Usando la fórmula cuadrática\n",
    "\n",
    "- Utilizando el método de bisección para encontrar la raíz más grande.\n",
    "    - Haga tres iteraciones del método.\n",
    "    - Utilice un intervalo inicial, $x_l=5$ y $x_u=10$.\n",
    "    - Calcule el error estimado $\\varepsilon_a$ y el error real $\\varepsilon_t$ después de cada iteración.\n",
    "\n",
    "    $$ \\varepsilon_a(\\%)= \\left| \\frac{x_r - x_r^{\\mathrm{old}}}{x_r} \\right| \\times 100$$ \n",
    "\n",
    "    $$ \\varepsilon_t = \\left| x_r - x_0 \\right|"
   ]
  },
  {
   "cell_type": "markdown",
   "metadata": {},
   "source": [
    "## Solución gŕafica"
   ]
  },
  {
   "cell_type": "code",
   "execution_count": null,
   "metadata": {},
   "outputs": [],
   "source": []
  },
  {
   "cell_type": "markdown",
   "metadata": {},
   "source": [
    "## Solución con fórmula cuadrática"
   ]
  },
  {
   "cell_type": "markdown",
   "metadata": {},
   "source": [
    "$$ax^2 + bx + c = 0$$\n",
    "\n",
    "$$x = \\frac{-b \\pm \\sqrt{b^2 - 4ac}}{2a}$$"
   ]
  },
  {
   "cell_type": "code",
   "execution_count": null,
   "metadata": {},
   "outputs": [],
   "source": []
  },
  {
   "cell_type": "markdown",
   "metadata": {},
   "source": [
    "## Solución con el método de bisección"
   ]
  },
  {
   "cell_type": "code",
   "execution_count": null,
   "metadata": {},
   "outputs": [],
   "source": []
  },
  {
   "cell_type": "markdown",
   "metadata": {},
   "source": [
    "# 2."
   ]
  },
  {
   "cell_type": "markdown",
   "metadata": {},
   "source": [
    "Una ecuación química reversible:\n",
    "\n",
    "$$\\mathrm{2A + B \\rightleftarrows C}$$\n",
    "\n",
    "que se caracteriza con la constante de equilibrio:\n",
    "\n",
    "$$K = \\frac{c_{\\mathrm{c}}}{c_{\\mathrm{a}}^2\\,c_{\\mathrm{b}}}$$\n",
    "\n",
    "donde la nomenclatura $c_{\\mathrm{i}}$ representa la concentración del constituyente $\\mathrm{i}$."
   ]
  },
  {
   "cell_type": "markdown",
   "metadata": {},
   "source": [
    "Suponga que se define la variable $x$ como la representación del número de moles de $\\mathrm{C}$ que se producen.\n",
    "\n",
    "La ley de conservación de masa se puede utilizar para reformular la relación de equilibrio de la siguiente forma:\n",
    "\n",
    "$$K = \\frac{\\left(c_{\\mathrm{c},0} + x\\right)}{\\left(c_{\\mathrm{a}, 0}-2x\\right)^2 \\left(c_{\\mathrm{b},0}-x\\right)}$$"
   ]
  },
  {
   "cell_type": "markdown",
   "metadata": {},
   "source": [
    "Si se tiene que $K = 0.016$, $c_{\\mathrm{a},0} = 42$, $c_{\\mathrm{b},0} = 28$, y $c_{\\mathrm{c},0} = 4$, determine el valor de $x$."
   ]
  },
  {
   "cell_type": "markdown",
   "metadata": {},
   "source": [
    "- Obtenga una solución por método gráfico.\n",
    "\n",
    "- En base al estimado del método gráfico, encuentre la raíz por medio del algoritmo de bisección.\n",
    "    - Utilice el intervalor inicial, $x_l=0$, $x_u=20$\n",
    "    - Utilice como criterio de convergencia, $\\varepsilon_s = 0.5\\%$."
   ]
  },
  {
   "cell_type": "markdown",
   "metadata": {},
   "source": [
    "## Solución por método gráfico"
   ]
  },
  {
   "cell_type": "code",
   "execution_count": null,
   "metadata": {},
   "outputs": [],
   "source": []
  },
  {
   "cell_type": "markdown",
   "metadata": {},
   "source": [
    "## Solución por método de bisección"
   ]
  },
  {
   "cell_type": "code",
   "execution_count": null,
   "metadata": {},
   "outputs": [],
   "source": []
  }
 ],
 "metadata": {
  "kernelspec": {
   "display_name": "Python 3",
   "language": "python",
   "name": "python3"
  },
  "language_info": {
   "codemirror_mode": {
    "name": "ipython",
    "version": 3
   },
   "file_extension": ".py",
   "mimetype": "text/x-python",
   "name": "python",
   "nbconvert_exporter": "python",
   "pygments_lexer": "ipython3",
   "version": "3.10.12"
  }
 },
 "nbformat": 4,
 "nbformat_minor": 2
}
