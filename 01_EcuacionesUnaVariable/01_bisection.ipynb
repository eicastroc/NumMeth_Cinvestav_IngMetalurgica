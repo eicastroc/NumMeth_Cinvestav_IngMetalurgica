{
 "cells": [
  {
   "cell_type": "code",
   "execution_count": 1,
   "metadata": {},
   "outputs": [],
   "source": [
    "import numpy as np\n",
    "import matplotlib.pyplot as plt"
   ]
  },
  {
   "cell_type": "code",
   "execution_count": 2,
   "metadata": {},
   "outputs": [],
   "source": [
    "from oneVar import bisection\n",
    "from scipy.optimize import bisect"
   ]
  },
  {
   "cell_type": "markdown",
   "metadata": {},
   "source": [
    "# Métodos numéricos"
   ]
  },
  {
   "cell_type": "markdown",
   "metadata": {},
   "source": [
    "<img src=\"figures/LogoCinvestav.png\" style=\"height:100px\" title=\"Cinvestav\">"
   ]
  },
  {
   "cell_type": "markdown",
   "metadata": {},
   "source": [
    "**CINVESTAV Unidad Saltillo**\n",
    "\n",
    "**Curso Propedeutico del Programa de Maestría en Ciencias en Ingeniería Metalúrgica**\n",
    "\n",
    "Dr. Edgar Ivan Castro Cedeño\n",
    "\n",
    "\n",
    "Enero - Junio 2025\n",
    "\n",
    "Contacto:\n",
    "[edgar.castro@cinvestav.mx](mailto:edgar.castro@cinvestav.mx)"
   ]
  },
  {
   "cell_type": "markdown",
   "metadata": {},
   "source": [
    "## 1.1 Algorítmo de bisección"
   ]
  },
  {
   "cell_type": "markdown",
   "metadata": {},
   "source": [
    "### 1.1.1 Explicación del algorítmo"
   ]
  },
  {
   "cell_type": "markdown",
   "metadata": {},
   "source": [
    "El algorítmo de bisección es un método iterativo acotado que permite encontrar la raíz de una función dentro del intervalo acotado, en caso que exista."
   ]
  },
  {
   "cell_type": "markdown",
   "metadata": {},
   "source": [
    "1. **Encontrar un intervalo inicial $[x_l, x_u]$ de tal forma que $f(x_l) f(x_u) < 0$.**\n",
    "    - Esto garantiza que existe al menos una raíz dentro del intervalo.\n",
    "\n",
    "2. **Cálcular el valor al punto medio del intervalo, $x_m = \\frac{1}{2} (x_l + x_u)$.**\n",
    "    - Es por esto que se le llama algorítmo de bisección.\n",
    "\n",
    "3. **Determinar el nuevo intervalo donde se encuentra la raíz.**\n",
    "    - Si $f(x_l) f(x_m) < 0$:\n",
    "        - La raíz se encuentra en el intervalo inferior.\n",
    "        - $x_u = x_m$.\n",
    "    - De otra forma, si $f(x_l) f(x_m) > 0$:\n",
    "        - La raíz se encuentra en el intervalo superior.\n",
    "        - $x_l = x_m$.\n",
    "    - Si $f(x_m) < \\varepsilon_s$ (Tolerancia):\n",
    "        - Entonces la raíz $x_r$, es aproximadamente igual a $x_m$.\n",
    "        - $x_r \\approx x_m$."
   ]
  },
  {
   "cell_type": "markdown",
   "metadata": {},
   "source": [
    "### 1.1.2 Implementación propia"
   ]
  },
  {
   "cell_type": "markdown",
   "metadata": {},
   "source": [
    "Se utiliza la implementación del algoritmo de bisección escrita en la función `bisection()` dentro del archivo `oneVar.py`."
   ]
  },
  {
   "cell_type": "code",
   "execution_count": 3,
   "metadata": {},
   "outputs": [
    {
     "name": "stdout",
     "output_type": "stream",
     "text": [
      "Help on function bisection in module oneVar:\n",
      "\n",
      "bisection(f, l, u, tol=None, niter=100)\n",
      "    Basic bisection algorithm for finding the root of a one-variable equation\n",
      "    \n",
      "    Parameters\n",
      "    ----------\n",
      "    f : function\n",
      "        Python function returning a number.  `f` must be continuous, and\n",
      "        f(l) and f(u) must have opposite signs.\n",
      "    l : scalar\n",
      "        lower bound for the bisection method\n",
      "    u : scalar\n",
      "        upper bound for the bisection method\n",
      "    tol : float\n",
      "        Tolerance of the numerical method. Must be a positive number.\n",
      "        Default is None, which means that convergence is not evaluated.\n",
      "    niter : float\n",
      "        maximum number of iterations of the method.\n",
      "        Default value is 100.\n",
      "    \n",
      "    Returns\n",
      "    -------\n",
      "    m : float\n",
      "        value of xm (midpoint) at the last iteration.\n",
      "    n: float\n",
      "        number of iterations of the method\n",
      "\n"
     ]
    }
   ],
   "source": [
    "help(bisection)"
   ]
  },
  {
   "cell_type": "markdown",
   "metadata": {},
   "source": [
    "#### Ejemplo: Función exponencial"
   ]
  },
  {
   "cell_type": "code",
   "execution_count": 4,
   "metadata": {},
   "outputs": [],
   "source": [
    "# función a evaluar\n",
    "f = lambda x: np.exp(-x) - x\n",
    "# intervalo para acotar\n",
    "l, u = -2, 2\n",
    "# numero de iteraciones\n",
    "niter = 5"
   ]
  },
  {
   "cell_type": "code",
   "execution_count": 5,
   "metadata": {},
   "outputs": [
    {
     "data": {
      "image/png": "[encoded data removed]",
      "text/plain": [
       "<Figure size 1200x400 with 1 Axes>"
      ]
     },
     "metadata": {},
     "output_type": "display_data"
    }
   ],
   "source": [
    "# Gráfico ilustrativo del método\n",
    "fig, ax = plt.subplots(figsize=(12, 4))\n",
    "\n",
    "# gráfico de la función\n",
    "x = np.linspace(1.1*l, 1.1*u, 100)\n",
    "ax.plot(x, f(x), color='b')\n",
    "ax.axhline(0, ls=':', color='k')\n",
    "ax.set(xlabel=r'$x$', ylabel=r'$f(x)$')\n",
    "\n",
    "# delimitación del intervalo\n",
    "ax.scatter([l, u], [f(l), f(u)], color='b')\n",
    "ax.text(l, f(l), r\"$l, f(l)$\", ha='center', va='bottom')\n",
    "ax.text(u, f(u), r\"$u, f(u)$\", ha='center', va='bottom')\n",
    "\n",
    "# graficar resultado de cada iteración\n",
    "for its in range(1,niter+1):\n",
    "    m, n = bisection(f, l, u, tol=None, niter=its)\n",
    "    ax.scatter(m, f(m), color='k', facecolor=\"None\")\n",
    "    ax.text(m, f(m), r\"$m_{:d}$\".format(n), fontsize=8,\n",
    "            ha='center', va='top')"
   ]
  },
  {
   "cell_type": "markdown",
   "metadata": {},
   "source": [
    "**Preguntas**: \n",
    "\n",
    "- ¿Tras cuántas iteraciones se obtiene una estimación aceptable de $x_r$?\n",
    "\n",
    "- ¿Cuál es el efecto de especificar un criterio de convergencia más estricto sobre el número de iteraciones?"
   ]
  },
  {
   "cell_type": "code",
   "execution_count": 6,
   "metadata": {},
   "outputs": [
    {
     "name": "stdout",
     "output_type": "stream",
     "text": [
      " its  tol       x         abs(f(x))\n",
      "   2, 1.00e+00, 1.000000, 6.321206e-01\n",
      "   5, 1.00e-01, 0.625000, 8.973857e-02\n",
      "   6, 1.00e-02, 0.562500, 7.282825e-03\n",
      "  12, 1.00e-03, 0.567383, 3.753492e-04\n",
      "  14, 1.00e-04, 0.567139, 7.237912e-06\n",
      "  14, 1.00e-05, 0.567139, 7.237912e-06\n",
      "  22, 1.00e-06, 0.567143, 2.348157e-07\n",
      "  25, 1.00e-07, 0.567143, 4.799769e-08\n",
      "  27, 1.00e-08, 0.567143, 1.293185e-09\n",
      "  32, 1.00e-09, 0.567143, 1.663308e-10\n",
      "  35, 1.00e-10, 0.567143, 1.610856e-11\n",
      "  38, 1.00e-11, 0.567143, 6.696310e-12\n",
      "  40, 1.00e-12, 0.567143, 9.950929e-13\n"
     ]
    }
   ],
   "source": [
    "# lista con resultados\n",
    "tols = np.logspace(0, -12, 13)\n",
    "print(\" its  tol       x         abs(f(x))\")\n",
    "for tol in tols:\n",
    "    m, n = (bisection(f, l, u, tol=tol, niter=100))\n",
    "    print(f\"{n:4d}, {tol:.2e}, {m:.6f}, {abs(f(m)):12.6e}\")"
   ]
  },
  {
   "cell_type": "markdown",
   "metadata": {},
   "source": [
    "#### Ejemplo: Función trigonométrica"
   ]
  },
  {
   "cell_type": "code",
   "execution_count": 7,
   "metadata": {},
   "outputs": [],
   "source": [
    "# función a evaluar\n",
    "f = lambda x: np.sin(x)\n",
    "# intervalo para acotar\n",
    "l, u = -2, 2\n",
    "# numero de iteraciones\n",
    "niter = 5"
   ]
  },
  {
   "cell_type": "code",
   "execution_count": 8,
   "metadata": {},
   "outputs": [
    {
     "data": {
      "image/png": "[encoded data removed]",
      "text/plain": [
       "<Figure size 1200x400 with 1 Axes>"
      ]
     },
     "metadata": {},
     "output_type": "display_data"
    }
   ],
   "source": [
    "# Gráfico ilustrativo del método\n",
    "fig, ax = plt.subplots(figsize=(12, 4))\n",
    "\n",
    "# gráfico de la función\n",
    "x = np.linspace(1.1*l, 1.1*u, 100)\n",
    "ax.plot(x, f(x), color='b')\n",
    "ax.axhline(0, ls=':', color='k')\n",
    "ax.set(xlabel=r'$x$', ylabel=r'$f(x)$')\n",
    "\n",
    "# delimitación del intervalo\n",
    "ax.scatter([l, u], [f(l), f(u)], color='b')\n",
    "ax.text(l, f(l), r\"$l, f(l)$\", ha='center', va='bottom')\n",
    "ax.text(u, f(u), r\"$u, f(u)$\", ha='center', va='bottom')\n",
    "\n",
    "# graficar resultado de cada iteración\n",
    "for its in range(1,niter+1):\n",
    "    m, n = bisection(f, l, u, niter=its)\n",
    "    ax.scatter(m, f(m), color='k', facecolor=\"None\")\n",
    "    ax.text(m, f(m), r\"$m_{:d}$\".format(n), fontsize=8,\n",
    "            ha='center', va='top')"
   ]
  },
  {
   "cell_type": "markdown",
   "metadata": {},
   "source": [
    "**Preguntas**: \n",
    "\n",
    "- ¿Qué sucede cuando se modifica el intervalo de acotamiento para encontrar la raíz?\n",
    "\n",
    "- ¿Por qué es necesario implementar un criterio de convergencia al algorítmo de bisección?\n"
   ]
  },
  {
   "cell_type": "code",
   "execution_count": 9,
   "metadata": {},
   "outputs": [
    {
     "name": "stdout",
     "output_type": "stream",
     "text": [
      " its  tol       x         abs(f(x))\n",
      "   1, 1.00e-06, 0.000000, 0.000000e+00\n"
     ]
    }
   ],
   "source": [
    "tol = 1e-6\n",
    "m, n = bisection(f, l, u, tol=tol, niter=100)\n",
    "print(\" its  tol       x         abs(f(x))\")\n",
    "print(f\"{n:4d}, {tol:.2e}, {m:.6f}, {f(m):12.6e}\")"
   ]
  },
  {
   "cell_type": "markdown",
   "metadata": {},
   "source": [
    "### 1.1.3 Utilización del algoritmo de bisección implementado en `scipy`"
   ]
  },
  {
   "cell_type": "code",
   "execution_count": 10,
   "metadata": {},
   "outputs": [
    {
     "name": "stdout",
     "output_type": "stream",
     "text": [
      "Help on function bisect in module scipy.optimize._zeros_py:\n",
      "\n",
      "bisect(f, a, b, args=(), xtol=2e-12, rtol=np.float64(8.881784197001252e-16), maxiter=100, full_output=False, disp=True)\n",
      "    Find root of a function within an interval using bisection.\n",
      "    \n",
      "    Basic bisection routine to find a root of the function `f` between the\n",
      "    arguments `a` and `b`. `f(a)` and `f(b)` cannot have the same signs.\n",
      "    Slow but sure.\n",
      "    \n",
      "    Parameters\n",
      "    ----------\n",
      "    f : function\n",
      "        Python function returning a number.  `f` must be continuous, and\n",
      "        f(a) and f(b) must have opposite signs.\n",
      "    a : scalar\n",
      "        One end of the bracketing interval [a,b].\n",
      "    b : scalar\n",
      "        The other end of the bracketing interval [a,b].\n",
      "    xtol : number, optional\n",
      "        The computed root ``x0`` will satisfy ``np.allclose(x, x0,\n",
      "        atol=xtol, rtol=rtol)``, where ``x`` is the exact root. The\n",
      "        parameter must be positive.\n",
      "    rtol : number, optional\n",
      "        The computed root ``x0`` will satisfy ``np.allclose(x, x0,\n",
      "        atol=xtol, rtol=rtol)``, where ``x`` is the exact root. The\n",
      "        parameter cannot be smaller than its default value of\n",
      "        ``4*np.finfo(float).eps``.\n",
      "    maxiter : int, optional\n",
      "        If convergence is not achieved in `maxiter` iterations, an error is\n",
      "        raised. Must be >= 0.\n",
      "    args : tuple, optional\n",
      "        Containing extra arguments for the function `f`.\n",
      "        `f` is called by ``apply(f, (x)+args)``.\n",
      "    full_output : bool, optional\n",
      "        If `full_output` is False, the root is returned. If `full_output` is\n",
      "        True, the return value is ``(x, r)``, where x is the root, and r is\n",
      "        a `RootResults` object.\n",
      "    disp : bool, optional\n",
      "        If True, raise RuntimeError if the algorithm didn't converge.\n",
      "        Otherwise, the convergence status is recorded in a `RootResults`\n",
      "        return object.\n",
      "    \n",
      "    Returns\n",
      "    -------\n",
      "    root : float\n",
      "        Root of `f` between `a` and `b`.\n",
      "    r : `RootResults` (present if ``full_output = True``)\n",
      "        Object containing information about the convergence. In particular,\n",
      "        ``r.converged`` is True if the routine converged.\n",
      "    \n",
      "    Examples\n",
      "    --------\n",
      "    \n",
      "    >>> def f(x):\n",
      "    ...     return (x**2 - 1)\n",
      "    \n",
      "    >>> from scipy import optimize\n",
      "    \n",
      "    >>> root = optimize.bisect(f, 0, 2)\n",
      "    >>> root\n",
      "    1.0\n",
      "    \n",
      "    >>> root = optimize.bisect(f, -2, 0)\n",
      "    >>> root\n",
      "    -1.0\n",
      "    \n",
      "    See Also\n",
      "    --------\n",
      "    brentq, brenth, bisect, newton\n",
      "    fixed_point : scalar fixed-point finder\n",
      "    fsolve : n-dimensional root-finding\n",
      "\n"
     ]
    }
   ],
   "source": [
    "help(bisect)"
   ]
  },
  {
   "cell_type": "markdown",
   "metadata": {},
   "source": [
    "#### Ejemplo: Función exponencial"
   ]
  },
  {
   "cell_type": "code",
   "execution_count": 11,
   "metadata": {},
   "outputs": [
    {
     "name": "stdout",
     "output_type": "stream",
     "text": [
      "x=0.5671432904100584, f(x)=-4.3021142204224816e-13\n"
     ]
    }
   ],
   "source": [
    "# función a evaluar\n",
    "f = lambda x: np.exp(-x) - x\n",
    "# intervalo para acotar\n",
    "l, u = -2, 2\n",
    "# tolerancia\n",
    "tol = 1e-12\n",
    "\n",
    "# cálculo de raíz por el método de bisección\n",
    "xr = bisect(f, l, u, xtol=tol)\n",
    "print(f\"x={xr}, f(x)={f(xr)}\")"
   ]
  },
  {
   "cell_type": "markdown",
   "metadata": {},
   "source": [
    "#### Ejemplo: Función trigonométrica"
   ]
  },
  {
   "cell_type": "code",
   "execution_count": 12,
   "metadata": {},
   "outputs": [
    {
     "name": "stdout",
     "output_type": "stream",
     "text": [
      "x=0.0, f(x)=0.0\n"
     ]
    }
   ],
   "source": [
    "# función a evaluar\n",
    "f = lambda x: np.sin(x)\n",
    "# intervalo para acotar\n",
    "l, u = -2, 2\n",
    "# tolerancia\n",
    "tol = 1e-3\n",
    "\n",
    "\n",
    "# cálculo de raíz por el método de bisección\n",
    "xr = bisect(f, l, u, xtol=tol)\n",
    "print(f\"x={xr}, f(x)={f(xr)}\")"
   ]
  },
  {
   "cell_type": "markdown",
   "metadata": {},
   "source": [
    "#### Ejemplo: Ecuación cúbica de tercer grado (parametrizada)"
   ]
  },
  {
   "cell_type": "code",
   "execution_count": 13,
   "metadata": {},
   "outputs": [],
   "source": [
    "def cubic(x, a, b, c, d):\n",
    "    return a*(x)**3 + b*(x)**2 + c*x + d"
   ]
  },
  {
   "cell_type": "code",
   "execution_count": 14,
   "metadata": {},
   "outputs": [
    {
     "data": {
      "image/png": "[encoded data removed]",
      "text/plain": [
       "<Figure size 640x480 with 1 Axes>"
      ]
     },
     "metadata": {},
     "output_type": "display_data"
    }
   ],
   "source": [
    "fig, ax = plt.subplots()\n",
    "\n",
    "x = np.linspace(-2, 2, 100)\n",
    "a, b, c, d = 1, 1, -3, -3\n",
    "y = cubic(x, a, b, c, d)\n",
    "\n",
    "ax.plot(x, y)\n",
    "ax.axhline(0, ls=':', color='k')\n",
    "ax.grid(ls='--', alpha=0.5)\n",
    "ax.set(xlim=(-2, 2), ylim=(-5, 3), xlabel='x', ylabel='f(x)')\n",
    "plt.show()"
   ]
  },
  {
   "cell_type": "markdown",
   "metadata": {},
   "source": [
    "**Preguntas**:\n",
    "\n",
    "- Gráficamente se observa que la ecuación tiene tres raíces. Encuéntrelas mediante el método de bisección.\n"
   ]
  },
  {
   "cell_type": "code",
   "execution_count": 15,
   "metadata": {},
   "outputs": [
    {
     "name": "stdout",
     "output_type": "stream",
     "text": [
      "x=-1.7320508137345314, f(x)=-1.563547291638656e-08\n"
     ]
    }
   ],
   "source": [
    "xr = bisect(cubic, -2, -1.5, args=(a, b, c, d), xtol=1e-8)\n",
    "print(f\"x={xr}, f(x)={cubic(xr, a, b, c, d)}\")"
   ]
  },
  {
   "cell_type": "code",
   "execution_count": 16,
   "metadata": {},
   "outputs": [
    {
     "name": "stdout",
     "output_type": "stream",
     "text": [
      "x=-1.0, f(x)=0.0\n"
     ]
    }
   ],
   "source": [
    "xr = bisect(cubic, -1.5, -0.5, args=(a, b, c, d), xtol=1e-8)\n",
    "print(f\"x={xr}, f(x)={cubic(xr, a, b, c, d)}\")"
   ]
  },
  {
   "cell_type": "code",
   "execution_count": 17,
   "metadata": {},
   "outputs": [
    {
     "name": "stdout",
     "output_type": "stream",
     "text": [
      "x=1.7320508137345314, f(x)=5.835237715245967e-08\n"
     ]
    }
   ],
   "source": [
    "xr = bisect(cubic, 1, 2, args=(a, b, c, d), xtol=1e-8)\n",
    "print(f\"x={xr}, f(x)={cubic(xr, a, b, c, d)}\")"
   ]
  },
  {
   "cell_type": "code",
   "execution_count": null,
   "metadata": {},
   "outputs": [],
   "source": []
  }
 ],
 "metadata": {
  "kernelspec": {
   "display_name": "Python 3",
   "language": "python",
   "name": "python3"
  },
  "language_info": {
   "codemirror_mode": {
    "name": "ipython",
    "version": 3
   },
   "file_extension": ".py",
   "mimetype": "text/x-python",
   "name": "python",
   "nbconvert_exporter": "python",
   "pygments_lexer": "ipython3",
   "version": "3.10.12"
  }
 },
 "nbformat": 4,
 "nbformat_minor": 2
}
