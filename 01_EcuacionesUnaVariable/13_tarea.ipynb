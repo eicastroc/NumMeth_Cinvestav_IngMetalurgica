{
 "cells": [
  {
   "cell_type": "code",
   "execution_count": 1,
   "metadata": {},
   "outputs": [],
   "source": [
    "import numpy as np\n",
    "import matplotlib.pyplot as plt\n",
    "from scipy.optimize import newton"
   ]
  },
  {
   "cell_type": "markdown",
   "metadata": {},
   "source": [
    "# Métodos numéricos"
   ]
  },
  {
   "cell_type": "markdown",
   "metadata": {},
   "source": [
    "<img src=\"figures/LogoCinvestav.png\" style=\"height:100px\" title=\"Cinvestav\">"
   ]
  },
  {
   "cell_type": "markdown",
   "metadata": {},
   "source": [
    "**CINVESTAV Unidad Saltillo**\n",
    "\n",
    "**Curso Propedeutico del Programa de Maestría en Ciencias en Ingeniería Metalúrgica**\n",
    "\n",
    "Dr. Edgar Ivan Castro Cedeño\n",
    "\n",
    "\n",
    "Junio 2025\n",
    "\n",
    "Contacto:\n",
    "[edgar.castro@cinvestav.mx](mailto:edgar.castro@cinvestav.mx)"
   ]
  },
  {
   "cell_type": "markdown",
   "metadata": {},
   "source": [
    "# 1."
   ]
  },
  {
   "cell_type": "markdown",
   "metadata": {},
   "source": [
    "Utilice el método de Newton-Raphson para encontrar la raíz de la función\n",
    "\n",
    "$$f(x) = -x^2 + 1.8x + 2.5$$\n",
    "\n",
    "- Utilice un valor inicial, $x_0=5$.\n",
    "\n",
    "- Efectúe el proceso iterativo  hasta que el error relativo de aproximación sea, $\\varepsilon_a \\le 0.05\\%$.\n",
    "\n",
    "- Verifique el resultado obtenido.\n"
   ]
  },
  {
   "cell_type": "markdown",
   "metadata": {},
   "source": [
    "## Solución gŕafica"
   ]
  },
  {
   "cell_type": "code",
   "execution_count": null,
   "metadata": {},
   "outputs": [],
   "source": []
  },
  {
   "cell_type": "markdown",
   "metadata": {},
   "source": [
    "**Respuesta**:\n",
    "\n",
    "La raíces de $f(x)$ son $x_r \\approx -1$, $x_r \\approx 2.7$."
   ]
  },
  {
   "cell_type": "markdown",
   "metadata": {},
   "source": [
    "## Solución con el método de Newton-Raphson"
   ]
  },
  {
   "cell_type": "code",
   "execution_count": null,
   "metadata": {},
   "outputs": [],
   "source": []
  },
  {
   "cell_type": "markdown",
   "metadata": {},
   "source": [
    "# 2."
   ]
  },
  {
   "cell_type": "markdown",
   "metadata": {},
   "source": [
    "El balance de masa para un contaminante en un lago bien mezclado se escribe:\n",
    "\n",
    "$$V\\frac{dc}{dt} = W - Qc - kV\\sqrt(c)$$\n",
    "\n",
    "Considerando los valores para los parámetros:\n",
    "\n",
    "- $V$ = $1\\times10^6$  $[\\mathrm{m^3}]$\n",
    "\n",
    "- $Q$ = $1\\times10^5$  $[\\mathrm{m^3.(yr)^{-1}}]$\n",
    "\n",
    "- $W$ = $1\\times10^6$  $[\\mathrm{g.(yr)^{-1}}]$\n",
    "\n",
    "- $k$ = $0.25$  $[\\mathrm{m^{0.5}.g^{-0.5}.(yr)^{-1}}]$\n",
    "\n",
    "Utilice el método de Newton-Raphson para encontrar la concentración en régimen estacionario.\n",
    "\n",
    "Utilice como estimado inicial, $c=4$ $[\\mathrm{g.m^{-3}}]$.\n",
    "\n",
    "\n"
   ]
  },
  {
   "cell_type": "markdown",
   "metadata": {},
   "source": [
    "## Solución gŕafica"
   ]
  },
  {
   "cell_type": "code",
   "execution_count": null,
   "metadata": {},
   "outputs": [],
   "source": []
  },
  {
   "cell_type": "markdown",
   "metadata": {},
   "source": [
    "## Solución por el método de Newton-Raphson"
   ]
  },
  {
   "cell_type": "code",
   "execution_count": null,
   "metadata": {},
   "outputs": [],
   "source": []
  }
 ],
 "metadata": {
  "kernelspec": {
   "display_name": "Python 3",
   "language": "python",
   "name": "python3"
  },
  "language_info": {
   "codemirror_mode": {
    "name": "ipython",
    "version": 3
   },
   "file_extension": ".py",
   "mimetype": "text/x-python",
   "name": "python",
   "nbconvert_exporter": "python",
   "pygments_lexer": "ipython3",
   "version": "3.10.12"
  }
 },
 "nbformat": 4,
 "nbformat_minor": 2
}
