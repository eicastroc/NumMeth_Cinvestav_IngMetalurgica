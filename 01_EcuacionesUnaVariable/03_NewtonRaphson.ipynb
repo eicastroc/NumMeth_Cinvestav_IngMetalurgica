{
 "cells": [
  {
   "cell_type": "code",
   "execution_count": 2,
   "metadata": {},
   "outputs": [],
   "source": [
    "import numpy as np\n",
    "import matplotlib.pyplot as plt"
   ]
  },
  {
   "cell_type": "code",
   "execution_count": 3,
   "metadata": {},
   "outputs": [],
   "source": [
    "from oneVar import newton_raphson\n",
    "from scipy.optimize import newton"
   ]
  },
  {
   "cell_type": "markdown",
   "metadata": {},
   "source": [
    "# Métodos numéricos"
   ]
  },
  {
   "cell_type": "markdown",
   "metadata": {},
   "source": [
    "<img src=\"figures/LogoCinvestav.png\" style=\"height:100px\" title=\"Cinvestav\">"
   ]
  },
  {
   "cell_type": "markdown",
   "metadata": {},
   "source": [
    "**CINVESTAV Unidad Saltillo**\n",
    "\n",
    "**Curso Propedeutico del Programa de Maestría en Ciencias en Ingeniería Metalúrgica**\n",
    "\n",
    "Dr. Edgar Ivan Castro Cedeño\n",
    "\n",
    "\n",
    "Junio 2025\n",
    "\n",
    "Contacto:\n",
    "[edgar.castro@cinvestav.mx](mailto:edgar.castro@cinvestav.mx)"
   ]
  },
  {
   "cell_type": "markdown",
   "metadata": {},
   "source": [
    "## 1.3 Método de Newton Raphson"
   ]
  },
  {
   "cell_type": "markdown",
   "metadata": {},
   "source": [
    "### 1.3.1 Explicación del método"
   ]
  },
  {
   "cell_type": "markdown",
   "metadata": {},
   "source": [
    "1. **Obtener la primera derivada de la función $f(x)$**\n",
    "\n",
    "- Como se muestra en la figura, $f'(x)$ es equivalente a la pendiente de la función $f(x)$.\n",
    "\n",
    "$$f'(x) = \\frac{f(x_i) - 0}{x_i - x_{i+1}}$$\n",
    "\n",
    "\n",
    "\n",
    "2. **Aplicar de forma iterativa la fórmula del método**\n",
    "\n",
    "\n",
    "$$x_{i+1} = x_i - \\frac{f(x_i)}{f'(x_i)}$$\n",
    "\n",
    "\n",
    "-  Si $f(x_m) < \\varepsilon_s$ (Tolerancia):\n",
    "    - Entonces la raíz $x_r$, es aproximadamente igual a $x_{i+1}$.\n",
    "    - $x_r \\approx x_{i+1}$."
   ]
  },
  {
   "cell_type": "markdown",
   "metadata": {},
   "source": [
    "<center>\n",
    "\n",
    "<img src=\"figures/images/newtonRaphson01.png\" style=\"height:200px\" title=\"Método no acotado\">\n",
    "\n",
    "***Figura 01. Esquema gráfico del método de Newton-Raphson para encontrar la raíz de una función de una variable $f(x)$.***\n",
    "\n",
    "</center>"
   ]
  },
  {
   "cell_type": "markdown",
   "metadata": {},
   "source": [
    "### 1.3.2 Implementación del método"
   ]
  },
  {
   "cell_type": "markdown",
   "metadata": {},
   "source": [
    "Se utiliza la implementación del algoritmo de punto fijo escrita en la función `fixed_point1()` dentro del archivo `oneVar.py`."
   ]
  },
  {
   "cell_type": "code",
   "execution_count": 4,
   "metadata": {},
   "outputs": [
    {
     "name": "stdout",
     "output_type": "stream",
     "text": [
      "Help on function newton_raphson in module oneVar:\n",
      "\n",
      "newton_raphson(f, fp, xi, lamb=1.0, tol=None, niter=10)\n",
      "    Basic bisection algorithm for finding the root of a one-variable equation\n",
      "    \n",
      "    Parameters\n",
      "    ----------\n",
      "    f : function\n",
      "        Python function returning a number.  `f` must be continuous.\n",
      "    fp : function\n",
      "        Python function returning a number. `fp` must be continuous.\n",
      "        `fp` is the derivative of `f`.\n",
      "    xi : scalar\n",
      "        initial guess for root.\n",
      "    lamb : scalar\n",
      "        relaxation factor\n",
      "    tol : scalar\n",
      "        tolerance of the method, [0, 1]\n",
      "    niter : int\n",
      "        maximum number of iterations of the method.\n",
      "        Default value is 100.\n",
      "    \n",
      "    Returns\n",
      "    -------\n",
      "    m : float\n",
      "        value of xm (midpoint) at the last iteration.\n",
      "    n: float\n",
      "        number of iterations of the method\n",
      "\n"
     ]
    }
   ],
   "source": [
    "help(newton_raphson)"
   ]
  },
  {
   "cell_type": "markdown",
   "metadata": {},
   "source": [
    "#### Ejemplo: Función exponencial"
   ]
  },
  {
   "cell_type": "code",
   "execution_count": 5,
   "metadata": {},
   "outputs": [],
   "source": [
    "# función a evaluar y fórmula para la raíz\n",
    "f = lambda x: np.exp(-x) - x\n",
    "fp = lambda x: -1.*np.exp(-x) - 1\n",
    "# valor inicial\n",
    "l, u = -2, 2\n",
    "x0 = 0\n",
    "# numero de iteraciones\n",
    "niter = 5"
   ]
  },
  {
   "cell_type": "code",
   "execution_count": 7,
   "metadata": {},
   "outputs": [
    {
     "data": {
      "image/png": "[encoded data removed]",
      "text/plain": [
       "<Figure size 1200x400 with 1 Axes>"
      ]
     },
     "metadata": {},
     "output_type": "display_data"
    }
   ],
   "source": [
    "# Gráfico ilustrativo del método\n",
    "fig, ax = plt.subplots(figsize=(12, 4))\n",
    "\n",
    "# gráfico de la función\n",
    "x = np.linspace(1.1*l, 1.1*u, 100)\n",
    "ax.plot(x, f(x), color='b')\n",
    "ax.scatter(x0, f(x0), color='r')\n",
    "ax.axhline(0, ls=':', color='k')\n",
    "ax.set(xlabel=r'$x$', ylabel=r'$f(x)$')\n",
    "\n",
    "# lista con resultados\n",
    "for its in range(1,niter+1):\n",
    "    m, n = newton_raphson(f, fp, xi=x0, lamb=1.0, tol=None, niter=its)\n",
    "    ax.scatter(m, f(m), color='k', facecolor=\"None\")\n",
    "    ax.text(m, f(m), r\"$m_{:d}$\".format(n), fontsize=8,\n",
    "            ha='center', va='top')"
   ]
  },
  {
   "cell_type": "markdown",
   "metadata": {},
   "source": [
    "**Preguntas**: \n",
    "\n",
    "- ¿Tras cuántas iteraciones se obtiene una estimación aceptable de $x_r$?\n",
    "\n",
    "- ¿Cuál es el efecto de especificar un criterio de convergencia más estricto sobre el número de iteraciones?"
   ]
  },
  {
   "cell_type": "code",
   "execution_count": 8,
   "metadata": {},
   "outputs": [
    {
     "name": "stdout",
     "output_type": "stream",
     "text": [
      " its  tol       x         abs(f(x))\n",
      "   1, 1.00e+00, 0.500000, 1.065307e-01\n",
      "   2, 1.00e-01, 0.566311, 1.304510e-03\n",
      "   2, 1.00e-02, 0.566311, 1.304510e-03\n",
      "   3, 1.00e-03, 0.567143, 1.964805e-07\n",
      "   3, 1.00e-04, 0.567143, 1.964805e-07\n",
      "   3, 1.00e-05, 0.567143, 1.964805e-07\n",
      "   3, 1.00e-06, 0.567143, 1.964805e-07\n",
      "   4, 1.00e-07, 0.567143, 4.440892e-15\n",
      "   4, 1.00e-08, 0.567143, 4.440892e-15\n",
      "   4, 1.00e-09, 0.567143, 4.440892e-15\n",
      "   4, 1.00e-10, 0.567143, 4.440892e-15\n",
      "   4, 1.00e-11, 0.567143, 4.440892e-15\n",
      "   4, 1.00e-12, 0.567143, 4.440892e-15\n"
     ]
    }
   ],
   "source": [
    "# lista con resultados\n",
    "tols = np.logspace(0, -12, 13)\n",
    "print(\" its  tol       x         abs(f(x))\")\n",
    "for tol in tols:\n",
    "    m, n = newton_raphson(f, fp, xi=0, lamb=1, tol=tol, niter=100)\n",
    "    print(f\"{n:4d}, {tol:.2e}, {m:.6f}, {abs(f(m)):12.6e}\")"
   ]
  },
  {
   "cell_type": "markdown",
   "metadata": {},
   "source": [
    "#### Ejemplo: Función trigonométrica"
   ]
  },
  {
   "cell_type": "code",
   "execution_count": 9,
   "metadata": {},
   "outputs": [],
   "source": [
    "# función a evaluar\n",
    "f = lambda x: np.sin(x)\n",
    "fp = lambda x: np.cos(x)\n",
    "# intervalo para acotar\n",
    "l, u = -2, 2\n",
    "x0 = 0.5\n",
    "# numero de iteraciones\n",
    "niter = 5"
   ]
  },
  {
   "cell_type": "code",
   "execution_count": 10,
   "metadata": {},
   "outputs": [
    {
     "data": {
      "image/png": "[encoded data removed]",
      "text/plain": [
       "<Figure size 1200x400 with 1 Axes>"
      ]
     },
     "metadata": {},
     "output_type": "display_data"
    }
   ],
   "source": [
    "# Gráfico ilustrativo del método\n",
    "fig, ax = plt.subplots(figsize=(12, 4))\n",
    "\n",
    "# gráfico de la función\n",
    "x = np.linspace(1.1*l, 1.1*u, 100)\n",
    "ax.plot(x, f(x), color='b')\n",
    "ax.scatter(x0, f(x0), color='r')\n",
    "ax.axhline(0, ls=':', color='k')\n",
    "ax.set(xlabel=r'$x$', ylabel=r'$f(x)$')\n",
    "\n",
    "# lista con resultados\n",
    "for its in range(1,niter+1):\n",
    "    m, n = newton_raphson(f, fp, xi=x0, lamb=1.0, tol=None, niter=its)\n",
    "    ax.scatter(m, f(m), color='k', facecolor=\"None\")\n",
    "    ax.text(m, f(m), r\"$m_{:d}$\".format(n), fontsize=8,\n",
    "            ha='center', va='top')"
   ]
  },
  {
   "cell_type": "markdown",
   "metadata": {},
   "source": [
    "**Preguntas**: \n",
    "\n",
    "- ¿Qué sucede cuando se modifica el intervalo de acotamiento para encontrar la raíz?\n",
    "\n",
    "- ¿Por qué es necesario implementar un criterio de convergencia al algorítmo de bisección?"
   ]
  },
  {
   "cell_type": "code",
   "execution_count": 11,
   "metadata": {},
   "outputs": [
    {
     "name": "stdout",
     "output_type": "stream",
     "text": [
      " its  tol       x         abs(f(x))\n",
      "   1, 1.00e+00, -0.046302, 4.628595e-02\n",
      "   1, 1.00e-01, -0.046302, 4.628595e-02\n",
      "   2, 1.00e-02, 0.000033, 3.311802e-05\n",
      "   2, 1.00e-03, 0.000033, 3.311802e-05\n",
      "   2, 1.00e-04, 0.000033, 3.311802e-05\n",
      "   3, 1.00e-05, -0.000000, 1.210798e-14\n",
      "   3, 1.00e-06, -0.000000, 1.210798e-14\n",
      "   3, 1.00e-07, -0.000000, 1.210798e-14\n",
      "   3, 1.00e-08, -0.000000, 1.210798e-14\n",
      "   3, 1.00e-09, -0.000000, 1.210798e-14\n",
      "   3, 1.00e-10, -0.000000, 1.210798e-14\n",
      "   3, 1.00e-11, -0.000000, 1.210798e-14\n",
      "   3, 1.00e-12, -0.000000, 1.210798e-14\n"
     ]
    }
   ],
   "source": [
    "# lista con resultados\n",
    "tols = np.logspace(0, -12, 13)\n",
    "print(\" its  tol       x         abs(f(x))\")\n",
    "for tol in tols:\n",
    "    m, n = newton_raphson(f, fp, xi=x0, lamb=1, tol=tol, niter=100)\n",
    "    print(f\"{n:4d}, {tol:.2e}, {m:.6f}, {abs(f(m)):12.6e}\")"
   ]
  },
  {
   "cell_type": "markdown",
   "metadata": {},
   "source": [
    "### 1.3.3 Utilización del método de Newton-Raphson implementado en `scipy`"
   ]
  },
  {
   "cell_type": "code",
   "execution_count": 12,
   "metadata": {},
   "outputs": [
    {
     "name": "stdout",
     "output_type": "stream",
     "text": [
      "Help on function newton in module scipy.optimize._zeros_py:\n",
      "\n",
      "newton(func, x0, fprime=None, args=(), tol=1.48e-08, maxiter=50, fprime2=None, x1=None, rtol=0.0, full_output=False, disp=True)\n",
      "    Find a root of a real or complex function using the Newton-Raphson\n",
      "    (or secant or Halley's) method.\n",
      "    \n",
      "    Find a root of the scalar-valued function `func` given a nearby scalar\n",
      "    starting point `x0`.\n",
      "    The Newton-Raphson method is used if the derivative `fprime` of `func`\n",
      "    is provided, otherwise the secant method is used. If the second order\n",
      "    derivative `fprime2` of `func` is also provided, then Halley's method is\n",
      "    used.\n",
      "    \n",
      "    If `x0` is a sequence with more than one item, `newton` returns an array:\n",
      "    the roots of the function from each (scalar) starting point in `x0`.\n",
      "    In this case, `func` must be vectorized to return a sequence or array of\n",
      "    the same shape as its first argument. If `fprime` (`fprime2`) is given,\n",
      "    then its return must also have the same shape: each element is the first\n",
      "    (second) derivative of `func` with respect to its only variable evaluated\n",
      "    at each element of its first argument.\n",
      "    \n",
      "    `newton` is for finding roots of a scalar-valued functions of a single\n",
      "    variable. For problems involving several variables, see `root`.\n",
      "    \n",
      "    Parameters\n",
      "    ----------\n",
      "    func : callable\n",
      "        The function whose root is wanted. It must be a function of a\n",
      "        single variable of the form ``f(x,a,b,c...)``, where ``a,b,c...``\n",
      "        are extra arguments that can be passed in the `args` parameter.\n",
      "    x0 : float, sequence, or ndarray\n",
      "        An initial estimate of the root that should be somewhere near the\n",
      "        actual root. If not scalar, then `func` must be vectorized and return\n",
      "        a sequence or array of the same shape as its first argument.\n",
      "    fprime : callable, optional\n",
      "        The derivative of the function when available and convenient. If it\n",
      "        is None (default), then the secant method is used.\n",
      "    args : tuple, optional\n",
      "        Extra arguments to be used in the function call.\n",
      "    tol : float, optional\n",
      "        The allowable error of the root's value. If `func` is complex-valued,\n",
      "        a larger `tol` is recommended as both the real and imaginary parts\n",
      "        of `x` contribute to ``|x - x0|``.\n",
      "    maxiter : int, optional\n",
      "        Maximum number of iterations.\n",
      "    fprime2 : callable, optional\n",
      "        The second order derivative of the function when available and\n",
      "        convenient. If it is None (default), then the normal Newton-Raphson\n",
      "        or the secant method is used. If it is not None, then Halley's method\n",
      "        is used.\n",
      "    x1 : float, optional\n",
      "        Another estimate of the root that should be somewhere near the\n",
      "        actual root. Used if `fprime` is not provided.\n",
      "    rtol : float, optional\n",
      "        Tolerance (relative) for termination.\n",
      "    full_output : bool, optional\n",
      "        If `full_output` is False (default), the root is returned.\n",
      "        If True and `x0` is scalar, the return value is ``(x, r)``, where ``x``\n",
      "        is the root and ``r`` is a `RootResults` object.\n",
      "        If True and `x0` is non-scalar, the return value is ``(x, converged,\n",
      "        zero_der)`` (see Returns section for details).\n",
      "    disp : bool, optional\n",
      "        If True, raise a RuntimeError if the algorithm didn't converge, with\n",
      "        the error message containing the number of iterations and current\n",
      "        function value. Otherwise, the convergence status is recorded in a\n",
      "        `RootResults` return object.\n",
      "        Ignored if `x0` is not scalar.\n",
      "        *Note: this has little to do with displaying, however,\n",
      "        the `disp` keyword cannot be renamed for backwards compatibility.*\n",
      "    \n",
      "    Returns\n",
      "    -------\n",
      "    root : float, sequence, or ndarray\n",
      "        Estimated location where function is zero.\n",
      "    r : `RootResults`, optional\n",
      "        Present if ``full_output=True`` and `x0` is scalar.\n",
      "        Object containing information about the convergence. In particular,\n",
      "        ``r.converged`` is True if the routine converged.\n",
      "    converged : ndarray of bool, optional\n",
      "        Present if ``full_output=True`` and `x0` is non-scalar.\n",
      "        For vector functions, indicates which elements converged successfully.\n",
      "    zero_der : ndarray of bool, optional\n",
      "        Present if ``full_output=True`` and `x0` is non-scalar.\n",
      "        For vector functions, indicates which elements had a zero derivative.\n",
      "    \n",
      "    See Also\n",
      "    --------\n",
      "    root_scalar : interface to root solvers for scalar functions\n",
      "    root : interface to root solvers for multi-input, multi-output functions\n",
      "    \n",
      "    Notes\n",
      "    -----\n",
      "    The convergence rate of the Newton-Raphson method is quadratic,\n",
      "    the Halley method is cubic, and the secant method is\n",
      "    sub-quadratic. This means that if the function is well-behaved\n",
      "    the actual error in the estimated root after the nth iteration\n",
      "    is approximately the square (cube for Halley) of the error\n",
      "    after the (n-1)th step. However, the stopping criterion used\n",
      "    here is the step size and there is no guarantee that a root\n",
      "    has been found. Consequently, the result should be verified.\n",
      "    Safer algorithms are brentq, brenth, ridder, and bisect,\n",
      "    but they all require that the root first be bracketed in an\n",
      "    interval where the function changes sign. The brentq algorithm\n",
      "    is recommended for general use in one dimensional problems\n",
      "    when such an interval has been found.\n",
      "    \n",
      "    When `newton` is used with arrays, it is best suited for the following\n",
      "    types of problems:\n",
      "    \n",
      "    * The initial guesses, `x0`, are all relatively the same distance from\n",
      "      the roots.\n",
      "    * Some or all of the extra arguments, `args`, are also arrays so that a\n",
      "      class of similar problems can be solved together.\n",
      "    * The size of the initial guesses, `x0`, is larger than O(100) elements.\n",
      "      Otherwise, a naive loop may perform as well or better than a vector.\n",
      "    \n",
      "    Examples\n",
      "    --------\n",
      "    >>> import numpy as np\n",
      "    >>> import matplotlib.pyplot as plt\n",
      "    >>> from scipy import optimize\n",
      "    \n",
      "    >>> def f(x):\n",
      "    ...     return (x**3 - 1)  # only one real root at x = 1\n",
      "    \n",
      "    ``fprime`` is not provided, use the secant method:\n",
      "    \n",
      "    >>> root = optimize.newton(f, 1.5)\n",
      "    >>> root\n",
      "    1.0000000000000016\n",
      "    >>> root = optimize.newton(f, 1.5, fprime2=lambda x: 6 * x)\n",
      "    >>> root\n",
      "    1.0000000000000016\n",
      "    \n",
      "    Only ``fprime`` is provided, use the Newton-Raphson method:\n",
      "    \n",
      "    >>> root = optimize.newton(f, 1.5, fprime=lambda x: 3 * x**2)\n",
      "    >>> root\n",
      "    1.0\n",
      "    \n",
      "    Both ``fprime2`` and ``fprime`` are provided, use Halley's method:\n",
      "    \n",
      "    >>> root = optimize.newton(f, 1.5, fprime=lambda x: 3 * x**2,\n",
      "    ...                        fprime2=lambda x: 6 * x)\n",
      "    >>> root\n",
      "    1.0\n",
      "    \n",
      "    When we want to find roots for a set of related starting values and/or\n",
      "    function parameters, we can provide both of those as an array of inputs:\n",
      "    \n",
      "    >>> f = lambda x, a: x**3 - a\n",
      "    >>> fder = lambda x, a: 3 * x**2\n",
      "    >>> rng = np.random.default_rng()\n",
      "    >>> x = rng.standard_normal(100)\n",
      "    >>> a = np.arange(-50, 50)\n",
      "    >>> vec_res = optimize.newton(f, x, fprime=fder, args=(a, ), maxiter=200)\n",
      "    \n",
      "    The above is the equivalent of solving for each value in ``(x, a)``\n",
      "    separately in a for-loop, just faster:\n",
      "    \n",
      "    >>> loop_res = [optimize.newton(f, x0, fprime=fder, args=(a0,),\n",
      "    ...                             maxiter=200)\n",
      "    ...             for x0, a0 in zip(x, a)]\n",
      "    >>> np.allclose(vec_res, loop_res)\n",
      "    True\n",
      "    \n",
      "    Plot the results found for all values of ``a``:\n",
      "    \n",
      "    >>> analytical_result = np.sign(a) * np.abs(a)**(1/3)\n",
      "    >>> fig, ax = plt.subplots()\n",
      "    >>> ax.plot(a, analytical_result, 'o')\n",
      "    >>> ax.plot(a, vec_res, '.')\n",
      "    >>> ax.set_xlabel('$a$')\n",
      "    >>> ax.set_ylabel('$x$ where $f(x, a)=0$')\n",
      "    >>> plt.show()\n",
      "\n"
     ]
    }
   ],
   "source": [
    "help(newton)"
   ]
  },
  {
   "cell_type": "markdown",
   "metadata": {},
   "source": [
    "#### Ejemplo: Función exponencial"
   ]
  },
  {
   "cell_type": "code",
   "execution_count": 13,
   "metadata": {},
   "outputs": [
    {
     "name": "stdout",
     "output_type": "stream",
     "text": [
      "x=0.567143290409784, f(x)=-1.1102230246251565e-16\n"
     ]
    }
   ],
   "source": [
    "# función a evaluar y fórmula para la raíz\n",
    "f = lambda x: np.exp(-x) - x\n",
    "fp = lambda x: -1.*np.exp(-x) - 1\n",
    "# valor inicial\n",
    "x0 = 0\n",
    "# numero de iteraciones\n",
    "tol = 1e-8\n",
    "\n",
    "# cálculo de raíz por el método de bisección\n",
    "xr = newton(func=f, x0=x0, fprime=fp, tol=tol)\n",
    "print(f\"x={xr}, f(x)={f(xr)}\")"
   ]
  },
  {
   "cell_type": "markdown",
   "metadata": {},
   "source": [
    "#### Ejemplo: Función trigonométrica"
   ]
  },
  {
   "cell_type": "code",
   "execution_count": 14,
   "metadata": {},
   "outputs": [
    {
     "name": "stdout",
     "output_type": "stream",
     "text": [
      "x=0.0, f(x)=0.0\n"
     ]
    }
   ],
   "source": [
    "# función a evaluar\n",
    "f = lambda x: np.sin(x)\n",
    "fp = lambda x: np.cos(x)\n",
    "# valor inicial\n",
    "x0 = 0.5\n",
    "# numero de iteraciones\n",
    "tol = 1e-8\n",
    "\n",
    "# cálculo de raíz por el método de bisección\n",
    "xr = newton(func=f, x0=x0, fprime=fp, tol=tol)\n",
    "print(f\"x={xr}, f(x)={f(xr)}\")"
   ]
  },
  {
   "cell_type": "markdown",
   "metadata": {},
   "source": [
    "#### Ejemplo: Ecuación cúbica de tercer grado (parametrizada)"
   ]
  },
  {
   "cell_type": "code",
   "execution_count": null,
   "metadata": {},
   "outputs": [],
   "source": [
    "def f(x, a, b, c, d):\n",
    "    return a*(x)**3 + b*(x)**2 + c*x + d"
   ]
  },
  {
   "cell_type": "code",
   "execution_count": null,
   "metadata": {},
   "outputs": [],
   "source": [
    "def fp(x, a, b, c, d):\n",
    "    return 3*a*(x)**2 + 2*b*(x) + c"
   ]
  },
  {
   "cell_type": "code",
   "execution_count": null,
   "metadata": {},
   "outputs": [
    {
     "data": {
      "image/png": "[encoded data removed]",
      "text/plain": [
       "<Figure size 640x480 with 1 Axes>"
      ]
     },
     "metadata": {},
     "output_type": "display_data"
    }
   ],
   "source": [
    "fig, ax = plt.subplots()\n",
    "\n",
    "x = np.linspace(-2, 2, 100)\n",
    "a, b, c, d = 1, 1, -3, -3\n",
    "y = f(x, a, b, c, d)\n",
    "\n",
    "ax.plot(x, y)\n",
    "ax.axhline(0, ls=':', color='k')\n",
    "ax.grid(ls='--', alpha=0.5)\n",
    "ax.set(xlim=(-2, 2), ylim=(-5, 3), xlabel='x', ylabel='f(x)')\n",
    "plt.show()"
   ]
  },
  {
   "cell_type": "markdown",
   "metadata": {},
   "source": [
    "**Preguntas**:\n",
    "\n",
    "- Gráficamente se observa que la ecuación tiene tres raíces. Encuéntrelas mediante el método de bisección.\n"
   ]
  },
  {
   "cell_type": "code",
   "execution_count": null,
   "metadata": {},
   "outputs": [
    {
     "name": "stdout",
     "output_type": "stream",
     "text": [
      "x=-1.7320508075688774, f(x)=-4.440892098500626e-16\n"
     ]
    }
   ],
   "source": [
    "# valor inicial\n",
    "x0 = -2\n",
    "# numero de iteraciones\n",
    "tol = 1e-8\n",
    "\n",
    "# cálculo de raíz por el método de bisección\n",
    "xr = newton(func=f, x0=x0, fprime=fp, args=(a,b,c,d), tol=tol)\n",
    "print(f\"x={xr}, f(x)={f(xr, a, b, c, d)}\")"
   ]
  },
  {
   "cell_type": "code",
   "execution_count": null,
   "metadata": {},
   "outputs": [
    {
     "name": "stdout",
     "output_type": "stream",
     "text": [
      "x=-1.0, f(x)=0.0\n"
     ]
    }
   ],
   "source": [
    "# valor inicial\n",
    "x0 = 0\n",
    "# numero de iteraciones\n",
    "tol = 1e-8\n",
    "\n",
    "# cálculo de raíz por el método de bisección\n",
    "xr = newton(func=f, x0=x0, fprime=fp, args=(a,b,c,d), tol=tol)\n",
    "print(f\"x={xr}, f(x)={f(xr, a, b, c, d)}\")"
   ]
  },
  {
   "cell_type": "code",
   "execution_count": null,
   "metadata": {},
   "outputs": [
    {
     "name": "stdout",
     "output_type": "stream",
     "text": [
      "x=1.7320508075688774, f(x)=1.7763568394002505e-15\n"
     ]
    }
   ],
   "source": [
    "# valor inicial\n",
    "x0 = 2\n",
    "# numero de iteraciones\n",
    "tol = 1e-8\n",
    "\n",
    "# cálculo de raíz por el método de bisección\n",
    "xr = newton(func=f, x0=x0, fprime=fp, args=(a,b,c,d), tol=tol)\n",
    "print(f\"x={xr}, f(x)={f(xr, a, b, c, d)}\")"
   ]
  },
  {
   "cell_type": "code",
   "execution_count": null,
   "metadata": {},
   "outputs": [],
   "source": []
  }
 ],
 "metadata": {
  "kernelspec": {
   "display_name": "Python 3",
   "language": "python",
   "name": "python3"
  },
  "language_info": {
   "codemirror_mode": {
    "name": "ipython",
    "version": 3
   },
   "file_extension": ".py",
   "mimetype": "text/x-python",
   "name": "python",
   "nbconvert_exporter": "python",
   "pygments_lexer": "ipython3",
   "version": "3.10.12"
  }
 },
 "nbformat": 4,
 "nbformat_minor": 2
}
