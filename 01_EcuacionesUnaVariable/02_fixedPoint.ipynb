{
 "cells": [
  {
   "cell_type": "code",
   "execution_count": 1,
   "metadata": {},
   "outputs": [],
   "source": [
    "import numpy as np\n",
    "import matplotlib.pyplot as plt"
   ]
  },
  {
   "cell_type": "code",
   "execution_count": 2,
   "metadata": {},
   "outputs": [],
   "source": [
    "from oneVar import fixedPoint\n",
    "from scipy.optimize import fixed_point"
   ]
  },
  {
   "cell_type": "markdown",
   "metadata": {},
   "source": [
    "# Métodos numéricos"
   ]
  },
  {
   "cell_type": "markdown",
   "metadata": {},
   "source": [
    "<img src=\"figures/LogoCinvestav.png\" style=\"height:100px\" title=\"Cinvestav\">"
   ]
  },
  {
   "cell_type": "markdown",
   "metadata": {},
   "source": [
    "**CINVESTAV Unidad Saltillo**\n",
    "\n",
    "**Curso Propedeutico del Programa de Maestría en Ciencias en Ingeniería Metalúrgica**\n",
    "\n",
    "Dr. Edgar Ivan Castro Cedeño\n",
    "\n",
    "\n",
    "Junio 2025\n",
    "\n",
    "Contacto:\n",
    "[edgar.castro@cinvestav.mx](mailto:edgar.castro@cinvestav.mx)"
   ]
  },
  {
   "cell_type": "markdown",
   "metadata": {},
   "source": [
    "## 1.2 Algoritmo de iteración de punto fijo"
   ]
  },
  {
   "cell_type": "markdown",
   "metadata": {},
   "source": [
    "### 1.2.1 Explicación del algoritmo"
   ]
  },
  {
   "cell_type": "markdown",
   "metadata": {},
   "source": [
    "1. **Obtener una fórmula \"predictora\" de la raíz de la ecuación $x=g(x)$**\n",
    "    - La ecuación original se escribe como: $f(x)=0$.\n",
    "    - La fórmula predictora, $x=g(x)$ se puede obtener por varios métodos, e.g.:\n",
    "        - manipulación algebráica de $f(x)$.\n",
    "        - agregando $x$ a ambos lados de la ecuación $f(x)$.\n",
    "\n",
    "2. **Establecer un estimado inicial del valor de la raíz, $x_r$.**\n",
    "    - El valor inicial es crítico.\n",
    "    - Se puede estimar por medio de métodos gráficos.\n",
    "\n",
    "3. **Proceso iterativo para determinar la raíz utilizando la fórmula $x=g(x)$.**\n",
    "    - Evaluar el nuevo estimado con la fórmula $x=g(x)$:\n",
    "        - $x_{i+1} = g(x_i)$.\n",
    "    - Utilizar un factor de relajación para obtener convergencia:\n",
    "        - $x_{i+1} = \\lambda x_{i+1} + (1-\\lambda) x_{i}$.\n",
    "        - $0 < \\lambda < 1$.\n",
    "    - Si $f(x_m) < \\varepsilon_s$ (Tolerancia):\n",
    "        - Entonces la raíz $x_r$, es aproximadamente igual a $x_{i+1}$.\n",
    "        - $x_r \\approx x_{i+1}$."
   ]
  },
  {
   "cell_type": "markdown",
   "metadata": {},
   "source": [
    "### 1.2.2 Implementación del método"
   ]
  },
  {
   "cell_type": "markdown",
   "metadata": {},
   "source": [
    "Se utiliza la implementación del algoritmo de punto fijo escrita en la función `fixed_point1()` dentro del archivo `oneVar.py`."
   ]
  },
  {
   "cell_type": "code",
   "execution_count": 3,
   "metadata": {},
   "outputs": [
    {
     "name": "stdout",
     "output_type": "stream",
     "text": [
      "Help on function fixedPoint in module oneVar:\n",
      "\n",
      "fixedPoint(f, g, xi, lamb=1.0, tol=None, niter=10)\n",
      "    Basic bisection algorithm for finding the root of a one-variable equation\n",
      "    \n",
      "    Parameters\n",
      "    ----------\n",
      "    f : function\n",
      "        Python function returning a number.  `f` must be continuous.\n",
      "    g : function\n",
      "        Python function returning a number. `g` must be continuous.\n",
      "        g is the \"root-predictor\" function.\n",
      "    xi : scalar\n",
      "        initial guess for root.\n",
      "    lamb : scalar\n",
      "        relaxation factor\n",
      "    tol : scalar\n",
      "        tolerance of the method, [0, 1]\n",
      "    niter : int\n",
      "        maximum number of iterations of the method.\n",
      "        Default value is 100.\n",
      "    \n",
      "    Returns\n",
      "    -------\n",
      "    m : float\n",
      "        value of xm (midpoint) at the last iteration.\n",
      "    n: float\n",
      "        number of iterations of the method\n",
      "\n"
     ]
    }
   ],
   "source": [
    "help(fixedPoint)"
   ]
  },
  {
   "cell_type": "markdown",
   "metadata": {},
   "source": [
    "#### Ejemplo: Función exponencial"
   ]
  },
  {
   "cell_type": "code",
   "execution_count": 6,
   "metadata": {},
   "outputs": [],
   "source": [
    "# función a evaluar y fórmula para la raíz\n",
    "f = lambda x: np.exp(-x) - x\n",
    "g = lambda x: np.exp(-x)\n",
    "# valor inicial\n",
    "l, u = -2, 2\n",
    "x0 = 0\n",
    "# numero de iteraciones\n",
    "niter = 5"
   ]
  },
  {
   "cell_type": "code",
   "execution_count": 7,
   "metadata": {},
   "outputs": [
    {
     "name": "stdout",
     "output_type": "stream",
     "text": [
      "  i  \t xi  \t\t f(xi)\n",
      "  1\t 1.000000e+00\t-6.321206e-01\n",
      "  2\t 3.678794e-01\t 3.243212e-01\n",
      "  3\t 6.922006e-01\t-1.917271e-01\n",
      "  4\t 5.004735e-01\t 1.057700e-01\n",
      "  5\t 6.062435e-01\t-6.084775e-02\n"
     ]
    },
    {
     "data": {
      "image/png": "[encoded data removed]",
      "text/plain": [
       "<Figure size 1200x400 with 1 Axes>"
      ]
     },
     "metadata": {},
     "output_type": "display_data"
    }
   ],
   "source": [
    "# Gráfico ilustrativo del método\n",
    "fig, ax = plt.subplots(figsize=(12, 4))\n",
    "\n",
    "# gráfico de la función\n",
    "x = np.linspace(1.1*l, 1.1*u, 100)\n",
    "ax.plot(x, f(x), color='b')\n",
    "ax.scatter(x0, f(x0), color='r')\n",
    "ax.axhline(0, ls=':', color='k')\n",
    "ax.set(xlabel=r'$x$', ylabel=r'$f(x)$')\n",
    "\n",
    "print(f\"  i  \\t xi  \\t\\t f(xi)\")\n",
    "# lista con resultados\n",
    "for its in range(1,niter+1):\n",
    "    m, n = fixedPoint(f, g, xi=x0, lamb=1.0, tol=None, niter=its)\n",
    "    ax.scatter(m, f(m), color='k', facecolor=\"None\")\n",
    "    ax.text(m, f(m), r\"$m_{:d}$\".format(n), fontsize=8,\n",
    "            ha='center', va='top')\n",
    "    # valores en pantalla\n",
    "    print(f\"{its:3}\\t{m:13.6e}\\t{f(m):13.6e}\")"
   ]
  },
  {
   "cell_type": "markdown",
   "metadata": {},
   "source": [
    "**Preguntas**: \n",
    "\n",
    "- ¿Tras cuántas iteraciones se obtiene una estimación aceptable de $x_r$?\n",
    "\n",
    "- ¿Cuál es el efecto de especificar un criterio de convergencia más estricto sobre el número de iteraciones?"
   ]
  },
  {
   "cell_type": "code",
   "execution_count": null,
   "metadata": {},
   "outputs": [
    {
     "name": "stdout",
     "output_type": "stream",
     "text": [
      " its  tol       x         abs(f(x))\n",
      "   1, 1.00e+00, 1.000000, 6.321206e-01\n",
      "   5, 1.00e-01, 0.606244, 6.084775e-02\n",
      "   9, 1.00e-02, 0.571143, 6.263768e-03\n",
      "  13, 1.00e-03, 0.567557, 6.477254e-04\n",
      "  17, 1.00e-04, 0.567186, 6.701004e-05\n",
      "  21, 1.00e-05, 0.567148, 6.932802e-06\n",
      "  25, 1.00e-06, 0.567144, 7.172652e-07\n",
      "  29, 1.00e-07, 0.567143, 7.420803e-08\n",
      "  33, 1.00e-08, 0.567143, 7.677540e-09\n",
      "  37, 1.00e-09, 0.567143, 7.943159e-10\n",
      "  41, 1.00e-10, 0.567143, 8.217960e-11\n",
      "  45, 1.00e-11, 0.567143, 8.502199e-12\n",
      "  49, 1.00e-12, 0.567143, 8.796297e-13\n"
     ]
    }
   ],
   "source": [
    "# lista con resultados\n",
    "tols = np.logspace(0, -12, 13)\n",
    "print(\" its  tol       x         abs(f(x))\")\n",
    "for tol in tols:\n",
    "    m, n = fixedPoint(f, g, xi=0, lamb=1, tol=tol, niter=100)\n",
    "    print(f\"{n:4d}, {tol:.2e}, {m:.6f}, {abs(f(m)):12.6e}\")"
   ]
  },
  {
   "cell_type": "markdown",
   "metadata": {},
   "source": [
    "#### Ejemplo: Función trigonométrica"
   ]
  },
  {
   "cell_type": "code",
   "execution_count": 16,
   "metadata": {},
   "outputs": [],
   "source": [
    "# función a evaluar\n",
    "f = lambda x: np.sin(x)\n",
    "g = lambda x: np.sin(x) + x\n",
    "# intervalo para acotar\n",
    "l, u = -2, 2\n",
    "x0 = 0.5\n",
    "# numero de iteraciones\n",
    "niter = 5"
   ]
  },
  {
   "cell_type": "code",
   "execution_count": 17,
   "metadata": {},
   "outputs": [
    {
     "name": "stdout",
     "output_type": "stream",
     "text": [
      "  i  \t xi  \t\t f(xi)\n",
      "  1\t 9.794255e-01\t 8.301772e-01\n",
      "  2\t 1.809603e+00\t 9.716210e-01\n",
      "  3\t 2.781224e+00\t 3.526194e-01\n",
      "  4\t 3.133843e+00\t 7.749359e-03\n",
      "  5\t 3.141593e+00\t 7.756359e-08\n"
     ]
    },
    {
     "data": {
      "image/png": "[encoded data removed]",
      "text/plain": [
       "<Figure size 1200x400 with 1 Axes>"
      ]
     },
     "metadata": {},
     "output_type": "display_data"
    }
   ],
   "source": [
    "# Gráfico ilustrativo del método\n",
    "fig, ax = plt.subplots(figsize=(12, 4))\n",
    "\n",
    "# gráfico de la función\n",
    "x = np.linspace(1.1*l, 1.1*u, 100)\n",
    "ax.plot(x, f(x), color='b')\n",
    "ax.scatter(x0, f(x0), color='r')\n",
    "ax.axhline(0, ls=':', color='k')\n",
    "ax.set(xlabel=r'$x$', ylabel=r'$f(x)$')\n",
    "\n",
    "print(f\"  i  \\t xi  \\t\\t f(xi)\")\n",
    "# lista con resultados\n",
    "for its in range(1,niter+1):\n",
    "    m, n = fixedPoint(f, g, xi=x0, lamb=1.0, tol=None, niter=its)\n",
    "    ax.scatter(m, f(m), color='k', facecolor=\"None\")\n",
    "    ax.text(m, f(m), r\"$m_{:d}$\".format(n), fontsize=8,\n",
    "            ha='center', va='top')\n",
    "    # valores en pantalla\n",
    "    print(f\"{its:3}\\t{m:13.6e}\\t{f(m):13.6e}\")"
   ]
  },
  {
   "cell_type": "markdown",
   "metadata": {},
   "source": [
    "**Preguntas**: \n",
    "\n",
    "- ¿Qué sucede cuando se modifica el intervalo de acotamiento para encontrar la raíz?\n",
    "\n",
    "- ¿Por qué es necesario implementar un criterio de convergencia al algorítmo de bisección?"
   ]
  },
  {
   "cell_type": "code",
   "execution_count": 18,
   "metadata": {},
   "outputs": [
    {
     "name": "stdout",
     "output_type": "stream",
     "text": [
      " its  tol       x         abs(f(x))\n",
      "   1, 1.00e+00, 0.979426, 8.301772e-01\n",
      "   4, 1.00e-01, 3.133843, 7.749359e-03\n",
      "   4, 1.00e-02, 3.133843, 7.749359e-03\n",
      "   5, 1.00e-03, 3.141593, 7.756359e-08\n",
      "   5, 1.00e-04, 3.141593, 7.756359e-08\n",
      "   5, 1.00e-05, 3.141593, 7.756359e-08\n",
      "   5, 1.00e-06, 3.141593, 7.756359e-08\n",
      "   5, 1.00e-07, 3.141593, 7.756359e-08\n",
      "   6, 1.00e-08, 3.141593, 1.224647e-16\n",
      "   6, 1.00e-09, 3.141593, 1.224647e-16\n",
      "   6, 1.00e-10, 3.141593, 1.224647e-16\n",
      "   6, 1.00e-11, 3.141593, 1.224647e-16\n",
      "   6, 1.00e-12, 3.141593, 1.224647e-16\n"
     ]
    }
   ],
   "source": [
    "# lista con resultados\n",
    "tols = np.logspace(0, -12, 13)\n",
    "print(\" its  tol       x         abs(f(x))\")\n",
    "for tol in tols:\n",
    "    m, n = fixedPoint(f, g, xi=x0, lamb=1, tol=tol, niter=100)\n",
    "    print(f\"{n:4d}, {tol:.2e}, {m:.6f}, {abs(f(m)):12.6e}\")"
   ]
  },
  {
   "cell_type": "markdown",
   "metadata": {},
   "source": [
    "### 1.2.3 Utilización del método implementado en `scipy`"
   ]
  },
  {
   "cell_type": "code",
   "execution_count": null,
   "metadata": {},
   "outputs": [
    {
     "name": "stdout",
     "output_type": "stream",
     "text": [
      "Help on function fixed_point in module scipy.optimize._minpack_py:\n",
      "\n",
      "fixed_point(func, x0, args=(), xtol=1e-08, maxiter=500, method='del2')\n",
      "    Find a fixed point of the function.\n",
      "    \n",
      "    Given a function of one or more variables and a starting point, find a\n",
      "    fixed point of the function: i.e., where ``func(x0) == x0``.\n",
      "    \n",
      "    Parameters\n",
      "    ----------\n",
      "    func : function\n",
      "        Function to evaluate.\n",
      "    x0 : array_like\n",
      "        Fixed point of function.\n",
      "    args : tuple, optional\n",
      "        Extra arguments to `func`.\n",
      "    xtol : float, optional\n",
      "        Convergence tolerance, defaults to 1e-08.\n",
      "    maxiter : int, optional\n",
      "        Maximum number of iterations, defaults to 500.\n",
      "    method : {\"del2\", \"iteration\"}, optional\n",
      "        Method of finding the fixed-point, defaults to \"del2\",\n",
      "        which uses Steffensen's Method with Aitken's ``Del^2``\n",
      "        convergence acceleration [1]_. The \"iteration\" method simply iterates\n",
      "        the function until convergence is detected, without attempting to\n",
      "        accelerate the convergence.\n",
      "    \n",
      "    References\n",
      "    ----------\n",
      "    .. [1] Burden, Faires, \"Numerical Analysis\", 5th edition, pg. 80\n",
      "    \n",
      "    Examples\n",
      "    --------\n",
      "    >>> import numpy as np\n",
      "    >>> from scipy import optimize\n",
      "    >>> def func(x, c1, c2):\n",
      "    ...    return np.sqrt(c1/(x+c2))\n",
      "    >>> c1 = np.array([10,12.])\n",
      "    >>> c2 = np.array([3, 5.])\n",
      "    >>> optimize.fixed_point(func, [1.2, 1.3], args=(c1,c2))\n",
      "    array([ 1.4920333 ,  1.37228132])\n",
      "\n"
     ]
    }
   ],
   "source": [
    "help(fixed_point)"
   ]
  },
  {
   "cell_type": "markdown",
   "metadata": {},
   "source": [
    "#### Ejemplo: Función exponencial"
   ]
  },
  {
   "cell_type": "code",
   "execution_count": null,
   "metadata": {},
   "outputs": [
    {
     "name": "stdout",
     "output_type": "stream",
     "text": [
      "x=0.5671432904097838, f(x)=0.0\n"
     ]
    }
   ],
   "source": [
    "# función a evaluar\n",
    "f = lambda x: np.exp(-x) - x\n",
    "g = lambda x: np.exp(-x)\n",
    "# valor inicial\n",
    "x0 = 1\n",
    "# tolerancia\n",
    "tol = 1e-12\n",
    "\n",
    "# cálculo de raíz por el método de bisección\n",
    "xr = fixed_point(g, x0, xtol=tol)\n",
    "print(f\"x={xr}, f(x)={f(xr)}\")"
   ]
  },
  {
   "cell_type": "markdown",
   "metadata": {},
   "source": [
    "#### Ejemplo: Función trigonométrica"
   ]
  },
  {
   "cell_type": "code",
   "execution_count": null,
   "metadata": {},
   "outputs": [
    {
     "name": "stdout",
     "output_type": "stream",
     "text": [
      "x=0.0, f(x)=0.0\n"
     ]
    }
   ],
   "source": [
    "# función a evaluar\n",
    "f = lambda x: np.sin(x)\n",
    "g = lambda x: np.sin(x) + x\n",
    "# valor inicial\n",
    "x0 = 0.5\n",
    "# tolerancia\n",
    "tol = 1e-12\n",
    "\n",
    "# cálculo de raíz por el método de bisección\n",
    "xr = fixed_point(g, x0, xtol=tol)\n",
    "print(f\"x={xr}, f(x)={f(xr)}\")"
   ]
  },
  {
   "cell_type": "markdown",
   "metadata": {},
   "source": [
    "#### Ejemplo: Ecuación cúbica de tercer grado (parametrizada)"
   ]
  },
  {
   "cell_type": "code",
   "execution_count": null,
   "metadata": {},
   "outputs": [],
   "source": [
    "def f(x, a, b, c, d):\n",
    "    return a*(x)**3 + b*(x)**2 + c*x + d"
   ]
  },
  {
   "cell_type": "code",
   "execution_count": null,
   "metadata": {},
   "outputs": [],
   "source": [
    "def g(x, a, b, c, d):\n",
    "    return -1/np.power(a,1/3) * np.power(b*(x)**2 + c*x + d, 1/3)"
   ]
  },
  {
   "cell_type": "code",
   "execution_count": null,
   "metadata": {},
   "outputs": [
    {
     "data": {
      "image/png": "[encoded data removed]",
      "text/plain": [
       "<Figure size 640x480 with 1 Axes>"
      ]
     },
     "metadata": {},
     "output_type": "display_data"
    }
   ],
   "source": [
    "fig, ax = plt.subplots()\n",
    "\n",
    "x = np.linspace(-2, 2, 100)\n",
    "a, b, c, d = 1, 1, -3, -3\n",
    "y = f(x, a, b, c, d)\n",
    "\n",
    "ax.plot(x, y)\n",
    "ax.axhline(0, ls=':', color='k')\n",
    "ax.grid(ls='--', alpha=0.5)\n",
    "ax.set(xlim=(-2, 2), ylim=(-5, 3), xlabel='x', ylabel='f(x)')\n",
    "plt.show()"
   ]
  },
  {
   "cell_type": "markdown",
   "metadata": {},
   "source": [
    "**Preguntas**:\n",
    "\n",
    "- Gráficamente se observa que la ecuación tiene tres raíces. Encuéntrelas mediante el método de punto fijo.\n"
   ]
  },
  {
   "cell_type": "code",
   "execution_count": null,
   "metadata": {},
   "outputs": [
    {
     "name": "stdout",
     "output_type": "stream",
     "text": [
      "x=-1.732050807568878, f(x)=-2.6645352591003757e-15\n"
     ]
    }
   ],
   "source": [
    "xr = fixed_point(g, -2, args=(a, b, c, d), xtol=1e-8)\n",
    "print(f\"x={xr}, f(x)={f(xr, a, b, c, d)}\")"
   ]
  },
  {
   "cell_type": "code",
   "execution_count": null,
   "metadata": {},
   "outputs": [
    {
     "name": "stdout",
     "output_type": "stream",
     "text": [
      "x=-0.9999999999999996, f(x)=-8.881784197001252e-16\n"
     ]
    }
   ],
   "source": [
    "xr = fixed_point(g, -1.1, args=(a, b, c, d), xtol=1e-8)\n",
    "print(f\"x={xr}, f(x)={f(xr, a, b, c, d)}\")"
   ]
  },
  {
   "cell_type": "code",
   "execution_count": null,
   "metadata": {},
   "outputs": [
    {
     "name": "stderr",
     "output_type": "stream",
     "text": [
      "/tmp/ipykernel_8466/3676070808.py:2: RuntimeWarning: invalid value encountered in power\n",
      "  return -1/np.power(a,1/3) * np.power(b*(x)**2 + c*x + d, 1/3)\n"
     ]
    },
    {
     "ename": "RuntimeError",
     "evalue": "Failed to converge after 500 iterations, value is nan",
     "output_type": "error",
     "traceback": [
      "\u001b[0;31m---------------------------------------------------------------------------\u001b[0m",
      "\u001b[0;31mRuntimeError\u001b[0m                              Traceback (most recent call last)",
      "Cell \u001b[0;32mIn[18], line 1\u001b[0m\n\u001b[0;32m----> 1\u001b[0m xr \u001b[38;5;241m=\u001b[39m \u001b[43mfixed_point\u001b[49m\u001b[43m(\u001b[49m\u001b[43mg\u001b[49m\u001b[43m,\u001b[49m\u001b[43m \u001b[49m\u001b[38;5;241;43m1.5\u001b[39;49m\u001b[43m,\u001b[49m\u001b[43m \u001b[49m\u001b[43margs\u001b[49m\u001b[38;5;241;43m=\u001b[39;49m\u001b[43m(\u001b[49m\u001b[43ma\u001b[49m\u001b[43m,\u001b[49m\u001b[43m \u001b[49m\u001b[43mb\u001b[49m\u001b[43m,\u001b[49m\u001b[43m \u001b[49m\u001b[43mc\u001b[49m\u001b[43m,\u001b[49m\u001b[43m \u001b[49m\u001b[43md\u001b[49m\u001b[43m)\u001b[49m\u001b[43m,\u001b[49m\u001b[43m \u001b[49m\u001b[43mxtol\u001b[49m\u001b[38;5;241;43m=\u001b[39;49m\u001b[38;5;241;43m1e-8\u001b[39;49m\u001b[43m)\u001b[49m\n\u001b[1;32m      2\u001b[0m \u001b[38;5;28mprint\u001b[39m(\u001b[38;5;124mf\u001b[39m\u001b[38;5;124m\"\u001b[39m\u001b[38;5;124mx=\u001b[39m\u001b[38;5;132;01m{\u001b[39;00mxr\u001b[38;5;132;01m}\u001b[39;00m\u001b[38;5;124m, f(x)=\u001b[39m\u001b[38;5;132;01m{\u001b[39;00mf(xr,\u001b[38;5;250m \u001b[39ma,\u001b[38;5;250m \u001b[39mb,\u001b[38;5;250m \u001b[39mc,\u001b[38;5;250m \u001b[39md)\u001b[38;5;132;01m}\u001b[39;00m\u001b[38;5;124m\"\u001b[39m)\n",
      "File \u001b[0;32m~/.local/lib/python3.10/site-packages/scipy/optimize/_minpack_py.py:1171\u001b[0m, in \u001b[0;36mfixed_point\u001b[0;34m(func, x0, args, xtol, maxiter, method)\u001b[0m\n\u001b[1;32m   1169\u001b[0m use_accel \u001b[38;5;241m=\u001b[39m {\u001b[38;5;124m'\u001b[39m\u001b[38;5;124mdel2\u001b[39m\u001b[38;5;124m'\u001b[39m: \u001b[38;5;28;01mTrue\u001b[39;00m, \u001b[38;5;124m'\u001b[39m\u001b[38;5;124miteration\u001b[39m\u001b[38;5;124m'\u001b[39m: \u001b[38;5;28;01mFalse\u001b[39;00m}[method]\n\u001b[1;32m   1170\u001b[0m x0 \u001b[38;5;241m=\u001b[39m _asarray_validated(x0, as_inexact\u001b[38;5;241m=\u001b[39m\u001b[38;5;28;01mTrue\u001b[39;00m)\n\u001b[0;32m-> 1171\u001b[0m \u001b[38;5;28;01mreturn\u001b[39;00m \u001b[43m_fixed_point_helper\u001b[49m\u001b[43m(\u001b[49m\u001b[43mfunc\u001b[49m\u001b[43m,\u001b[49m\u001b[43m \u001b[49m\u001b[43mx0\u001b[49m\u001b[43m,\u001b[49m\u001b[43m \u001b[49m\u001b[43margs\u001b[49m\u001b[43m,\u001b[49m\u001b[43m \u001b[49m\u001b[43mxtol\u001b[49m\u001b[43m,\u001b[49m\u001b[43m \u001b[49m\u001b[43mmaxiter\u001b[49m\u001b[43m,\u001b[49m\u001b[43m \u001b[49m\u001b[43muse_accel\u001b[49m\u001b[43m)\u001b[49m\n",
      "File \u001b[0;32m~/.local/lib/python3.10/site-packages/scipy/optimize/_minpack_py.py:1124\u001b[0m, in \u001b[0;36m_fixed_point_helper\u001b[0;34m(func, x0, args, xtol, maxiter, use_accel)\u001b[0m\n\u001b[1;32m   1122\u001b[0m     p0 \u001b[38;5;241m=\u001b[39m p\n\u001b[1;32m   1123\u001b[0m msg \u001b[38;5;241m=\u001b[39m \u001b[38;5;124m\"\u001b[39m\u001b[38;5;124mFailed to converge after \u001b[39m\u001b[38;5;132;01m%d\u001b[39;00m\u001b[38;5;124m iterations, value is \u001b[39m\u001b[38;5;132;01m%s\u001b[39;00m\u001b[38;5;124m\"\u001b[39m \u001b[38;5;241m%\u001b[39m (maxiter, p)\n\u001b[0;32m-> 1124\u001b[0m \u001b[38;5;28;01mraise\u001b[39;00m \u001b[38;5;167;01mRuntimeError\u001b[39;00m(msg)\n",
      "\u001b[0;31mRuntimeError\u001b[0m: Failed to converge after 500 iterations, value is nan"
     ]
    }
   ],
   "source": [
    "xr = fixed_point(g, 1.5, args=(a, b, c, d), xtol=1e-8)\n",
    "print(f\"x={xr}, f(x)={f(xr, a, b, c, d)}\")"
   ]
  },
  {
   "cell_type": "code",
   "execution_count": null,
   "metadata": {},
   "outputs": [],
   "source": []
  }
 ],
 "metadata": {
  "kernelspec": {
   "display_name": "Python 3",
   "language": "python",
   "name": "python3"
  },
  "language_info": {
   "codemirror_mode": {
    "name": "ipython",
    "version": 3
   },
   "file_extension": ".py",
   "mimetype": "text/x-python",
   "name": "python",
   "nbconvert_exporter": "python",
   "pygments_lexer": "ipython3",
   "version": "3.10.12"
  }
 },
 "nbformat": 4,
 "nbformat_minor": 2
}
