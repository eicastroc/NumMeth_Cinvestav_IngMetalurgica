{
 "cells": [
  {
   "cell_type": "code",
   "execution_count": 1,
   "metadata": {},
   "outputs": [],
   "source": [
    "import numpy as np\n",
    "import matplotlib.pyplot as plt\n",
    "from interp import Lagrang\n",
    "from scipy.interpolate import lagrange"
   ]
  },
  {
   "cell_type": "markdown",
   "metadata": {},
   "source": [
    "# Métodos numéricos"
   ]
  },
  {
   "cell_type": "markdown",
   "metadata": {},
   "source": [
    "<img src=\"figures/LogoCinvestav.png\" style=\"height:100px\" title=\"Cinvestav\">"
   ]
  },
  {
   "cell_type": "markdown",
   "metadata": {},
   "source": [
    "**CINVESTAV Unidad Saltillo**\n",
    "\n",
    "**Curso Propedeutico del Programa de Maestría en Ciencias en Ingeniería Metalúrgica**\n",
    "\n",
    "Dr. Edgar Ivan Castro Cedeño\n",
    "\n",
    "\n",
    "Enero - Junio 2025\n",
    "\n",
    "Contacto:\n",
    "[edgar.castro@cinvestav.mx](mailto:edgar.castro@cinvestav.mx)"
   ]
  },
  {
   "cell_type": "markdown",
   "metadata": {},
   "source": [
    "## 3.2 Polinomio de Lagrange"
   ]
  },
  {
   "cell_type": "markdown",
   "metadata": {},
   "source": [
    "### 3.2.1 Explicación"
   ]
  },
  {
   "cell_type": "markdown",
   "metadata": {},
   "source": [
    "**Problema:**\n",
    "\n",
    "Dado un conjunto de datos, $(x_i, f(x_i))$, $i=0,\\cdots,n$, existe un polinomio de orden $n$ que pasa exactamente por todos esos puntos. \n",
    "\n",
    "Sea $f_n(x)$ ese polinomio el cual se obtiene mediante la siguiente ecuación:\n",
    "\n",
    "$$f_n(x) = \\sum_{i=0}^{n} L_i(x)f(x_i)$$\n",
    "\n",
    "$$L_i(x) = \\prod_{\\begin{matrix} _{j=0} \\\\ _{j \\ne i} \\end{matrix}}^{n} \\frac{(x-x_j)}{(x_i - x_j)}$$"
   ]
  },
  {
   "cell_type": "markdown",
   "metadata": {},
   "source": [
    "**Escritura de polinomios:**\n",
    "\n",
    "$n=1$:\n",
    "\n",
    "$$f_1(x) = \\frac{(x - x_1)}{(x_0-x_1)} f(x_0) + \\frac{(x - x_0)}{(x_1 - x_0)} f(x_1)$$"
   ]
  },
  {
   "cell_type": "markdown",
   "metadata": {},
   "source": [
    "Implementación \"en duro\" del polinomio de Lagrange de primer orden:\n",
    "\n",
    "<div class=\"alert alert-info\">\n",
    "\n",
    "```python\n",
    "def f1(x, X, Y):\n",
    "    L0f = (x-X[1]) / (X[0]-X[1]) * Y[0] \n",
    "    L1f = (x-X[0]) / (X[1]-X[0]) * Y[1]\n",
    "    return L0f + L1f\n",
    "```\n",
    "\n",
    "</div>"
   ]
  },
  {
   "cell_type": "markdown",
   "metadata": {},
   "source": [
    "$n=2$:\n",
    "\n",
    "$$f_2(x) = \\frac{(x - x_1)(x-x_2)}{(x_0-x_1)(x_0-x_2)} f(x_0) + \\frac{(x - x_0)(x-x_2)}{(x_1 - x_0)(x_1-x_2)} f(x_1) + \\frac{(x-x_0)(x-x_1)}{(x_2-x_0)(x_2-x_1)} f(x_2)$$"
   ]
  },
  {
   "cell_type": "markdown",
   "metadata": {},
   "source": [
    "Implementación \"en duro\" del polinomio de Lagrange de segundo orden:\n",
    "\n",
    "<div class=\"alert alert-info\">\n",
    "\n",
    "```python\n",
    "def f2(x, X, Y):\n",
    "    L0f = ((x-X[1])*(x-X[2])) / ((X[0]-X[1])*(X[0]-X[2])) * Y[0]\n",
    "    L1f = ((x-X[0])*(x-X[2])) / ((X[1]-X[0])*(X[1]-X[2])) * Y[1]\n",
    "    L2f = ((x-X[0])*(x-X[1])) / ((X[2]-X[0])*(X[2]-X[1])) * Y[2]\n",
    "    return  L0f + L1f + L2f\n",
    "```\n",
    "\n",
    "</div>"
   ]
  },
  {
   "cell_type": "markdown",
   "metadata": {},
   "source": [
    "$n=n$:\n",
    "\n",
    "$$f_n(x) = \\sum_{i=0}^{n} L_i(x)f(x_i)$$\n",
    "\n",
    "$$L_i(x) = \\prod_{\\begin{matrix} _{j=0} \\\\ _{j \\ne i} \\end{matrix}}^{n} \\frac{(x-x_j)}{(x_i - x_j)}$$"
   ]
  },
  {
   "cell_type": "markdown",
   "metadata": {},
   "source": [
    "Implementación algorítmica de interpolación de Lagrange de orden n:\n",
    "\n",
    "<div class=\"alert alert-info\">\n",
    "\n",
    "```python\n",
    "def Lagrang(x, X, Y, n):\n",
    "    n = len(X)\n",
    "    sum = 0\n",
    "    for i in range(n):\n",
    "        product = Y[i]\n",
    "        for j in range(n):\n",
    "            if i != j: product *= (x - X[j]) / (X[i] - X[j])\n",
    "        sum += product\n",
    "    return sum\n",
    "```\n",
    "\n",
    "</div>"
   ]
  },
  {
   "cell_type": "markdown",
   "metadata": {},
   "source": [
    "### 3.2.2 Ejemplos"
   ]
  },
  {
   "cell_type": "markdown",
   "metadata": {},
   "source": [
    "#### 3.2.2.1 Interpolación de una función\n",
    "\n",
    "Utilice polinomios de Lagrange de primer y segundo ordenes para evaluar el valor de $\\ln{2}$, utilizando los datos siguientes:\n",
    "\n",
    "<center>\n",
    "\n",
    "| x | ln(x) |\n",
    "|---|-------|\n",
    "| 1 | 0     |\n",
    "| 4 | 1.386294 |\n",
    "| 6 | 1.791760 |\n",
    "\n",
    "</center>"
   ]
  },
  {
   "cell_type": "markdown",
   "metadata": {},
   "source": [
    "**Polinomio de Lagrange de primer orden:**"
   ]
  },
  {
   "cell_type": "markdown",
   "metadata": {},
   "source": [
    "$n=1$:\n",
    "\n",
    "$$f_1(x) = \\frac{(x - x_1)}{(x_0-x_1)} f(x_0) + \\frac{(x - x_0)}{(x_1 - x_0)} f(x_1)$$\n",
    "\n",
    "$$f_1(x) = \\frac{(x - 4)}{(1-4)} * 0 + \\frac{(x - 1)}{(4 - 1)} * 1.386294$$\n",
    "\n",
    "$$f_1(x) = \\frac{1.386294}{3} x - \\frac{1.386294}{3}$$\n",
    "\n",
    "$$f_1(2) \\approx 0.462098$$"
   ]
  },
  {
   "cell_type": "markdown",
   "metadata": {},
   "source": [
    "**Polinomio de Lagrange de segundo orden:**"
   ]
  },
  {
   "cell_type": "markdown",
   "metadata": {},
   "source": [
    "$n=2$:\n",
    "\n",
    "$$f_2(x) = \\frac{(x - x_1)(x-x_2)}{(x_0-x_1)(x_0-x_2)} f(x_0) + \\frac{(x - x_0)(x-x_2)}{(x_1 - x_0)(x_1-x_2)} f(x_1) + \\frac{(x-x_0)(x-x_1)}{(x_2-x_0)(x_2-x_1)} f(x_2)$$\n",
    "\n",
    "$$f_2(x) = \\frac{(x - 4)(x - 6)}{(1-4)(1-6)} * 0 + \\frac{(x - 1)(x - 6)}{(4 - 1)( 4 - 6)} * 1.386294 + \\frac{(x-1)(x-4)}{(6-1)(6-4)} * 1.791760$$\n",
    "\n",
    "$$f_2(x) = \\frac{1.386294}{-6} (x^2-7x+6) +  \\frac{1.791760}{10} (x^2-5x+4)$$\n",
    "\n",
    "$$f_2(2) \\approx 0.565844$$"
   ]
  },
  {
   "cell_type": "markdown",
   "metadata": {},
   "source": [
    "**Utilizando implementación propia en python, `Lagrang()`**:"
   ]
  },
  {
   "cell_type": "code",
   "execution_count": 2,
   "metadata": {},
   "outputs": [
    {
     "name": "stdout",
     "output_type": "stream",
     "text": [
      "valor real, ln(2) = 0.6931471805599453\n",
      "Lagrange 1er orden: 0.46209799999999995\n",
      "Lagrange 2do orden: 0.5658439999999999\n"
     ]
    }
   ],
   "source": [
    "X = np.array([1, 4, 6])\n",
    "Y = np.array([0, 1.386294, 1.791760])\n",
    "\n",
    "print(f\"valor real, ln(2) = {np.log(2)}\")\n",
    "print(f\"Lagrange 1er orden: {Lagrang(2, X, Y, 1)}\")\n",
    "print(f\"Lagrange 2do orden: {Lagrang(2, X, Y, 2)}\")"
   ]
  },
  {
   "cell_type": "markdown",
   "metadata": {},
   "source": [
    "#### 3.2.2.2 Ajuste de datos"
   ]
  },
  {
   "cell_type": "markdown",
   "metadata": {},
   "source": [
    "Utilice polinomios de Lagrange para interpolar datos de caida libre, para $t=10 \\mathbf{s}$.\n",
    "\n",
    "<center>\n",
    "\n",
    "| tiempo [s] | velocidad [m/s] |\n",
    "|---|-------|\n",
    "| 1 | 8     |\n",
    "| 3 | 23.1 |\n",
    "| 5 | 30.9 |\n",
    "| 7 | 39.4 |\n",
    "| 13 | 47.55 |\n",
    "\n",
    "</center>\n",
    "\n"
   ]
  },
  {
   "cell_type": "code",
   "execution_count": 3,
   "metadata": {},
   "outputs": [
    {
     "data": {
      "image/png": "[encoded data removed]",
      "text/plain": [
       "<Figure size 600x400 with 1 Axes>"
      ]
     },
     "metadata": {},
     "output_type": "display_data"
    }
   ],
   "source": [
    "X = np.array([1, 3, 5, 7, 13])\n",
    "Y = np.array([8, 23.1, 30.9, 39.4, 47.55])\n",
    "x = np.linspace(0, 13, 55)\n",
    "\n",
    "fig, ax = plt.subplots(figsize=(6, 4))\n",
    "ax.plot(X, Y, 'ok', label='datos')\n",
    "ax.plot(x, Lagrang(x, X[-2:], Y[-2:], 1), label=r'$f_1(x)$')\n",
    "ax.plot(x, Lagrang(x, X[-3:], Y[-3:], 2), label=r'$f_2(x)$')\n",
    "ax.plot(x, Lagrang(x, X[1:], Y[1:], 3), label=r'$f_3(x)$')\n",
    "ax.plot(x, Lagrang(x, X, Y, 4), label=r\"$f_4(x)$\")\n",
    "ax.set(xlabel='tiempo [s]', ylabel='velocidad [m/s]')\n",
    "ax.grid(ls='--')\n",
    "ax.legend()\n",
    "plt.show()\n"
   ]
  },
  {
   "cell_type": "markdown",
   "metadata": {},
   "source": [
    "### 2.2.3 Interpolaciones de Lagrange utilizando la librería `scipy`"
   ]
  },
  {
   "cell_type": "markdown",
   "metadata": {},
   "source": [
    "#### 3.2.3.1 Interpolación de una función\n",
    "\n",
    "Utilice polinomios de Lagrange de primer y segundo ordenes para evaluar el valor de $\\ln{2}$, utilizando los datos siguientes:\n",
    "\n",
    "<center>\n",
    "\n",
    "| x | ln(x) |\n",
    "|---|-------|\n",
    "| 1 | 0     |\n",
    "| 4 | 1.386294 |\n",
    "| 6 | 1.791760 |\n",
    "\n",
    "</center>"
   ]
  },
  {
   "cell_type": "code",
   "execution_count": 4,
   "metadata": {},
   "outputs": [
    {
     "name": "stdout",
     "output_type": "stream",
     "text": [
      "valor real, ln(2) = 0.6931471805599453\n",
      "Lagrange de scipy : 0.5658440000000002\n"
     ]
    }
   ],
   "source": [
    "X = np.array([1, 4, 6])\n",
    "Y = np.array([0, 1.386294, 1.791760])\n",
    "\n",
    "print(f\"valor real, ln(2) = {np.log(2)}\")\n",
    "print(f\"Lagrange de scipy : {lagrange(X,Y)(2)}\")"
   ]
  },
  {
   "cell_type": "markdown",
   "metadata": {},
   "source": [
    "#### 3.2.3.2 Ajuste de datos"
   ]
  },
  {
   "cell_type": "markdown",
   "metadata": {},
   "source": [
    "Utilice polinomios de Lagrange para interpolar datos de caida libre, para $t=10 \\mathbf{s}$.\n",
    "\n",
    "<center>\n",
    "\n",
    "| tiempo [s] | velocidad [m/s] |\n",
    "|---|-------|\n",
    "| 1 | 8     |\n",
    "| 3 | 23.1 |\n",
    "| 5 | 30.9 |\n",
    "| 7 | 39.4 |\n",
    "| 13 | 47.55 |\n",
    "\n",
    "</center>\n",
    "\n"
   ]
  },
  {
   "cell_type": "code",
   "execution_count": 5,
   "metadata": {},
   "outputs": [
    {
     "name": "stdout",
     "output_type": "stream",
     "text": [
      "Interpolación en t=10 : 54.3019531250001 m/s\n"
     ]
    }
   ],
   "source": [
    "X = np.array([1, 3, 5, 7, 13])\n",
    "Y = np.array([8, 23.1, 30.9, 39.4, 47.55])\n",
    "\n",
    "t = 10\n",
    "print(f\"Interpolación en t={t} : {lagrange(X,Y)(t)} m/s\")"
   ]
  }
 ],
 "metadata": {
  "kernelspec": {
   "display_name": "Python 3",
   "language": "python",
   "name": "python3"
  },
  "language_info": {
   "codemirror_mode": {
    "name": "ipython",
    "version": 3
   },
   "file_extension": ".py",
   "mimetype": "text/x-python",
   "name": "python",
   "nbconvert_exporter": "python",
   "pygments_lexer": "ipython3",
   "version": "3.10.12"
  }
 },
 "nbformat": 4,
 "nbformat_minor": 2
}
