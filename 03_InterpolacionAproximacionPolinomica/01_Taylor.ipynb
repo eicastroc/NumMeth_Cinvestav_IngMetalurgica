{
 "cells": [
  {
   "cell_type": "code",
   "execution_count": 1,
   "metadata": {},
   "outputs": [],
   "source": [
    "import numpy as np\n",
    "import matplotlib.pyplot as plt\n",
    "import sympy"
   ]
  },
  {
   "cell_type": "markdown",
   "metadata": {},
   "source": [
    "# Métodos numéricos"
   ]
  },
  {
   "cell_type": "markdown",
   "metadata": {},
   "source": [
    "<img src=\"figures/LogoCinvestav.png\" style=\"height:100px\" title=\"Cinvestav\">"
   ]
  },
  {
   "cell_type": "markdown",
   "metadata": {},
   "source": [
    "**CINVESTAV Unidad Saltillo**\n",
    "\n",
    "**Curso Propedeutico del Programa de Maestría en Ciencias en Ingeniería Metalúrgica**\n",
    "\n",
    "Dr. Edgar Ivan Castro Cedeño\n",
    "\n",
    "\n",
    "\n",
    "Contacto:\n",
    "[edgar.castro@cinvestav.mx](mailto:edgar.castro@cinvestav.mx)"
   ]
  },
  {
   "cell_type": "markdown",
   "metadata": {},
   "source": [
    "## 3.1 Polinomios de Taylor"
   ]
  },
  {
   "cell_type": "markdown",
   "metadata": {},
   "source": [
    "### 3.1.1 Explicación"
   ]
  },
  {
   "cell_type": "markdown",
   "metadata": {},
   "source": [
    "**Problema:**\n",
    "\n",
    "Dada una función continua, $f(x)$, y con derivadas continuas $f'(x)$, $f''(x)$, etc., se busca representar dicha función mediante un polinomio de grado $n$, en un intervalo alrededor del punto $x=a$.\n",
    "\n",
    "$$f(x) = \\beta_0 + \\beta_1 (x-a) + \\beta_2 (x-a)^2 + \\beta_3 (x-a)^3 + \\cdots + \\beta_n (x-a)^n$$"
   ]
  },
  {
   "cell_type": "markdown",
   "metadata": {},
   "source": [
    "Los coeficientes $\\beta_i$ se obtienen a partir de las derivadas de la misma función, y esta se escribe como:\n",
    "\n",
    "$$f(x) = f(a) + f^{\\prime}(a) (x-a) + \\frac{f^{\\prime\\prime}(a)}{2!} (x-a)^2 + \\frac{f^{\\prime\\prime\\prime}(a)}{3!} (x-a)^3 + \\cdots + \\frac{f^n(a)}{n!} (x-a)^n + R_n$$"
   ]
  },
  {
   "cell_type": "markdown",
   "metadata": {},
   "source": [
    "<details>\n",
    "<summary><b>Derivación</b></summary>\n",
    "\n",
    "<div class=\"class alert-info\">\n",
    "\n",
    "**Determinación de los valores de los coeficientes $\\beta_i$**:\n",
    "\n",
    "Los coeficientes $\\beta_i$ se determinan a partir de las derivadas de la propia función, y sustituyendo $x=a$.\n",
    "\n",
    "De forma general los coeficientes están dados por:\n",
    "\n",
    "$$\\beta_i = \\frac{f^i(a)}{i!}$$\n",
    "\n",
    "- Obtención del coeficiente $\\beta_0$.\n",
    "\n",
    "$$f(x) = \\beta_0 + \\beta_1 (x-a) + \\beta_2 (x-a)^2 + \\beta_3 (x-a)^3 + \\cdots + \\beta_n (x-a)^n$$\n",
    "\n",
    "$$f(a) = \\beta_0 + \\cancel{\\beta_1 (a-a)} + \\cancel{\\beta_2 (a-a)^2} + \\cancel{\\beta_3 (a-a)^3} + \\cdots + \\cancel{\\beta_n (a-a)^n}$$\n",
    "\n",
    "$$\\therefore f(a) = \\beta_0$$\n",
    "\n",
    "- Obtención del coeficiente $\\beta_1$.\n",
    "\n",
    "$$f'(x) = \\beta_1 + 2\\beta_2 (x-a) + 3\\beta_3 (x-a)^2 + \\cdots + n\\beta_n (x-a)^{n-1}$$\n",
    "\n",
    "$$f'(a) = \\beta_1 + \\cancel{2\\beta_2 (a-a)} + \\cancel{3\\beta_3 (a-a)^2} + \\cdots + \\cancel{n\\beta_n (a-a)^{n-1}}$$\n",
    "\n",
    "$$\\therefore f'(a) = \\beta_1$$\n",
    "\n",
    "- Obtención del coeficiente $\\beta_2$.\n",
    "\n",
    "$$f''(x) = 2\\beta_2 + 3\\cdot2\\beta_3 (x-a) + \\cdots + n\\cdot(n-1)\\beta_n (x-a)^{n-2}$$\n",
    "\n",
    "$$f''(a) = 2\\beta_2 + \\cancel{3\\cdot2\\beta_3 (a-a)} + \\cdots + \\cancel{n\\cdot(n-1)\\beta_n (a-a)^{n-2}}$$\n",
    "\n",
    "$$\\therefore f''(a) = \\frac{\\beta_2}{2}$$\n",
    "\n",
    "- Obtención del coeficiente $\\beta_3$.\n",
    "\n",
    "$$f^{\\prime\\prime\\prime}(x) = 3\\cdot2\\beta_3 + \\cdots + n\\cdot(n-1)\\cdot(n-2)\\beta_n (x-a)^{n-3}$$\n",
    "\n",
    "$$f^{\\prime\\prime\\prime}(a) = 3\\cdot2\\beta_3 + \\cdots + \\cancel{n\\cdot(n-1)\\cdot(n-2)\\beta_n (1-a)^{n-3}}$$\n",
    "\n",
    "$$\\therefore f^{\\prime\\prime\\prime}(a) = \\frac{\\beta_3}{3\\cdot2}$$\n",
    "\n",
    "- Obtención del coefiente $\\beta_n$.\n",
    "\n",
    "$$f^{n}(x) = n\\cdot(n-1)\\cdot(n-2)\\cdots3\\cdot2 \\beta_i$$\n",
    "\n",
    "$$f^{n}(a) = n\\cdot(n-1)\\cdot(n-2)\\cdots3\\cdot2 \\beta_i$$\n",
    "\n",
    "$$\\therefore f^{n} = \\frac{\\beta_n}{n\\cdot(n-1)\\cdot(n-2)\\cdots3\\cdot2}$$\n",
    "\n",
    "</div>\n",
    "\n",
    "</details>"
   ]
  },
  {
   "cell_type": "markdown",
   "metadata": {},
   "source": [
    "### 3.1.2 Ejemplos"
   ]
  },
  {
   "cell_type": "markdown",
   "metadata": {},
   "source": [
    "#### 3.1.2.1 Función trigonométrica"
   ]
  },
  {
   "cell_type": "markdown",
   "metadata": {},
   "source": [
    "Obtenga un polinomio de Taylor de orden 2 para aproximar la función $\\sin(x)$ alrededor de $x=1$. Usando este polinomio, calcule $\\sin(\\frac{\\pi}{4})$."
   ]
  },
  {
   "cell_type": "markdown",
   "metadata": {},
   "source": [
    "\n",
    "- El polinomio de Taylor, aproximado alrededor de $x=1$ se escribe:\n",
    "\n",
    "$$f(x) = \\overbrace{\\sin(1)}^{f(a)} + \\overbrace{\\cos(1)}^{f^{\\prime}(a)} (x - 1) + \\frac{\\overbrace{-\\sin(1)}^{f^{\\prime\\prime}(a)}}{2} (x-1)^2$$\n",
    "\n"
   ]
  },
  {
   "cell_type": "code",
   "execution_count": 2,
   "metadata": {},
   "outputs": [],
   "source": [
    "# escritura de la función\n",
    "def ej1(a, x):\n",
    "    return np.sin(a) + np.cos(a)*(x-a) - np.sin(a)/2*(x-a)**2"
   ]
  },
  {
   "cell_type": "code",
   "execution_count": 3,
   "metadata": {},
   "outputs": [
    {
     "name": "stdout",
     "output_type": "stream",
     "text": [
      "Valor de la función: 0.7071067811865475\n",
      "Aproximación de Taylor: 0.7061445870441343\n"
     ]
    }
   ],
   "source": [
    "# evaluación de la función\n",
    "a=1\n",
    "x=np.pi/4\n",
    "print(f\"Valor de la función: {np.sin(x)}\")\n",
    "print(f\"Aproximación de Taylor: {ej1(a, x)}\")"
   ]
  },
  {
   "cell_type": "code",
   "execution_count": 4,
   "metadata": {},
   "outputs": [
    {
     "data": {
      "image/png": "[encoded data removed]",
      "text/plain": [
       "<Figure size 600x400 with 1 Axes>"
      ]
     },
     "metadata": {},
     "output_type": "display_data"
    }
   ],
   "source": [
    "fig, ax = plt.subplots(figsize=(6,4))\n",
    "x = np.linspace(-2*np.pi, 2*np.pi, 101)\n",
    "ax.plot(x, np.sin(x), label=\"sin(x)\")\n",
    "ax.plot(x, ej1(1, x), label=r\"T$_2$(1)\")\n",
    "ax.set(ylim=(-2, 2))\n",
    "ax.grid(ls=\"--\")\n",
    "ax.legend()\n",
    "plt.show()"
   ]
  },
  {
   "cell_type": "markdown",
   "metadata": {},
   "source": [
    "#### 3.1.2.2 Función exponencial"
   ]
  },
  {
   "cell_type": "markdown",
   "metadata": {},
   "source": [
    "Obtenga un polinomio de Taylor de orden 2 para aproximar la función $\\exp(x)$ alrededor de $x=1$. Usando este polinomio, calcule $\\exp(1.5)$."
   ]
  },
  {
   "cell_type": "markdown",
   "metadata": {},
   "source": [
    "\n",
    "- El polinomio de Taylor, aproximado alrededor de $x=1$ se escribe:\n",
    "\n",
    "$$f(x) = \\overbrace{\\exp(1)}^{f(a)} + \\overbrace{\\exp(1)}^{f^{\\prime}(a)} (x - 1) + \\frac{\\overbrace{\\exp(1)}^{f^{\\prime\\prime}(a)}}{2} (x-1)^2$$\n",
    "\n"
   ]
  },
  {
   "cell_type": "code",
   "execution_count": 5,
   "metadata": {},
   "outputs": [],
   "source": [
    "# escritura de la función\n",
    "def ej2(a, x):\n",
    "    return np.exp(a) + np.exp(a)*(x-a) + np.exp(a)/2*(x-a)**2"
   ]
  },
  {
   "cell_type": "code",
   "execution_count": 6,
   "metadata": {},
   "outputs": [
    {
     "name": "stdout",
     "output_type": "stream",
     "text": [
      "Valor de la función: 4.4816890703380645\n",
      "Aproximación de Taylor: 4.417207971245949\n"
     ]
    }
   ],
   "source": [
    "# evaluación de la función\n",
    "a=1\n",
    "x=1.5\n",
    "print(f\"Valor de la función: {np.exp(x)}\")\n",
    "print(f\"Aproximación de Taylor: {ej2(a, x)}\")"
   ]
  },
  {
   "cell_type": "code",
   "execution_count": 7,
   "metadata": {},
   "outputs": [
    {
     "data": {
      "image/png": "[encoded data removed]",
      "text/plain": [
       "<Figure size 600x400 with 1 Axes>"
      ]
     },
     "metadata": {},
     "output_type": "display_data"
    }
   ],
   "source": [
    "fig, ax = plt.subplots(figsize=(6,4))\n",
    "x = np.linspace(0, np.pi, 51)\n",
    "ax.plot(x, np.exp(x), label=\"exp(x)\")\n",
    "ax.plot(x, ej2(1, x), label=r\"T$_2$(1)\")\n",
    "ax.grid(ls=\"--\")\n",
    "ax.legend()\n",
    "plt.show()"
   ]
  },
  {
   "cell_type": "markdown",
   "metadata": {},
   "source": [
    "### 3.1.3 Aproximaciones de series de Taylor utilizando la librería de cálculo simbólico `sympy`."
   ]
  },
  {
   "cell_type": "markdown",
   "metadata": {},
   "source": [
    "#### 3.1.3.1 Función trigonométrica"
   ]
  },
  {
   "cell_type": "markdown",
   "metadata": {},
   "source": [
    "Crear la expresión simbólica"
   ]
  },
  {
   "cell_type": "code",
   "execution_count": 8,
   "metadata": {},
   "outputs": [
    {
     "data": {
      "text/latex": [
       "$\\displaystyle \\sin{\\left(1 \\right)} + \\left(x - 1\\right) \\cos{\\left(1 \\right)} - \\frac{\\left(x - 1\\right)^{2} \\sin{\\left(1 \\right)}}{2} + O\\left(\\left(x - 1\\right)^{3}; x\\rightarrow 1\\right)$"
      ],
      "text/plain": [
       "sin(1) + (x - 1)*cos(1) - (x - 1)**2*sin(1)/2 + O((x - 1)**3, (x, 1))"
      ]
     },
     "execution_count": 8,
     "metadata": {},
     "output_type": "execute_result"
    }
   ],
   "source": [
    "x = sympy.var('x')\n",
    "taylor_sin = sympy.series(sympy.sin(x), x, 1, n=3)\n",
    "taylor_sin"
   ]
  },
  {
   "cell_type": "markdown",
   "metadata": {},
   "source": [
    "Truncar la expresión"
   ]
  },
  {
   "cell_type": "code",
   "execution_count": 9,
   "metadata": {},
   "outputs": [
    {
     "data": {
      "text/latex": [
       "$\\displaystyle - \\frac{\\left(x - 1\\right)^{2} \\sin{\\left(1 \\right)}}{2} + \\left(x - 1\\right) \\cos{\\left(1 \\right)} + \\sin{\\left(1 \\right)}$"
      ],
      "text/plain": [
       "-(x - 1)**2*sin(1)/2 + (x - 1)*cos(1) + sin(1)"
      ]
     },
     "execution_count": 9,
     "metadata": {},
     "output_type": "execute_result"
    }
   ],
   "source": [
    "taylor_sin = taylor_sin.removeO()\n",
    "taylor_sin"
   ]
  },
  {
   "cell_type": "markdown",
   "metadata": {},
   "source": [
    "Evaluar la expresión"
   ]
  },
  {
   "cell_type": "code",
   "execution_count": 10,
   "metadata": {},
   "outputs": [
    {
     "data": {
      "text/plain": [
       "np.float64(0.7061445870441342)"
      ]
     },
     "execution_count": 10,
     "metadata": {},
     "output_type": "execute_result"
    }
   ],
   "source": [
    "expr_taylor_sin = sympy.lambdify(x, taylor_sin)\n",
    "expr_taylor_sin(np.pi/4)"
   ]
  },
  {
   "cell_type": "markdown",
   "metadata": {},
   "source": [
    "#### 3.1.3.2 Función exponencial"
   ]
  },
  {
   "cell_type": "markdown",
   "metadata": {},
   "source": [
    "Crear la expresión simbólica"
   ]
  },
  {
   "cell_type": "code",
   "execution_count": 11,
   "metadata": {},
   "outputs": [
    {
     "data": {
      "text/latex": [
       "$\\displaystyle e + e \\left(x - 1\\right) + \\frac{e \\left(x - 1\\right)^{2}}{2} + O\\left(\\left(x - 1\\right)^{3}; x\\rightarrow 1\\right)$"
      ],
      "text/plain": [
       "E + E*(x - 1) + E*(x - 1)**2/2 + O((x - 1)**3, (x, 1))"
      ]
     },
     "execution_count": 11,
     "metadata": {},
     "output_type": "execute_result"
    }
   ],
   "source": [
    "x = sympy.var('x')\n",
    "taylor_exp = sympy.series(sympy.exp(x), x, 1, n=3)\n",
    "taylor_exp"
   ]
  },
  {
   "cell_type": "markdown",
   "metadata": {},
   "source": [
    "Truncar la expresión"
   ]
  },
  {
   "cell_type": "code",
   "execution_count": 12,
   "metadata": {},
   "outputs": [
    {
     "data": {
      "text/latex": [
       "$\\displaystyle \\frac{e \\left(x - 1\\right)^{2}}{2} + e \\left(x - 1\\right) + e$"
      ],
      "text/plain": [
       "E*(x - 1)**2/2 + E*(x - 1) + E"
      ]
     },
     "execution_count": 12,
     "metadata": {},
     "output_type": "execute_result"
    }
   ],
   "source": [
    "taylor_exp = taylor_exp.removeO()\n",
    "taylor_exp"
   ]
  },
  {
   "cell_type": "markdown",
   "metadata": {},
   "source": [
    "Evaluar la expresión"
   ]
  },
  {
   "cell_type": "code",
   "execution_count": 13,
   "metadata": {},
   "outputs": [
    {
     "data": {
      "text/plain": [
       "4.417207971245948"
      ]
     },
     "execution_count": 13,
     "metadata": {},
     "output_type": "execute_result"
    }
   ],
   "source": [
    "expr_taylor_exp = sympy.lambdify(x, taylor_exp)\n",
    "expr_taylor_exp(1.5)"
   ]
  },
  {
   "cell_type": "markdown",
   "metadata": {},
   "source": [
    "#### 3.1.3.3 Otro tipo de funciones"
   ]
  },
  {
   "cell_type": "code",
   "execution_count": 14,
   "metadata": {},
   "outputs": [
    {
     "data": {
      "text/latex": [
       "$\\displaystyle e^{- x^{2}} \\cos{\\left(x^{2} \\right)}$"
      ],
      "text/plain": [
       "exp(-x**2)*cos(x**2)"
      ]
     },
     "execution_count": 14,
     "metadata": {},
     "output_type": "execute_result"
    }
   ],
   "source": [
    "x = sympy.var('x')\n",
    "f = sympy.exp(-x**2)*sympy.cos(x**2)\n",
    "f"
   ]
  },
  {
   "cell_type": "code",
   "execution_count": 15,
   "metadata": {},
   "outputs": [
    {
     "data": {
      "text/latex": [
       "$\\displaystyle \\frac{\\cos{\\left(1 \\right)}}{e} + \\left(x - 1\\right) \\left(- \\frac{2 \\sin{\\left(1 \\right)}}{e} - \\frac{2 \\cos{\\left(1 \\right)}}{e}\\right) + \\left(x - 1\\right)^{2} \\left(- \\frac{\\cos{\\left(1 \\right)}}{e} + \\frac{3 \\sin{\\left(1 \\right)}}{e}\\right) + O\\left(\\left(x - 1\\right)^{3}; x\\rightarrow 1\\right)$"
      ],
      "text/plain": [
       "exp(-1)*cos(1) + (x - 1)*(-2*exp(-1)*sin(1) - 2*exp(-1)*cos(1)) + (x - 1)**2*(-exp(-1)*cos(1) + 3*exp(-1)*sin(1)) + O((x - 1)**3, (x, 1))"
      ]
     },
     "execution_count": 15,
     "metadata": {},
     "output_type": "execute_result"
    }
   ],
   "source": [
    "taylor_f = sympy.series(f, x, 1, n=3)\n",
    "taylor_f"
   ]
  },
  {
   "cell_type": "code",
   "execution_count": 16,
   "metadata": {},
   "outputs": [
    {
     "data": {
      "text/latex": [
       "$\\displaystyle \\left(x - 1\\right)^{2} \\left(- \\frac{\\cos{\\left(1 \\right)}}{e} + \\frac{3 \\sin{\\left(1 \\right)}}{e}\\right) + \\left(x - 1\\right) \\left(- \\frac{2 \\sin{\\left(1 \\right)}}{e} - \\frac{2 \\cos{\\left(1 \\right)}}{e}\\right) + \\frac{\\cos{\\left(1 \\right)}}{e}$"
      ],
      "text/plain": [
       "(x - 1)**2*(-exp(-1)*cos(1) + 3*exp(-1)*sin(1)) + (x - 1)*(-2*exp(-1)*sin(1) - 2*exp(-1)*cos(1)) + exp(-1)*cos(1)"
      ]
     },
     "execution_count": 16,
     "metadata": {},
     "output_type": "execute_result"
    }
   ],
   "source": [
    "taylor_f = taylor_f.removeO()\n",
    "taylor_f"
   ]
  },
  {
   "cell_type": "code",
   "execution_count": 17,
   "metadata": {},
   "outputs": [
    {
     "data": {
      "text/plain": [
       "np.float64(-0.1270814964998813)"
      ]
     },
     "execution_count": 17,
     "metadata": {},
     "output_type": "execute_result"
    }
   ],
   "source": [
    "expr_taylor_f = sympy.lambdify(x, taylor_f)\n",
    "expr_taylor_f(1.5)"
   ]
  },
  {
   "cell_type": "code",
   "execution_count": 18,
   "metadata": {},
   "outputs": [
    {
     "data": {
      "image/png": "[encoded data removed]",
      "text/plain": [
       "<Figure size 600x400 with 1 Axes>"
      ]
     },
     "metadata": {},
     "output_type": "display_data"
    }
   ],
   "source": [
    "fig, ax = plt.subplots(figsize=(6, 4))\n",
    "\n",
    "x = np.linspace(0, 2, 101)\n",
    "ax.plot(x, np.exp(-x**2)*np.cos(x**2), label='f(x)')\n",
    "ax.plot(x, expr_taylor_f(x), label='Taylor')\n",
    "ax.legend()\n",
    "plt.show()"
   ]
  },
  {
   "cell_type": "code",
   "execution_count": null,
   "metadata": {},
   "outputs": [],
   "source": []
  }
 ],
 "metadata": {
  "kernelspec": {
   "display_name": "Python 3",
   "language": "python",
   "name": "python3"
  },
  "language_info": {
   "codemirror_mode": {
    "name": "ipython",
    "version": 3
   },
   "file_extension": ".py",
   "mimetype": "text/x-python",
   "name": "python",
   "nbconvert_exporter": "python",
   "pygments_lexer": "ipython3",
   "version": "3.10.12"
  }
 },
 "nbformat": 4,
 "nbformat_minor": 2
}
