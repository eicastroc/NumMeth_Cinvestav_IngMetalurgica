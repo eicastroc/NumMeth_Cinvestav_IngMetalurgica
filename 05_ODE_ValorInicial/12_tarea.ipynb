{
 "cells": [
  {
   "cell_type": "code",
   "execution_count": 1,
   "id": "e428db08",
   "metadata": {},
   "outputs": [],
   "source": [
    "import numpy as np\n",
    "import matplotlib.pyplot as plt\n",
    "from scipy.integrate import solve_ivp\n",
    "import sympy"
   ]
  },
  {
   "cell_type": "markdown",
   "id": "397c2496",
   "metadata": {},
   "source": [
    "# Métodos numéricos"
   ]
  },
  {
   "cell_type": "markdown",
   "id": "03b48bd6",
   "metadata": {},
   "source": [
    "<img src=\"figures/LogoCinvestav.png\" style=\"height:100px\" title=\"Cinvestav\">"
   ]
  },
  {
   "cell_type": "markdown",
   "id": "2ed25a63",
   "metadata": {},
   "source": [
    "**CINVESTAV Unidad Saltillo**\n",
    "\n",
    "**Curso Propedeutico del Programa de Maestría en Ciencias en Ingeniería Metalúrgica**\n",
    "\n",
    "Dr. Edgar Ivan Castro Cedeño\n",
    "\n",
    "\n",
    "\n",
    "Contacto:\n",
    "[edgar.castro@cinvestav.mx](mailto:edgar.castro@cinvestav.mx)"
   ]
  },
  {
   "cell_type": "markdown",
   "id": "4a6e8b29",
   "metadata": {},
   "source": [
    "# 1"
   ]
  },
  {
   "cell_type": "markdown",
   "id": "4e616525",
   "metadata": {},
   "source": [
    "Resuelva el siguiente problema de valor inicial de forma analítica sobre el intervalo $x=[0, 2]$.\n",
    "\n",
    "$$\\frac{dy}{dx}=y\\,x^2 - 1.2y$$\n",
    "\n",
    "$$y(0) = 1$$\n",
    "\n",
    "Use un método numérico para efectuar la integración de la función, considerando un tamaño de paso $h=0.25$. Compare gráficamente contra la solución analítica."
   ]
  },
  {
   "cell_type": "code",
   "execution_count": null,
   "id": "ce5c22fb",
   "metadata": {},
   "outputs": [],
   "source": []
  },
  {
   "cell_type": "markdown",
   "id": "f37e8705",
   "metadata": {},
   "source": [
    "# 2"
   ]
  },
  {
   "cell_type": "markdown",
   "id": "210e2fc6",
   "metadata": {},
   "source": [
    "La ley de enfriamiento de Newton se escribe:\n",
    "\n",
    "$$\\frac{dT}{dt} = - k\\left(T - T_{\\infty}\\right)$$\n",
    "\n",
    "Resuelva analíticamente considerando la siguiente condición inicial y parámetros:\n",
    "\n",
    "$$T(0) = T_0 = 1000$$\n",
    "\n",
    "$$k = 0.001$$\n",
    "\n",
    "$$T_{\\infty} = 300$$\n",
    "\n",
    "Use un método numérico para efectuar la integración de la función en el intervalo $t=[0, 60]$, considerando un tamaño de paso $h=15$. Compare gráficamente contra la solución analítica."
   ]
  },
  {
   "cell_type": "code",
   "execution_count": null,
   "id": "3b0b35e4",
   "metadata": {},
   "outputs": [],
   "source": []
  }
 ],
 "metadata": {
  "kernelspec": {
   "display_name": "Python 3",
   "language": "python",
   "name": "python3"
  },
  "language_info": {
   "codemirror_mode": {
    "name": "ipython",
    "version": 3
   },
   "file_extension": ".py",
   "mimetype": "text/x-python",
   "name": "python",
   "nbconvert_exporter": "python",
   "pygments_lexer": "ipython3",
   "version": "3.10.12"
  }
 },
 "nbformat": 4,
 "nbformat_minor": 5
}
