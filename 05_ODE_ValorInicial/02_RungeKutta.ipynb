{
 "cells": [
  {
   "cell_type": "code",
   "execution_count": 1,
   "metadata": {},
   "outputs": [],
   "source": [
    "import numpy as np\n",
    "import matplotlib.pyplot as plt\n",
    "from odes import rungeKutta4\n",
    "from scipy.integrate import solve_ivp"
   ]
  },
  {
   "cell_type": "markdown",
   "metadata": {},
   "source": [
    "# Métodos numéricos"
   ]
  },
  {
   "cell_type": "markdown",
   "metadata": {},
   "source": [
    "<img src=\"figures/LogoCinvestav.png\" style=\"height:100px\" title=\"Cinvestav\">"
   ]
  },
  {
   "cell_type": "markdown",
   "metadata": {},
   "source": [
    "**CINVESTAV Unidad Saltillo**\n",
    "\n",
    "**Curso Propedeutico del Programa de Maestría en Ciencias en Ingeniería Metalúrgica**\n",
    "\n",
    "Dr. Edgar Ivan Castro Cedeño\n",
    "\n",
    "\n",
    "\n",
    "\n",
    "Contacto:\n",
    "[edgar.castro@cinvestav.mx](mailto:edgar.castro@cinvestav.mx)"
   ]
  },
  {
   "cell_type": "markdown",
   "metadata": {},
   "source": [
    "## 5.2 Métodos de Runge-Kutta"
   ]
  },
  {
   "cell_type": "markdown",
   "metadata": {},
   "source": [
    "### 5.2.1 Explicación"
   ]
  },
  {
   "cell_type": "markdown",
   "metadata": {},
   "source": [
    "$$\\frac{dy}{dx} = f(x, y)$$\n",
    "\n",
    "$$y(x_0) = y_0$$"
   ]
  },
  {
   "cell_type": "markdown",
   "metadata": {},
   "source": [
    "Los métodos de Runge-Kutta son una serie de métodos que permiten mejorar la precisión sin requerir el cálculo de derivadas de orden superior. Su forma general es:\n",
    "\n",
    "$$y_{i+1} = y_i + \\phi(x_i, y_i, h) h$$\n",
    "\n",
    "donde $\\phi(x_i, y_i, h)$ se le llama función de incremento, y se puede interpretar como una representación de la pendiente de la curva sobre un intervalo dado. De forma general:\n",
    "\n",
    "$$\\phi = a_1 k_1 + a_2 k_2 + \\cdots a_n k_n$$"
   ]
  },
  {
   "cell_type": "markdown",
   "metadata": {},
   "source": [
    "**Método de Runge-Kutta de 4to orden:**"
   ]
  },
  {
   "cell_type": "markdown",
   "metadata": {},
   "source": [
    "$$y_{i+1} = y_i + \\frac{1}{6} \\left(k_1 + 2k_2 + 2k_3 + k_4\\right) h$$"
   ]
  },
  {
   "cell_type": "markdown",
   "metadata": {},
   "source": [
    "donde:\n",
    "\n",
    "$k_1 = f(x_i, \\quad y_i)$\n",
    "\n",
    "$k_2 = f\\left(x_i+\\frac{1}{2}h, \\quad y_i+\\frac{1}{2}k_1h\\right)$\n",
    "\n",
    "$k_3 = f\\left(x_i+\\frac{1}{2}h, \\quad y_i+\\frac{1}{2}k_2h\\right)$\n",
    "\n",
    "$k_4 =  f(x_i + h, \\quad y_i + k_3h)$"
   ]
  },
  {
   "cell_type": "markdown",
   "metadata": {},
   "source": [
    "**Implementación del método de Runge-Kutta 4to orden**"
   ]
  },
  {
   "cell_type": "code",
   "execution_count": 2,
   "metadata": {},
   "outputs": [
    {
     "name": "stdout",
     "output_type": "stream",
     "text": [
      "Help on function rungeKutta4 in module odes:\n",
      "\n",
      "rungeKutta4(f, y0, x_span, h)\n",
      "    Implementación básica del método de Runge-Kutta 4to orden \n",
      "    para resolver una ecuación diferencial ordinaria.\n",
      "    \n",
      "    Parameters\n",
      "    ----------\n",
      "    \n",
      "    f : function\n",
      "        Python function return a number. `f` must e continuous.\n",
      "    y0: scalar\n",
      "        initial condition f(0)= y0\n",
      "    x_span: tupple\n",
      "        two-value tupple with the initial and final xvalues, (x0,xf)\n",
      "        for evaluation of the function.\n",
      "    h : scalar\n",
      "        step-size in the x-direction\n",
      "    \n",
      "    Returns\n",
      "    -------\n",
      "    X : array\n",
      "        x-values where the differential equation is evaluated.\n",
      "    Y : array\n",
      "        y-values where the differential equation is evaluated.\n",
      "\n"
     ]
    }
   ],
   "source": [
    "help(rungeKutta4)"
   ]
  },
  {
   "cell_type": "markdown",
   "metadata": {},
   "source": [
    "### 5.2.2 Ejemplo"
   ]
  },
  {
   "cell_type": "markdown",
   "metadata": {},
   "source": [
    "#### 5.2.2.1 Ecuación polinómica"
   ]
  },
  {
   "cell_type": "markdown",
   "metadata": {},
   "source": [
    "Utilice el método de Euler para integrar numéricamente la ecuación:\n",
    "\n",
    "$$\\frac{dy}{dx} = -2 x^3 + 12 x^2 - 20 x + 8.5$$\n",
    "\n",
    "en el rango $x=[0, 4]$, y con la condición inicial $x_0, y_0 = [0, 1]$.\n",
    "\n",
    "Estudie el efecto de tamaño de paso, empezando desde $h=0.5$.\n",
    "\n"
   ]
  },
  {
   "cell_type": "code",
   "execution_count": 3,
   "metadata": {},
   "outputs": [],
   "source": [
    "def f(x, y=None):\n",
    "    return -2*x**3 + 12*x**2 - 20*x + 8.5"
   ]
  },
  {
   "cell_type": "markdown",
   "metadata": {},
   "source": [
    "Compare sus resultados contra la solución exacta, que esta dada por:\n",
    "\n",
    "$$y = -0.5 x^4 + 4 x^3 - 10 x^2 + 8.5 x + 1$$"
   ]
  },
  {
   "cell_type": "code",
   "execution_count": 4,
   "metadata": {},
   "outputs": [],
   "source": [
    "def F(x, y=None):\n",
    "    return -0.5*x**4 + 4*x**3 - 10*x**2 + 8.5*x + 1"
   ]
  },
  {
   "cell_type": "markdown",
   "metadata": {},
   "source": [
    "**Aplicación del método de Runge-Kutta 4**"
   ]
  },
  {
   "cell_type": "code",
   "execution_count": 5,
   "metadata": {},
   "outputs": [],
   "source": [
    "x_span = (0, 4)\n",
    "y0 = 1\n",
    "\n",
    "# Aplicando método a diferentes tamaños de paso\n",
    "X50, Y50 = rungeKutta4(f, y0, x_span, h=0.5) \n",
    "X25, Y25 = rungeKutta4(f, y0, x_span, h=0.25)\n",
    "X10, Y10 = rungeKutta4(f, y0, x_span, h=0.10)"
   ]
  },
  {
   "cell_type": "code",
   "execution_count": 13,
   "metadata": {},
   "outputs": [
    {
     "data": {
      "text/plain": [
       "array([1.     , 3.21875, 3.     , 2.21875, 2.     , 2.71875, 4.     ,\n",
       "       4.71875, 3.     ])"
      ]
     },
     "execution_count": 13,
     "metadata": {},
     "output_type": "execute_result"
    }
   ],
   "source": [
    "Y50"
   ]
  },
  {
   "cell_type": "markdown",
   "metadata": {},
   "source": [
    "**Análisis gráfico**"
   ]
  },
  {
   "cell_type": "code",
   "execution_count": 17,
   "metadata": {},
   "outputs": [
    {
     "data": {
      "image/png": "[encoded data removed]",
      "text/plain": [
       "<Figure size 600x400 with 1 Axes>"
      ]
     },
     "metadata": {},
     "output_type": "display_data"
    }
   ],
   "source": [
    "fig, ax = plt.subplots(figsize=(6, 4))\n",
    "x = np.linspace(0, 4, 100)\n",
    "ax.plot(x, F(x), label='Analítica')\n",
    "ax.plot(X50, Y50, ls='', marker='o', label='h=0.50')\n",
    "ax.plot(X25, Y25, ls='', marker='o', label='h=0.25')\n",
    "ax.plot(X10, Y10, ls='', marker='o', label='h=0.10')\n",
    "ax.legend()\n",
    "ax.set(xlabel='x', ylabel='y')\n",
    "ax.grid(ls='--')\n",
    "plt.show()"
   ]
  },
  {
   "cell_type": "markdown",
   "metadata": {},
   "source": [
    "**Análisis de error**"
   ]
  },
  {
   "cell_type": "code",
   "execution_count": 7,
   "metadata": {},
   "outputs": [
    {
     "name": "stdout",
     "output_type": "stream",
     "text": [
      "x\ty(true)\t\ty(Euler)\terror(%)\n",
      "0.00\t1.00000\t\t1.00000\t\t0.00\n",
      "0.50\t3.21875\t\t3.21875\t\t0.00\n",
      "1.00\t3.00000\t\t3.00000\t\t0.00\n",
      "1.50\t2.21875\t\t2.21875\t\t0.00\n",
      "2.00\t2.00000\t\t2.00000\t\t0.00\n",
      "2.50\t2.71875\t\t2.71875\t\t0.00\n",
      "3.00\t4.00000\t\t4.00000\t\t0.00\n",
      "3.50\t4.71875\t\t4.71875\t\t0.00\n",
      "4.00\t3.00000\t\t3.00000\t\t0.00\n"
     ]
    }
   ],
   "source": [
    "print(f\"x\\ty(true)\\t\\ty(Euler)\\terror(%)\")\n",
    "for xi, yi in zip(X50, Y50):\n",
    "    et = 100*(F(xi) - yi)/F(xi)\n",
    "    print(f\"{xi:.2f}\\t{F(xi):.5f}\\t\\t{yi:.5f}\\t\\t{et:.2f}\")"
   ]
  },
  {
   "cell_type": "markdown",
   "metadata": {},
   "source": [
    "### 5.2.3 Ejemplo utilizando la función `solve_ivp()` de la librería `scipy`"
   ]
  },
  {
   "cell_type": "code",
   "execution_count": 8,
   "metadata": {},
   "outputs": [
    {
     "name": "stdout",
     "output_type": "stream",
     "text": [
      "Help on function solve_ivp in module scipy.integrate._ivp.ivp:\n",
      "\n",
      "solve_ivp(fun, t_span, y0, method='RK45', t_eval=None, dense_output=False, events=None, vectorized=False, args=None, **options)\n",
      "    Solve an initial value problem for a system of ODEs.\n",
      "    \n",
      "    This function numerically integrates a system of ordinary differential\n",
      "    equations given an initial value::\n",
      "    \n",
      "        dy / dt = f(t, y)\n",
      "        y(t0) = y0\n",
      "    \n",
      "    Here t is a 1-D independent variable (time), y(t) is an\n",
      "    N-D vector-valued function (state), and an N-D\n",
      "    vector-valued function f(t, y) determines the differential equations.\n",
      "    The goal is to find y(t) approximately satisfying the differential\n",
      "    equations, given an initial value y(t0)=y0.\n",
      "    \n",
      "    Some of the solvers support integration in the complex domain, but note\n",
      "    that for stiff ODE solvers, the right-hand side must be\n",
      "    complex-differentiable (satisfy Cauchy-Riemann equations [11]_).\n",
      "    To solve a problem in the complex domain, pass y0 with a complex data type.\n",
      "    Another option always available is to rewrite your problem for real and\n",
      "    imaginary parts separately.\n",
      "    \n",
      "    Parameters\n",
      "    ----------\n",
      "    fun : callable\n",
      "        Right-hand side of the system: the time derivative of the state ``y``\n",
      "        at time ``t``. The calling signature is ``fun(t, y)``, where ``t`` is a\n",
      "        scalar and ``y`` is an ndarray with ``len(y) = len(y0)``. Additional\n",
      "        arguments need to be passed if ``args`` is used (see documentation of\n",
      "        ``args`` argument). ``fun`` must return an array of the same shape as\n",
      "        ``y``. See `vectorized` for more information.\n",
      "    t_span : 2-member sequence\n",
      "        Interval of integration (t0, tf). The solver starts with t=t0 and\n",
      "        integrates until it reaches t=tf. Both t0 and tf must be floats\n",
      "        or values interpretable by the float conversion function.\n",
      "    y0 : array_like, shape (n,)\n",
      "        Initial state. For problems in the complex domain, pass `y0` with a\n",
      "        complex data type (even if the initial value is purely real).\n",
      "    method : string or `OdeSolver`, optional\n",
      "        Integration method to use:\n",
      "    \n",
      "            * 'RK45' (default): Explicit Runge-Kutta method of order 5(4) [1]_.\n",
      "              The error is controlled assuming accuracy of the fourth-order\n",
      "              method, but steps are taken using the fifth-order accurate\n",
      "              formula (local extrapolation is done). A quartic interpolation\n",
      "              polynomial is used for the dense output [2]_. Can be applied in\n",
      "              the complex domain.\n",
      "            * 'RK23': Explicit Runge-Kutta method of order 3(2) [3]_. The error\n",
      "              is controlled assuming accuracy of the second-order method, but\n",
      "              steps are taken using the third-order accurate formula (local\n",
      "              extrapolation is done). A cubic Hermite polynomial is used for the\n",
      "              dense output. Can be applied in the complex domain.\n",
      "            * 'DOP853': Explicit Runge-Kutta method of order 8 [13]_.\n",
      "              Python implementation of the \"DOP853\" algorithm originally\n",
      "              written in Fortran [14]_. A 7-th order interpolation polynomial\n",
      "              accurate to 7-th order is used for the dense output.\n",
      "              Can be applied in the complex domain.\n",
      "            * 'Radau': Implicit Runge-Kutta method of the Radau IIA family of\n",
      "              order 5 [4]_. The error is controlled with a third-order accurate\n",
      "              embedded formula. A cubic polynomial which satisfies the\n",
      "              collocation conditions is used for the dense output.\n",
      "            * 'BDF': Implicit multi-step variable-order (1 to 5) method based\n",
      "              on a backward differentiation formula for the derivative\n",
      "              approximation [5]_. The implementation follows the one described\n",
      "              in [6]_. A quasi-constant step scheme is used and accuracy is\n",
      "              enhanced using the NDF modification. Can be applied in the\n",
      "              complex domain.\n",
      "            * 'LSODA': Adams/BDF method with automatic stiffness detection and\n",
      "              switching [7]_, [8]_. This is a wrapper of the Fortran solver\n",
      "              from ODEPACK.\n",
      "    \n",
      "        Explicit Runge-Kutta methods ('RK23', 'RK45', 'DOP853') should be used\n",
      "        for non-stiff problems and implicit methods ('Radau', 'BDF') for\n",
      "        stiff problems [9]_. Among Runge-Kutta methods, 'DOP853' is recommended\n",
      "        for solving with high precision (low values of `rtol` and `atol`).\n",
      "    \n",
      "        If not sure, first try to run 'RK45'. If it makes unusually many\n",
      "        iterations, diverges, or fails, your problem is likely to be stiff and\n",
      "        you should use 'Radau' or 'BDF'. 'LSODA' can also be a good universal\n",
      "        choice, but it might be somewhat less convenient to work with as it\n",
      "        wraps old Fortran code.\n",
      "    \n",
      "        You can also pass an arbitrary class derived from `OdeSolver` which\n",
      "        implements the solver.\n",
      "    t_eval : array_like or None, optional\n",
      "        Times at which to store the computed solution, must be sorted and lie\n",
      "        within `t_span`. If None (default), use points selected by the solver.\n",
      "    dense_output : bool, optional\n",
      "        Whether to compute a continuous solution. Default is False.\n",
      "    events : callable, or list of callables, optional\n",
      "        Events to track. If None (default), no events will be tracked.\n",
      "        Each event occurs at the zeros of a continuous function of time and\n",
      "        state. Each function must have the signature ``event(t, y)`` where\n",
      "        additional argument have to be passed if ``args`` is used (see\n",
      "        documentation of ``args`` argument). Each function must return a\n",
      "        float. The solver will find an accurate value of `t` at which\n",
      "        ``event(t, y(t)) = 0`` using a root-finding algorithm. By default,\n",
      "        all zeros will be found. The solver looks for a sign change over\n",
      "        each step, so if multiple zero crossings occur within one step,\n",
      "        events may be missed. Additionally each `event` function might\n",
      "        have the following attributes:\n",
      "    \n",
      "            terminal: bool or int, optional\n",
      "                When boolean, whether to terminate integration if this event occurs.\n",
      "                When integral, termination occurs after the specified the number of\n",
      "                occurrences of this event.\n",
      "                Implicitly False if not assigned.\n",
      "            direction: float, optional\n",
      "                Direction of a zero crossing. If `direction` is positive,\n",
      "                `event` will only trigger when going from negative to positive,\n",
      "                and vice versa if `direction` is negative. If 0, then either\n",
      "                direction will trigger event. Implicitly 0 if not assigned.\n",
      "    \n",
      "        You can assign attributes like ``event.terminal = True`` to any\n",
      "        function in Python.\n",
      "    vectorized : bool, optional\n",
      "        Whether `fun` can be called in a vectorized fashion. Default is False.\n",
      "    \n",
      "        If ``vectorized`` is False, `fun` will always be called with ``y`` of\n",
      "        shape ``(n,)``, where ``n = len(y0)``.\n",
      "    \n",
      "        If ``vectorized`` is True, `fun` may be called with ``y`` of shape\n",
      "        ``(n, k)``, where ``k`` is an integer. In this case, `fun` must behave\n",
      "        such that ``fun(t, y)[:, i] == fun(t, y[:, i])`` (i.e. each column of\n",
      "        the returned array is the time derivative of the state corresponding\n",
      "        with a column of ``y``).\n",
      "    \n",
      "        Setting ``vectorized=True`` allows for faster finite difference\n",
      "        approximation of the Jacobian by methods 'Radau' and 'BDF', but\n",
      "        will result in slower execution for other methods and for 'Radau' and\n",
      "        'BDF' in some circumstances (e.g. small ``len(y0)``).\n",
      "    args : tuple, optional\n",
      "        Additional arguments to pass to the user-defined functions.  If given,\n",
      "        the additional arguments are passed to all user-defined functions.\n",
      "        So if, for example, `fun` has the signature ``fun(t, y, a, b, c)``,\n",
      "        then `jac` (if given) and any event functions must have the same\n",
      "        signature, and `args` must be a tuple of length 3.\n",
      "    **options\n",
      "        Options passed to a chosen solver. All options available for already\n",
      "        implemented solvers are listed below.\n",
      "    first_step : float or None, optional\n",
      "        Initial step size. Default is `None` which means that the algorithm\n",
      "        should choose.\n",
      "    max_step : float, optional\n",
      "        Maximum allowed step size. Default is np.inf, i.e., the step size is not\n",
      "        bounded and determined solely by the solver.\n",
      "    rtol, atol : float or array_like, optional\n",
      "        Relative and absolute tolerances. The solver keeps the local error\n",
      "        estimates less than ``atol + rtol * abs(y)``. Here `rtol` controls a\n",
      "        relative accuracy (number of correct digits), while `atol` controls\n",
      "        absolute accuracy (number of correct decimal places). To achieve the\n",
      "        desired `rtol`, set `atol` to be smaller than the smallest value that\n",
      "        can be expected from ``rtol * abs(y)`` so that `rtol` dominates the\n",
      "        allowable error. If `atol` is larger than ``rtol * abs(y)`` the\n",
      "        number of correct digits is not guaranteed. Conversely, to achieve the\n",
      "        desired `atol` set `rtol` such that ``rtol * abs(y)`` is always smaller\n",
      "        than `atol`. If components of y have different scales, it might be\n",
      "        beneficial to set different `atol` values for different components by\n",
      "        passing array_like with shape (n,) for `atol`. Default values are\n",
      "        1e-3 for `rtol` and 1e-6 for `atol`.\n",
      "    jac : array_like, sparse_matrix, callable or None, optional\n",
      "        Jacobian matrix of the right-hand side of the system with respect\n",
      "        to y, required by the 'Radau', 'BDF' and 'LSODA' method. The\n",
      "        Jacobian matrix has shape (n, n) and its element (i, j) is equal to\n",
      "        ``d f_i / d y_j``.  There are three ways to define the Jacobian:\n",
      "    \n",
      "            * If array_like or sparse_matrix, the Jacobian is assumed to\n",
      "              be constant. Not supported by 'LSODA'.\n",
      "            * If callable, the Jacobian is assumed to depend on both\n",
      "              t and y; it will be called as ``jac(t, y)``, as necessary.\n",
      "              Additional arguments have to be passed if ``args`` is\n",
      "              used (see documentation of ``args`` argument).\n",
      "              For 'Radau' and 'BDF' methods, the return value might be a\n",
      "              sparse matrix.\n",
      "            * If None (default), the Jacobian will be approximated by\n",
      "              finite differences.\n",
      "    \n",
      "        It is generally recommended to provide the Jacobian rather than\n",
      "        relying on a finite-difference approximation.\n",
      "    jac_sparsity : array_like, sparse matrix or None, optional\n",
      "        Defines a sparsity structure of the Jacobian matrix for a finite-\n",
      "        difference approximation. Its shape must be (n, n). This argument\n",
      "        is ignored if `jac` is not `None`. If the Jacobian has only few\n",
      "        non-zero elements in *each* row, providing the sparsity structure\n",
      "        will greatly speed up the computations [10]_. A zero entry means that\n",
      "        a corresponding element in the Jacobian is always zero. If None\n",
      "        (default), the Jacobian is assumed to be dense.\n",
      "        Not supported by 'LSODA', see `lband` and `uband` instead.\n",
      "    lband, uband : int or None, optional\n",
      "        Parameters defining the bandwidth of the Jacobian for the 'LSODA'\n",
      "        method, i.e., ``jac[i, j] != 0 only for i - lband <= j <= i + uband``.\n",
      "        Default is None. Setting these requires your jac routine to return the\n",
      "        Jacobian in the packed format: the returned array must have ``n``\n",
      "        columns and ``uband + lband + 1`` rows in which Jacobian diagonals are\n",
      "        written. Specifically ``jac_packed[uband + i - j , j] = jac[i, j]``.\n",
      "        The same format is used in `scipy.linalg.solve_banded` (check for an\n",
      "        illustration).  These parameters can be also used with ``jac=None`` to\n",
      "        reduce the number of Jacobian elements estimated by finite differences.\n",
      "    min_step : float, optional\n",
      "        The minimum allowed step size for 'LSODA' method.\n",
      "        By default `min_step` is zero.\n",
      "    \n",
      "    Returns\n",
      "    -------\n",
      "    Bunch object with the following fields defined:\n",
      "    t : ndarray, shape (n_points,)\n",
      "        Time points.\n",
      "    y : ndarray, shape (n, n_points)\n",
      "        Values of the solution at `t`.\n",
      "    sol : `OdeSolution` or None\n",
      "        Found solution as `OdeSolution` instance; None if `dense_output` was\n",
      "        set to False.\n",
      "    t_events : list of ndarray or None\n",
      "        Contains for each event type a list of arrays at which an event of\n",
      "        that type event was detected. None if `events` was None.\n",
      "    y_events : list of ndarray or None\n",
      "        For each value of `t_events`, the corresponding value of the solution.\n",
      "        None if `events` was None.\n",
      "    nfev : int\n",
      "        Number of evaluations of the right-hand side.\n",
      "    njev : int\n",
      "        Number of evaluations of the Jacobian.\n",
      "    nlu : int\n",
      "        Number of LU decompositions.\n",
      "    status : int\n",
      "        Reason for algorithm termination:\n",
      "    \n",
      "            * -1: Integration step failed.\n",
      "            *  0: The solver successfully reached the end of `tspan`.\n",
      "            *  1: A termination event occurred.\n",
      "    \n",
      "    message : string\n",
      "        Human-readable description of the termination reason.\n",
      "    success : bool\n",
      "        True if the solver reached the interval end or a termination event\n",
      "        occurred (``status >= 0``).\n",
      "    \n",
      "    References\n",
      "    ----------\n",
      "    .. [1] J. R. Dormand, P. J. Prince, \"A family of embedded Runge-Kutta\n",
      "           formulae\", Journal of Computational and Applied Mathematics, Vol. 6,\n",
      "           No. 1, pp. 19-26, 1980.\n",
      "    .. [2] L. W. Shampine, \"Some Practical Runge-Kutta Formulas\", Mathematics\n",
      "           of Computation,, Vol. 46, No. 173, pp. 135-150, 1986.\n",
      "    .. [3] P. Bogacki, L.F. Shampine, \"A 3(2) Pair of Runge-Kutta Formulas\",\n",
      "           Appl. Math. Lett. Vol. 2, No. 4. pp. 321-325, 1989.\n",
      "    .. [4] E. Hairer, G. Wanner, \"Solving Ordinary Differential Equations II:\n",
      "           Stiff and Differential-Algebraic Problems\", Sec. IV.8.\n",
      "    .. [5] `Backward Differentiation Formula\n",
      "            <https://en.wikipedia.org/wiki/Backward_differentiation_formula>`_\n",
      "            on Wikipedia.\n",
      "    .. [6] L. F. Shampine, M. W. Reichelt, \"THE MATLAB ODE SUITE\", SIAM J. SCI.\n",
      "           COMPUTE., Vol. 18, No. 1, pp. 1-22, January 1997.\n",
      "    .. [7] A. C. Hindmarsh, \"ODEPACK, A Systematized Collection of ODE\n",
      "           Solvers,\" IMACS Transactions on Scientific Computation, Vol 1.,\n",
      "           pp. 55-64, 1983.\n",
      "    .. [8] L. Petzold, \"Automatic selection of methods for solving stiff and\n",
      "           nonstiff systems of ordinary differential equations\", SIAM Journal\n",
      "           on Scientific and Statistical Computing, Vol. 4, No. 1, pp. 136-148,\n",
      "           1983.\n",
      "    .. [9] `Stiff equation <https://en.wikipedia.org/wiki/Stiff_equation>`_ on\n",
      "           Wikipedia.\n",
      "    .. [10] A. Curtis, M. J. D. Powell, and J. Reid, \"On the estimation of\n",
      "            sparse Jacobian matrices\", Journal of the Institute of Mathematics\n",
      "            and its Applications, 13, pp. 117-120, 1974.\n",
      "    .. [11] `Cauchy-Riemann equations\n",
      "             <https://en.wikipedia.org/wiki/Cauchy-Riemann_equations>`_ on\n",
      "             Wikipedia.\n",
      "    .. [12] `Lotka-Volterra equations\n",
      "            <https://en.wikipedia.org/wiki/Lotka%E2%80%93Volterra_equations>`_\n",
      "            on Wikipedia.\n",
      "    .. [13] E. Hairer, S. P. Norsett G. Wanner, \"Solving Ordinary Differential\n",
      "            Equations I: Nonstiff Problems\", Sec. II.\n",
      "    .. [14] `Page with original Fortran code of DOP853\n",
      "            <http://www.unige.ch/~hairer/software.html>`_.\n",
      "    \n",
      "    Examples\n",
      "    --------\n",
      "    Basic exponential decay showing automatically chosen time points.\n",
      "    \n",
      "    >>> import numpy as np\n",
      "    >>> from scipy.integrate import solve_ivp\n",
      "    >>> def exponential_decay(t, y): return -0.5 * y\n",
      "    >>> sol = solve_ivp(exponential_decay, [0, 10], [2, 4, 8])\n",
      "    >>> print(sol.t)\n",
      "    [ 0.          0.11487653  1.26364188  3.06061781  4.81611105  6.57445806\n",
      "      8.33328988 10.        ]\n",
      "    >>> print(sol.y)\n",
      "    [[2.         1.88836035 1.06327177 0.43319312 0.18017253 0.07483045\n",
      "      0.03107158 0.01350781]\n",
      "     [4.         3.7767207  2.12654355 0.86638624 0.36034507 0.14966091\n",
      "      0.06214316 0.02701561]\n",
      "     [8.         7.5534414  4.25308709 1.73277247 0.72069014 0.29932181\n",
      "      0.12428631 0.05403123]]\n",
      "    \n",
      "    Specifying points where the solution is desired.\n",
      "    \n",
      "    >>> sol = solve_ivp(exponential_decay, [0, 10], [2, 4, 8],\n",
      "    ...                 t_eval=[0, 1, 2, 4, 10])\n",
      "    >>> print(sol.t)\n",
      "    [ 0  1  2  4 10]\n",
      "    >>> print(sol.y)\n",
      "    [[2.         1.21305369 0.73534021 0.27066736 0.01350938]\n",
      "     [4.         2.42610739 1.47068043 0.54133472 0.02701876]\n",
      "     [8.         4.85221478 2.94136085 1.08266944 0.05403753]]\n",
      "    \n",
      "    Cannon fired upward with terminal event upon impact. The ``terminal`` and\n",
      "    ``direction`` fields of an event are applied by monkey patching a function.\n",
      "    Here ``y[0]`` is position and ``y[1]`` is velocity. The projectile starts\n",
      "    at position 0 with velocity +10. Note that the integration never reaches\n",
      "    t=100 because the event is terminal.\n",
      "    \n",
      "    >>> def upward_cannon(t, y): return [y[1], -0.5]\n",
      "    >>> def hit_ground(t, y): return y[0]\n",
      "    >>> hit_ground.terminal = True\n",
      "    >>> hit_ground.direction = -1\n",
      "    >>> sol = solve_ivp(upward_cannon, [0, 100], [0, 10], events=hit_ground)\n",
      "    >>> print(sol.t_events)\n",
      "    [array([40.])]\n",
      "    >>> print(sol.t)\n",
      "    [0.00000000e+00 9.99900010e-05 1.09989001e-03 1.10988901e-02\n",
      "     1.11088891e-01 1.11098890e+00 1.11099890e+01 4.00000000e+01]\n",
      "    \n",
      "    Use `dense_output` and `events` to find position, which is 100, at the apex\n",
      "    of the cannonball's trajectory. Apex is not defined as terminal, so both\n",
      "    apex and hit_ground are found. There is no information at t=20, so the sol\n",
      "    attribute is used to evaluate the solution. The sol attribute is returned\n",
      "    by setting ``dense_output=True``. Alternatively, the `y_events` attribute\n",
      "    can be used to access the solution at the time of the event.\n",
      "    \n",
      "    >>> def apex(t, y): return y[1]\n",
      "    >>> sol = solve_ivp(upward_cannon, [0, 100], [0, 10],\n",
      "    ...                 events=(hit_ground, apex), dense_output=True)\n",
      "    >>> print(sol.t_events)\n",
      "    [array([40.]), array([20.])]\n",
      "    >>> print(sol.t)\n",
      "    [0.00000000e+00 9.99900010e-05 1.09989001e-03 1.10988901e-02\n",
      "     1.11088891e-01 1.11098890e+00 1.11099890e+01 4.00000000e+01]\n",
      "    >>> print(sol.sol(sol.t_events[1][0]))\n",
      "    [100.   0.]\n",
      "    >>> print(sol.y_events)\n",
      "    [array([[-5.68434189e-14, -1.00000000e+01]]),\n",
      "     array([[1.00000000e+02, 1.77635684e-15]])]\n",
      "    \n",
      "    As an example of a system with additional parameters, we'll implement\n",
      "    the Lotka-Volterra equations [12]_.\n",
      "    \n",
      "    >>> def lotkavolterra(t, z, a, b, c, d):\n",
      "    ...     x, y = z\n",
      "    ...     return [a*x - b*x*y, -c*y + d*x*y]\n",
      "    ...\n",
      "    \n",
      "    We pass in the parameter values a=1.5, b=1, c=3 and d=1 with the `args`\n",
      "    argument.\n",
      "    \n",
      "    >>> sol = solve_ivp(lotkavolterra, [0, 15], [10, 5], args=(1.5, 1, 3, 1),\n",
      "    ...                 dense_output=True)\n",
      "    \n",
      "    Compute a dense solution and plot it.\n",
      "    \n",
      "    >>> t = np.linspace(0, 15, 300)\n",
      "    >>> z = sol.sol(t)\n",
      "    >>> import matplotlib.pyplot as plt\n",
      "    >>> plt.plot(t, z.T)\n",
      "    >>> plt.xlabel('t')\n",
      "    >>> plt.legend(['x', 'y'], shadow=True)\n",
      "    >>> plt.title('Lotka-Volterra System')\n",
      "    >>> plt.show()\n",
      "    \n",
      "    A couple examples of using solve_ivp to solve the differential\n",
      "    equation ``y' = Ay`` with complex matrix ``A``.\n",
      "    \n",
      "    >>> A = np.array([[-0.25 + 0.14j, 0, 0.33 + 0.44j],\n",
      "    ...               [0.25 + 0.58j, -0.2 + 0.14j, 0],\n",
      "    ...               [0, 0.2 + 0.4j, -0.1 + 0.97j]])\n",
      "    \n",
      "    Solving an IVP with ``A`` from above and ``y`` as 3x1 vector:\n",
      "    \n",
      "    >>> def deriv_vec(t, y):\n",
      "    ...     return A @ y\n",
      "    >>> result = solve_ivp(deriv_vec, [0, 25],\n",
      "    ...                    np.array([10 + 0j, 20 + 0j, 30 + 0j]),\n",
      "    ...                    t_eval=np.linspace(0, 25, 101))\n",
      "    >>> print(result.y[:, 0])\n",
      "    [10.+0.j 20.+0.j 30.+0.j]\n",
      "    >>> print(result.y[:, -1])\n",
      "    [18.46291039+45.25653651j 10.01569306+36.23293216j\n",
      "     -4.98662741+80.07360388j]\n",
      "    \n",
      "    Solving an IVP with ``A`` from above with ``y`` as 3x3 matrix :\n",
      "    \n",
      "    >>> def deriv_mat(t, y):\n",
      "    ...     return (A @ y.reshape(3, 3)).flatten()\n",
      "    >>> y0 = np.array([[2 + 0j, 3 + 0j, 4 + 0j],\n",
      "    ...                [5 + 0j, 6 + 0j, 7 + 0j],\n",
      "    ...                [9 + 0j, 34 + 0j, 78 + 0j]])\n",
      "    \n",
      "    >>> result = solve_ivp(deriv_mat, [0, 25], y0.flatten(),\n",
      "    ...                    t_eval=np.linspace(0, 25, 101))\n",
      "    >>> print(result.y[:, 0].reshape(3, 3))\n",
      "    [[ 2.+0.j  3.+0.j  4.+0.j]\n",
      "     [ 5.+0.j  6.+0.j  7.+0.j]\n",
      "     [ 9.+0.j 34.+0.j 78.+0.j]]\n",
      "    >>> print(result.y[:, -1].reshape(3, 3))\n",
      "    [[  5.67451179 +12.07938445j  17.2888073  +31.03278837j\n",
      "        37.83405768 +63.25138759j]\n",
      "     [  3.39949503 +11.82123994j  21.32530996 +44.88668871j\n",
      "        53.17531184+103.80400411j]\n",
      "     [ -2.26105874 +22.19277664j -15.1255713  +70.19616341j\n",
      "       -38.34616845+153.29039931j]]\n",
      "\n"
     ]
    }
   ],
   "source": [
    "help(solve_ivp)"
   ]
  },
  {
   "cell_type": "markdown",
   "metadata": {},
   "source": [
    "#### 5.2.3.1 Ecuación polinómica"
   ]
  },
  {
   "cell_type": "markdown",
   "metadata": {},
   "source": [
    "Utilice el método de Euler para integrar numéricamente la ecuación:\n",
    "\n",
    "$$\\frac{dy}{dx} = -2 x^3 + 12 x^2 - 20 x + 8.5$$\n",
    "\n",
    "en el rango $x=[0, 4]$, y con la condición inicial $x_0, y_0 = [0, 1]$.\n",
    "\n",
    "Estudie el efecto de tamaño de paso, empezando desde $h=0.5$.\n",
    "\n"
   ]
  },
  {
   "cell_type": "code",
   "execution_count": 18,
   "metadata": {},
   "outputs": [],
   "source": [
    "def f(x, y=None):\n",
    "    return -2*x**3 + 12*x**2 - 20*x + 8.5"
   ]
  },
  {
   "cell_type": "markdown",
   "metadata": {},
   "source": [
    "Compare sus resultados contra la solución exacta, que esta dada por:\n",
    "\n",
    "$$y = -0.5 x^4 + 4 x^3 - 10 x^2 + 8.5 x + 1$$"
   ]
  },
  {
   "cell_type": "code",
   "execution_count": 19,
   "metadata": {},
   "outputs": [],
   "source": [
    "def F(x, y=None):\n",
    "    return -0.5*x**4 + 4*x**3 - 10*x**2 + 8.5*x + 1"
   ]
  },
  {
   "cell_type": "code",
   "execution_count": 20,
   "metadata": {},
   "outputs": [],
   "source": [
    "# solución de la ecuación diferencial ordinaria\n",
    "xy0 = [1]\n",
    "t_span = (0, 4)\n",
    "dx = 0.5\n",
    "t_eval = np.arange(t_span[0], t_span[1]+dx, dx)\n",
    "sol = solve_ivp(\n",
    "    f, \n",
    "    t_span, \n",
    "    y0=xy0, \n",
    "    method='RK45', \n",
    "    t_eval=t_eval\n",
    ")"
   ]
  },
  {
   "cell_type": "code",
   "execution_count": 21,
   "metadata": {},
   "outputs": [
    {
     "data": {
      "image/png": "[encoded data removed]",
      "text/plain": [
       "<Figure size 640x480 with 1 Axes>"
      ]
     },
     "metadata": {},
     "output_type": "display_data"
    }
   ],
   "source": [
    "# gráfico de resultados\n",
    "fig, ax = plt.subplots()\n",
    "x = np.linspace(0, 4, 100)\n",
    "ax.plot(x, F(x), label='analitica')\n",
    "ax.plot(sol.t, sol.y[0], ls='', marker='o', label='numérica')\n",
    "ax.set(xlabel='x', ylabel='y')\n",
    "ax.grid(ls='--')\n",
    "ax.legend()\n",
    "plt.show()"
   ]
  },
  {
   "cell_type": "code",
   "execution_count": null,
   "metadata": {},
   "outputs": [],
   "source": []
  }
 ],
 "metadata": {
  "kernelspec": {
   "display_name": "Python 3",
   "language": "python",
   "name": "python3"
  },
  "language_info": {
   "codemirror_mode": {
    "name": "ipython",
    "version": 3
   },
   "file_extension": ".py",
   "mimetype": "text/x-python",
   "name": "python",
   "nbconvert_exporter": "python",
   "pygments_lexer": "ipython3",
   "version": "3.10.12"
  }
 },
 "nbformat": 4,
 "nbformat_minor": 2
}
